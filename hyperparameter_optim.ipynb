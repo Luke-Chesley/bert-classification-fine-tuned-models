{
 "cells": [
  {
   "cell_type": "markdown",
   "metadata": {},
   "source": [
    "# Imports"
   ]
  },
  {
   "cell_type": "code",
   "execution_count": 1,
   "metadata": {},
   "outputs": [
    {
     "name": "stderr",
     "output_type": "stream",
     "text": [
      "2023-08-28 11:15:33.021902: I tensorflow/core/util/port.cc:110] oneDNN custom operations are on. You may see slightly different numerical results due to floating-point round-off errors from different computation orders. To turn them off, set the environment variable `TF_ENABLE_ONEDNN_OPTS=0`.\n",
      "2023-08-28 11:15:33.042579: I tensorflow/core/platform/cpu_feature_guard.cc:182] This TensorFlow binary is optimized to use available CPU instructions in performance-critical operations.\n",
      "To enable the following instructions: AVX2 AVX_VNNI FMA, in other operations, rebuild TensorFlow with the appropriate compiler flags.\n",
      "2023-08-28 11:15:33.348807: W tensorflow/compiler/tf2tensorrt/utils/py_utils.cc:38] TF-TRT Warning: Could not find TensorRT\n"
     ]
    }
   ],
   "source": [
    "%run local_functions.py\n",
    "from local_functions import *\n",
    "\n",
    "import pandas as pd\n",
    "import numpy as np\n",
    "import matplotlib.pyplot as plt\n",
    "import re\n",
    "\n",
    "\n",
    "from datasets import load_dataset\n",
    "from datasets import Dataset, DatasetDict\n",
    "from transformers import BertConfig, BertModel\n",
    "from transformers import DistilBertConfig, DistilBertModel\n",
    "\n",
    "\n",
    "from transformers import AutoTokenizer\n",
    "from transformers import AutoModelForSequenceClassification\n",
    "from transformers import AutoModelForTokenClassification\n",
    "\n",
    "from sklearn.metrics import f1_score, roc_auc_score, accuracy_score\n",
    "from transformers import EvalPrediction\n",
    "import torch\n",
    "from transformers import TrainingArguments, Trainer\n",
    "\n",
    "\n",
    "from sklearn.model_selection import train_test_split\n",
    "\n",
    "plt.style.use(\"dark_background\")\n",
    "\n",
    "pd.set_option(\"display.max_columns\", 2500)\n",
    "pd.set_option(\"display.max_rows\", 50)\n",
    "pd.set_option(\"display.max_colwidth\", 50)\n",
    "\n",
    "\n",
    "plt.style.use(\"dark_background\")\n",
    "\n",
    "%load_ext lab_black"
   ]
  },
  {
   "cell_type": "markdown",
   "metadata": {},
   "source": [
    "# Preprocess"
   ]
  },
  {
   "cell_type": "code",
   "execution_count": 2,
   "metadata": {},
   "outputs": [],
   "source": [
    "df = pd.read_parquet(\"datasets/amazon_reviews_multi-train.parquet\")\n",
    "\n",
    "df = df[[\"review_title\", \"review_body\", \"product_category\"]]\n",
    "\n",
    "for col in [\"review_title\", \"review_body\"]:\n",
    "    df[col] = df[col].apply(text_normalization_2)\n",
    "df[\"text\"] = df[\"review_title\"] + \" \" + df[\"review_body\"]\n",
    "\n",
    "df = df[[\"text\", \"product_category\"]]\n",
    "\n",
    "SAMPLE_SIZE = 10000\n",
    "\n",
    "df_results = df[0:SAMPLE_SIZE]\n",
    "\n",
    "df = df[0:SAMPLE_SIZE]\n",
    "\n",
    "encoded_df = pd.get_dummies(\n",
    "    df[\"product_category\"], columns=[\"product_category\"], prefix=\"\", prefix_sep=\"\"\n",
    ")\n",
    "encoded_df = encoded_df.astype(bool)\n",
    "df = pd.concat([df[\"text\"], encoded_df], axis=1)"
   ]
  },
  {
   "cell_type": "code",
   "execution_count": 3,
   "metadata": {},
   "outputs": [],
   "source": [
    "train_df, temp_df = train_test_split(df, test_size=0.3, random_state=42)\n",
    "valid_df, test_df = train_test_split(temp_df, test_size=0.5, random_state=42)\n",
    "\n",
    "# Convert the split DataFrames into Datasets\n",
    "train = Dataset.from_pandas(train_df, split=\"train\")\n",
    "valid = Dataset.from_pandas(valid_df, split=\"validation\")\n",
    "test = Dataset.from_pandas(test_df, split=\"test\")\n",
    "\n",
    "dataset = DatasetDict({\"train\": train, \"validation\": valid, \"test\": test})\n",
    "\n",
    "labels = [\n",
    "    label\n",
    "    for label in dataset[\"train\"].features.keys()\n",
    "    if label not in [\"text\", \"__index_level_0__\"]\n",
    "]\n",
    "id2label = {idx: label for idx, label in enumerate(labels)}\n",
    "label2id = {label: idx for idx, label in enumerate(labels)}"
   ]
  },
  {
   "cell_type": "markdown",
   "metadata": {},
   "source": [
    "# Tokenizer (Distilbert and Bert (RoBERTa too big for this GPU))"
   ]
  },
  {
   "cell_type": "code",
   "execution_count": 23,
   "metadata": {},
   "outputs": [],
   "source": [
    "models_to_test = [\"bert-base-uncased\", \"distilbert-base-uncased\"]\n",
    "model_n = 0"
   ]
  },
  {
   "cell_type": "code",
   "execution_count": 24,
   "metadata": {},
   "outputs": [
    {
     "data": {
      "application/vnd.jupyter.widget-view+json": {
       "model_id": "ff368e32604748c0b82bca7061c3038c",
       "version_major": 2,
       "version_minor": 0
      },
      "text/plain": [
       "Map:   0%|          | 0/7000 [00:00<?, ? examples/s]"
      ]
     },
     "metadata": {},
     "output_type": "display_data"
    },
    {
     "data": {
      "application/vnd.jupyter.widget-view+json": {
       "model_id": "3d181e75ffd24a8cb0e1f1f6bd288c77",
       "version_major": 2,
       "version_minor": 0
      },
      "text/plain": [
       "Map:   0%|          | 0/1500 [00:00<?, ? examples/s]"
      ]
     },
     "metadata": {},
     "output_type": "display_data"
    },
    {
     "data": {
      "application/vnd.jupyter.widget-view+json": {
       "model_id": "1e529ce37b3c43c594ababc30d202c3b",
       "version_major": 2,
       "version_minor": 0
      },
      "text/plain": [
       "Map:   0%|          | 0/1500 [00:00<?, ? examples/s]"
      ]
     },
     "metadata": {},
     "output_type": "display_data"
    }
   ],
   "source": [
    "tokenizer = AutoTokenizer.from_pretrained(models_to_test[model_n])\n",
    "\n",
    "\n",
    "def preprocess_data(examples):\n",
    "    # take a batch of texts\n",
    "    text = examples[\"text\"]\n",
    "    # encode them\n",
    "    encoding = tokenizer(text, padding=\"max_length\", truncation=True, max_length=256)\n",
    "    # add labels\n",
    "    labels_batch = {k: examples[k] for k in examples.keys() if k in labels}\n",
    "    # create numpy array of shape (batch_size, num_labels)\n",
    "    labels_matrix = np.zeros((len(text), len(labels)))\n",
    "    # fill numpy array\n",
    "    for idx, label in enumerate(labels):\n",
    "        labels_matrix[:, idx] = labels_batch[label]\n",
    "\n",
    "    encoding[\"labels\"] = labels_matrix.tolist()\n",
    "\n",
    "    return encoding\n",
    "\n",
    "\n",
    "encoded_dataset = dataset.map(\n",
    "    preprocess_data, batched=True, remove_columns=dataset[\"train\"].column_names\n",
    ")\n",
    "\n",
    "encoded_dataset.set_format(\"torch\")"
   ]
  },
  {
   "cell_type": "code",
   "execution_count": 25,
   "metadata": {},
   "outputs": [
    {
     "data": {
      "text/plain": [
       "DatasetDict({\n",
       "    train: Dataset({\n",
       "        features: ['input_ids', 'token_type_ids', 'attention_mask', 'labels'],\n",
       "        num_rows: 7000\n",
       "    })\n",
       "    validation: Dataset({\n",
       "        features: ['input_ids', 'token_type_ids', 'attention_mask', 'labels'],\n",
       "        num_rows: 1500\n",
       "    })\n",
       "    test: Dataset({\n",
       "        features: ['input_ids', 'token_type_ids', 'attention_mask', 'labels'],\n",
       "        num_rows: 1500\n",
       "    })\n",
       "})"
      ]
     },
     "execution_count": 25,
     "metadata": {},
     "output_type": "execute_result"
    }
   ],
   "source": [
    "encoded_dataset"
   ]
  },
  {
   "cell_type": "markdown",
   "metadata": {},
   "source": [
    "# Model"
   ]
  },
  {
   "cell_type": "code",
   "execution_count": 26,
   "metadata": {},
   "outputs": [
    {
     "name": "stderr",
     "output_type": "stream",
     "text": [
      "Some weights of BertForSequenceClassification were not initialized from the model checkpoint at bert-base-uncased and are newly initialized: ['classifier.bias', 'classifier.weight']\n",
      "You should probably TRAIN this model on a down-stream task to be able to use it for predictions and inference.\n"
     ]
    }
   ],
   "source": [
    "model = AutoModelForSequenceClassification.from_pretrained(\n",
    "    models_to_test[model_n],\n",
    "    problem_type=\"multi_label_classification\",\n",
    "    num_labels=len(labels),\n",
    "    id2label=id2label,\n",
    "    label2id=label2id,\n",
    ")"
   ]
  },
  {
   "cell_type": "code",
   "execution_count": 27,
   "metadata": {},
   "outputs": [],
   "source": [
    "batch_size = 8\n",
    "metric_name = \"f1\""
   ]
  },
  {
   "cell_type": "code",
   "execution_count": 28,
   "metadata": {},
   "outputs": [],
   "source": [
    "args = TrainingArguments(\n",
    "    f\"bert-finetuned-sem_eval-english\",\n",
    "    evaluation_strategy=\"epoch\",\n",
    "    save_strategy=\"epoch\",\n",
    "    learning_rate=2e-5,\n",
    "    per_device_train_batch_size=batch_size,\n",
    "    per_device_eval_batch_size=batch_size,\n",
    "    num_train_epochs=5,\n",
    "    weight_decay=0.01,\n",
    "    load_best_model_at_end=True,\n",
    "    metric_for_best_model=metric_name,\n",
    "    # push_to_hub=True,\n",
    ")"
   ]
  },
  {
   "cell_type": "code",
   "execution_count": 29,
   "metadata": {},
   "outputs": [],
   "source": [
    "def multi_label_metrics(predictions, labels, threshold=0.5):\n",
    "    # first, apply sigmoid on predictions which are of shape (batch_size, num_labels)\n",
    "    sigmoid = torch.nn.Sigmoid()\n",
    "    probs = sigmoid(torch.Tensor(predictions))\n",
    "    # next, use threshold to turn them into integer predictions\n",
    "    y_pred = np.zeros(probs.shape)\n",
    "    y_pred[np.where(probs >= threshold)] = 1\n",
    "    # finally, compute metrics\n",
    "    y_true = labels\n",
    "    f1_micro_average = f1_score(y_true=y_true, y_pred=y_pred, average=\"micro\")\n",
    "    roc_auc = roc_auc_score(y_true, y_pred, average=\"micro\")\n",
    "    accuracy = accuracy_score(y_true, y_pred)\n",
    "    # return as dictionary\n",
    "    metrics = {\"f1\": f1_micro_average, \"roc_auc\": roc_auc, \"accuracy\": accuracy}\n",
    "    return metrics\n",
    "\n",
    "\n",
    "def compute_metrics(p: EvalPrediction):\n",
    "    preds = p.predictions[0] if isinstance(p.predictions, tuple) else p.predictions\n",
    "    result = multi_label_metrics(predictions=preds, labels=p.label_ids)\n",
    "    return result"
   ]
  },
  {
   "cell_type": "code",
   "execution_count": 30,
   "metadata": {},
   "outputs": [],
   "source": [
    "trainer = Trainer(\n",
    "    model,\n",
    "    args,\n",
    "    train_dataset=encoded_dataset[\"train\"],\n",
    "    eval_dataset=encoded_dataset[\"validation\"],\n",
    "    tokenizer=tokenizer,\n",
    "    compute_metrics=compute_metrics,\n",
    ")"
   ]
  },
  {
   "cell_type": "code",
   "execution_count": 31,
   "metadata": {},
   "outputs": [
    {
     "name": "stderr",
     "output_type": "stream",
     "text": [
      "/home/luke/.local/lib/python3.10/site-packages/transformers/optimization.py:411: FutureWarning: This implementation of AdamW is deprecated and will be removed in a future version. Use the PyTorch implementation torch.optim.AdamW instead, or set `no_deprecation_warning=True` to disable this warning\n",
      "  warnings.warn(\n"
     ]
    },
    {
     "data": {
      "application/vnd.jupyter.widget-view+json": {
       "model_id": "5aac3805ae584db5baf35c70543826e6",
       "version_major": 2,
       "version_minor": 0
      },
      "text/plain": [
       "  0%|          | 0/4375 [00:00<?, ?it/s]"
      ]
     },
     "metadata": {},
     "output_type": "display_data"
    },
    {
     "name": "stderr",
     "output_type": "stream",
     "text": [
      "You're using a BertTokenizerFast tokenizer. Please note that with a fast tokenizer, using the `__call__` method is faster than using a method to encode the text followed by a call to the `pad` method to get a padded encoding.\n"
     ]
    },
    {
     "name": "stdout",
     "output_type": "stream",
     "text": [
      "{'loss': 0.1843, 'learning_rate': 1.7714285714285717e-05, 'epoch': 0.57}\n"
     ]
    },
    {
     "data": {
      "application/vnd.jupyter.widget-view+json": {
       "model_id": "f2a8663c3c324964949c7e33cd487c20",
       "version_major": 2,
       "version_minor": 0
      },
      "text/plain": [
       "  0%|          | 0/188 [00:00<?, ?it/s]"
      ]
     },
     "metadata": {},
     "output_type": "display_data"
    },
    {
     "name": "stdout",
     "output_type": "stream",
     "text": [
      "{'eval_loss': 0.13266749680042267, 'eval_f1': 0.0, 'eval_roc_auc': 0.5, 'eval_accuracy': 0.0, 'eval_runtime': 8.8686, 'eval_samples_per_second': 169.135, 'eval_steps_per_second': 21.198, 'epoch': 1.0}\n",
      "{'loss': 0.1329, 'learning_rate': 1.542857142857143e-05, 'epoch': 1.14}\n",
      "{'loss': 0.129, 'learning_rate': 1.3142857142857145e-05, 'epoch': 1.71}\n"
     ]
    },
    {
     "data": {
      "application/vnd.jupyter.widget-view+json": {
       "model_id": "10150775639548199cf6d7833ccfd11b",
       "version_major": 2,
       "version_minor": 0
      },
      "text/plain": [
       "  0%|          | 0/188 [00:00<?, ?it/s]"
      ]
     },
     "metadata": {},
     "output_type": "display_data"
    },
    {
     "name": "stdout",
     "output_type": "stream",
     "text": [
      "{'eval_loss': 0.12005826085805893, 'eval_f1': 0.0, 'eval_roc_auc': 0.5, 'eval_accuracy': 0.0, 'eval_runtime': 8.8641, 'eval_samples_per_second': 169.222, 'eval_steps_per_second': 21.209, 'epoch': 2.0}\n",
      "{'loss': 0.1201, 'learning_rate': 1.0857142857142858e-05, 'epoch': 2.29}\n",
      "{'loss': 0.1121, 'learning_rate': 8.571428571428571e-06, 'epoch': 2.86}\n"
     ]
    },
    {
     "data": {
      "application/vnd.jupyter.widget-view+json": {
       "model_id": "075a217520d7473aa64459cbbd8ed13b",
       "version_major": 2,
       "version_minor": 0
      },
      "text/plain": [
       "  0%|          | 0/188 [00:00<?, ?it/s]"
      ]
     },
     "metadata": {},
     "output_type": "display_data"
    },
    {
     "name": "stdout",
     "output_type": "stream",
     "text": [
      "{'eval_loss': 0.11134834587574005, 'eval_f1': 0.10880195599022005, 'eval_roc_auc': 0.5291444444444444, 'eval_accuracy': 0.059333333333333335, 'eval_runtime': 8.9834, 'eval_samples_per_second': 166.975, 'eval_steps_per_second': 20.928, 'epoch': 3.0}\n",
      "{'loss': 0.1036, 'learning_rate': 6.285714285714286e-06, 'epoch': 3.43}\n",
      "{'loss': 0.0995, 'learning_rate': 4.000000000000001e-06, 'epoch': 4.0}\n"
     ]
    },
    {
     "data": {
      "application/vnd.jupyter.widget-view+json": {
       "model_id": "503a4515928540b18b490ef9e16a0926",
       "version_major": 2,
       "version_minor": 0
      },
      "text/plain": [
       "  0%|          | 0/188 [00:00<?, ?it/s]"
      ]
     },
     "metadata": {},
     "output_type": "display_data"
    },
    {
     "name": "stdout",
     "output_type": "stream",
     "text": [
      "{'eval_loss': 0.10677630454301834, 'eval_f1': 0.1725129384703853, 'eval_roc_auc': 0.5490111111111111, 'eval_accuracy': 0.1, 'eval_runtime': 9.0153, 'eval_samples_per_second': 166.384, 'eval_steps_per_second': 20.853, 'epoch': 4.0}\n",
      "{'loss': 0.0926, 'learning_rate': 1.7142857142857145e-06, 'epoch': 4.57}\n"
     ]
    },
    {
     "data": {
      "application/vnd.jupyter.widget-view+json": {
       "model_id": "c17a538a543c4733a9380f4180f885cc",
       "version_major": 2,
       "version_minor": 0
      },
      "text/plain": [
       "  0%|          | 0/188 [00:00<?, ?it/s]"
      ]
     },
     "metadata": {},
     "output_type": "display_data"
    },
    {
     "name": "stdout",
     "output_type": "stream",
     "text": [
      "{'eval_loss': 0.1051199734210968, 'eval_f1': 0.1751740139211137, 'eval_roc_auc': 0.5495222222222222, 'eval_accuracy': 0.10066666666666667, 'eval_runtime': 8.9146, 'eval_samples_per_second': 168.264, 'eval_steps_per_second': 21.089, 'epoch': 5.0}\n",
      "{'train_runtime': 775.8621, 'train_samples_per_second': 45.111, 'train_steps_per_second': 5.639, 'train_loss': 0.11928219691685268, 'epoch': 5.0}\n"
     ]
    },
    {
     "data": {
      "text/plain": [
       "TrainOutput(global_step=4375, training_loss=0.11928219691685268, metrics={'train_runtime': 775.8621, 'train_samples_per_second': 45.111, 'train_steps_per_second': 5.639, 'train_loss': 0.11928219691685268, 'epoch': 5.0})"
      ]
     },
     "execution_count": 31,
     "metadata": {},
     "output_type": "execute_result"
    }
   ],
   "source": [
    "trainer.train()"
   ]
  },
  {
   "cell_type": "code",
   "execution_count": 35,
   "metadata": {},
   "outputs": [
    {
     "data": {
      "application/vnd.jupyter.widget-view+json": {
       "model_id": "8a2509a8759a4dbda503f0bfe31e1b25",
       "version_major": 2,
       "version_minor": 0
      },
      "text/plain": [
       "  0%|          | 0/188 [00:00<?, ?it/s]"
      ]
     },
     "metadata": {},
     "output_type": "display_data"
    },
    {
     "data": {
      "text/plain": [
       "{'eval_loss': 0.1051199734210968,\n",
       " 'eval_f1': 0.1751740139211137,\n",
       " 'eval_roc_auc': 0.5495222222222222,\n",
       " 'eval_accuracy': 0.10066666666666667,\n",
       " 'eval_runtime': 8.879,\n",
       " 'eval_samples_per_second': 168.937,\n",
       " 'eval_steps_per_second': 21.173,\n",
       " 'epoch': 5.0}"
      ]
     },
     "execution_count": 35,
     "metadata": {},
     "output_type": "execute_result"
    }
   ],
   "source": [
    "trainer.evaluate()"
   ]
  },
  {
   "cell_type": "code",
   "execution_count": 37,
   "metadata": {},
   "outputs": [],
   "source": [
    "# trainer.save_model(\"bert-finetuned-amazon-reviews-multi-train-10k\")"
   ]
  },
  {
   "cell_type": "markdown",
   "metadata": {},
   "source": [
    "# Distilbert 10k Eval - Training -> 6 min"
   ]
  },
  {
   "cell_type": "code",
   "execution_count": 16,
   "metadata": {},
   "outputs": [],
   "source": [
    "model1 = AutoModelForSequenceClassification.from_pretrained(\n",
    "    \"distilbert-finetuned-amazon-reviews-multi-train-10k\"\n",
    ")\n",
    "tokenizer = AutoTokenizer.from_pretrained(\"distilbert-base-uncased\")\n",
    "\n",
    "trainer1 = Trainer(model=model1, tokenizer=tokenizer)\n",
    "\n",
    "\n",
    "id2label = load_pickel(\"label_dicts/id2label.pkl\")"
   ]
  },
  {
   "cell_type": "code",
   "execution_count": 17,
   "metadata": {},
   "outputs": [],
   "source": [
    "df = read_in_and_normalize(\"datasets/amazon_reviews_multi-test.parquet\")\n",
    "df_test = df[[\"text\", \"product_category\"]]"
   ]
  },
  {
   "cell_type": "code",
   "execution_count": 18,
   "metadata": {},
   "outputs": [
    {
     "name": "stderr",
     "output_type": "stream",
     "text": [
      "/tmp/ipykernel_142542/1364755938.py:11: SettingWithCopyWarning: \n",
      "A value is trying to be set on a copy of a slice from a DataFrame.\n",
      "Try using .loc[row_indexer,col_indexer] = value instead\n",
      "\n",
      "See the caveats in the documentation: https://pandas.pydata.org/pandas-docs/stable/user_guide/indexing.html#returning-a-view-versus-a-copy\n",
      "  df_test[\"predicted_class\"] = df_test[\"text\"][:ROWS_TO_EVALUATE].apply(\n"
     ]
    },
    {
     "name": "stdout",
     "output_type": "stream",
     "text": [
      "Confidence Threshold: 0.1\n",
      "Percent of predictions that include correct class: 54.1%\n",
      "Multi_guess discount score: 47.27%\n",
      "Multi_positive_outcome discount score: 54.74%\n",
      "===========================================================================\n",
      "Confidence Threshold: 0.2\n",
      "Percent of predictions that include correct class: 45.44%\n",
      "Multi_guess discount score: 42.85%\n",
      "Multi_positive_outcome discount score: 55.46%\n",
      "===========================================================================\n",
      "Confidence Threshold: 0.3\n",
      "Percent of predictions that include correct class: 40.1%\n",
      "Multi_guess discount score: 38.99%\n",
      "Multi_positive_outcome discount score: 63.92%\n",
      "===========================================================================\n",
      "Confidence Threshold: 0.4\n",
      "Percent of predictions that include correct class: 34.64%\n",
      "Multi_guess discount score: 34.43%\n",
      "Multi_positive_outcome discount score: 70.96%\n",
      "===========================================================================\n",
      "Confidence Threshold: 0.5\n",
      "Percent of predictions that include correct class: 28.46%\n",
      "Multi_guess discount score: 28.45%\n",
      "Multi_positive_outcome discount score: 79.38%\n",
      "===========================================================================\n",
      "Confidence Threshold: 0.6\n",
      "Percent of predictions that include correct class: 23.5%\n",
      "Multi_guess discount score: 23.5%\n",
      "Multi_positive_outcome discount score: 86.06%\n",
      "===========================================================================\n",
      "Confidence Threshold: 0.7\n",
      "Percent of predictions that include correct class: 18.16%\n",
      "Multi_guess discount score: 18.16%\n",
      "Multi_positive_outcome discount score: 90.9%\n",
      "===========================================================================\n",
      "Confidence Threshold: 0.8\n",
      "Percent of predictions that include correct class: 12.34%\n",
      "Multi_guess discount score: 12.34%\n",
      "Multi_positive_outcome discount score: 95.48%\n",
      "===========================================================================\n",
      "Confidence Threshold: 0.9\n",
      "Percent of predictions that include correct class: 1.38%\n",
      "Multi_guess discount score: 1.38%\n",
      "Multi_positive_outcome discount score: 99.78%\n",
      "===========================================================================\n"
     ]
    },
    {
     "data": {
      "image/png": "[encoded data removed]",
      "text/plain": [
       "<Figure size 1000x600 with 1 Axes>"
      ]
     },
     "metadata": {},
     "output_type": "display_data"
    }
   ],
   "source": [
    "ROWS_TO_EVALUATE = len(df_test)\n",
    "TOP_N_PREDS = 5\n",
    "\n",
    "thresholds = []\n",
    "percent_correct_list = []\n",
    "percent_correct_discount_list = []\n",
    "percent_correct_non_preds_list = []\n",
    "\n",
    "\n",
    "for CONFIDENCE_THRESHOLD in [0.1, 0.2, 0.3, 0.4, 0.5, 0.6, 0.7, 0.8, 0.9]:\n",
    "    df_test[\"predicted_class\"] = df_test[\"text\"][:ROWS_TO_EVALUATE].apply(\n",
    "        predict_class, args=(tokenizer, trainer1, id2label, CONFIDENCE_THRESHOLD)\n",
    "    )\n",
    "\n",
    "    df_test[\"correct\"] = df_test[:ROWS_TO_EVALUATE].apply(\n",
    "        lambda row: int(row[\"product_category\"] in row[\"predicted_class\"]), axis=1\n",
    "    )\n",
    "\n",
    "    df_test[\"correct_w_discount\"] = df_test[:ROWS_TO_EVALUATE].apply(\n",
    "        multi_cat_guess_penalty, axis=1, args=(0.9,)\n",
    "    )\n",
    "\n",
    "    df_test[\"correct_w_non_preds\"] = df_test.apply(multi_positive_outcome, axis=1)\n",
    "\n",
    "    df_test[\"top_n_preds\"] = df_test[\"text\"][:ROWS_TO_EVALUATE].apply(\n",
    "        n_most_likely_classes, args=(tokenizer, trainer1, id2label, TOP_N_PREDS)\n",
    "    )\n",
    "\n",
    "    percent_correct = (df_test[\"correct\"].sum() / ROWS_TO_EVALUATE) * 100\n",
    "    percent_correct_discount = (\n",
    "        df_test[\"correct_w_discount\"].sum() / ROWS_TO_EVALUATE\n",
    "    ) * 100\n",
    "    percent_correct_non_preds = (\n",
    "        df_test[\"correct_w_non_preds\"].sum() / ROWS_TO_EVALUATE\n",
    "    ) * 100\n",
    "\n",
    "    thresholds.append(CONFIDENCE_THRESHOLD)\n",
    "    percent_correct_list.append(percent_correct)\n",
    "    percent_correct_discount_list.append(percent_correct_discount)\n",
    "    percent_correct_non_preds_list.append(percent_correct_non_preds)\n",
    "\n",
    "    print(f\"Confidence Threshold: {CONFIDENCE_THRESHOLD}\")\n",
    "    print(\n",
    "        f\"Percent of predictions that include correct class: {round(percent_correct, 2)}%\"\n",
    "    )\n",
    "    print(f\"Multi_guess discount score: {round(percent_correct_discount, 2)}%\")\n",
    "    print(\n",
    "        f\"Multi_positive_outcome discount score: {round(percent_correct_non_preds, 2)}%\"\n",
    "    )\n",
    "    print(\"=\" * 75)\n",
    "\n",
    "\n",
    "plt.figure(figsize=(10, 6))\n",
    "plt.plot(thresholds, percent_correct_list, marker=\"o\", label=\"Percent Correct\")\n",
    "plt.plot(\n",
    "    thresholds, percent_correct_discount_list, marker=\"o\", label=\"Multi-guess Discount\"\n",
    ")\n",
    "plt.plot(\n",
    "    thresholds,\n",
    "    percent_correct_non_preds_list,\n",
    "    marker=\"o\",\n",
    "    label=\"Multi-positive-outcome Discount\",\n",
    ")\n",
    "plt.xlabel(\"Confidence Threshold\")\n",
    "plt.ylabel(\"Percentage (%)\")\n",
    "plt.title(\"Effect of Confidence Threshold on Performance\")\n",
    "plt.legend()\n",
    "plt.grid(False)\n",
    "plt.show()"
   ]
  },
  {
   "cell_type": "markdown",
   "metadata": {},
   "source": [
    "# Bert 10k Eval - Training -> 12 mins"
   ]
  },
  {
   "cell_type": "code",
   "execution_count": 38,
   "metadata": {},
   "outputs": [],
   "source": [
    "model1 = AutoModelForSequenceClassification.from_pretrained(\n",
    "    \"bert-finetuned-amazon-reviews-multi-train-10k\"\n",
    ")\n",
    "tokenizer = AutoTokenizer.from_pretrained(\"distilbert-base-uncased\")\n",
    "\n",
    "trainer1 = Trainer(model=model1, tokenizer=tokenizer)\n",
    "\n",
    "\n",
    "id2label = load_pickel(\"label_dicts/id2label.pkl\")"
   ]
  },
  {
   "cell_type": "code",
   "execution_count": 39,
   "metadata": {},
   "outputs": [],
   "source": [
    "df = read_in_and_normalize(\"datasets/amazon_reviews_multi-test.parquet\")\n",
    "df_test = df[[\"text\", \"product_category\"]]"
   ]
  },
  {
   "cell_type": "code",
   "execution_count": 40,
   "metadata": {},
   "outputs": [
    {
     "name": "stderr",
     "output_type": "stream",
     "text": [
      "/tmp/ipykernel_142542/1364755938.py:11: SettingWithCopyWarning: \n",
      "A value is trying to be set on a copy of a slice from a DataFrame.\n",
      "Try using .loc[row_indexer,col_indexer] = value instead\n",
      "\n",
      "See the caveats in the documentation: https://pandas.pydata.org/pandas-docs/stable/user_guide/indexing.html#returning-a-view-versus-a-copy\n",
      "  df_test[\"predicted_class\"] = df_test[\"text\"][:ROWS_TO_EVALUATE].apply(\n"
     ]
    },
    {
     "name": "stdout",
     "output_type": "stream",
     "text": [
      "Confidence Threshold: 0.1\n",
      "Percent of predictions that include correct class: 54.78%\n",
      "Multi_guess discount score: 44.46%\n",
      "Multi_positive_outcome discount score: 56.84%\n",
      "===========================================================================\n",
      "Confidence Threshold: 0.2\n",
      "Percent of predictions that include correct class: 38.28%\n",
      "Multi_guess discount score: 36.55%\n",
      "Multi_positive_outcome discount score: 65.08%\n",
      "===========================================================================\n",
      "Confidence Threshold: 0.3\n",
      "Percent of predictions that include correct class: 26.22%\n",
      "Multi_guess discount score: 26.07%\n",
      "Multi_positive_outcome discount score: 81.88%\n",
      "===========================================================================\n",
      "Confidence Threshold: 0.4\n",
      "Percent of predictions that include correct class: 18.56%\n",
      "Multi_guess discount score: 18.56%\n",
      "Multi_positive_outcome discount score: 90.36%\n",
      "===========================================================================\n",
      "Confidence Threshold: 0.5\n",
      "Percent of predictions that include correct class: 12.32%\n",
      "Multi_guess discount score: 12.32%\n",
      "Multi_positive_outcome discount score: 94.86%\n",
      "===========================================================================\n",
      "Confidence Threshold: 0.6\n",
      "Percent of predictions that include correct class: 8.5%\n",
      "Multi_guess discount score: 8.5%\n",
      "Multi_positive_outcome discount score: 97.58%\n",
      "===========================================================================\n",
      "Confidence Threshold: 0.7\n",
      "Percent of predictions that include correct class: 2.76%\n",
      "Multi_guess discount score: 2.76%\n",
      "Multi_positive_outcome discount score: 99.6%\n",
      "===========================================================================\n",
      "Confidence Threshold: 0.8\n",
      "Percent of predictions that include correct class: 0.0%\n",
      "Multi_guess discount score: 0.0%\n",
      "Multi_positive_outcome discount score: 100.0%\n",
      "===========================================================================\n",
      "Confidence Threshold: 0.9\n",
      "Percent of predictions that include correct class: 0.0%\n",
      "Multi_guess discount score: 0.0%\n",
      "Multi_positive_outcome discount score: 100.0%\n",
      "===========================================================================\n"
     ]
    },
    {
     "data": {
      "image/png": "[encoded data removed]",
      "text/plain": [
       "<Figure size 1000x600 with 1 Axes>"
      ]
     },
     "metadata": {},
     "output_type": "display_data"
    }
   ],
   "source": [
    "ROWS_TO_EVALUATE = len(df_test)\n",
    "TOP_N_PREDS = 5\n",
    "\n",
    "thresholds = []\n",
    "percent_correct_list = []\n",
    "percent_correct_discount_list = []\n",
    "percent_correct_non_preds_list = []\n",
    "\n",
    "\n",
    "for CONFIDENCE_THRESHOLD in [0.1, 0.2, 0.3, 0.4, 0.5, 0.6, 0.7, 0.8, 0.9]:\n",
    "    df_test[\"predicted_class\"] = df_test[\"text\"][:ROWS_TO_EVALUATE].apply(\n",
    "        predict_class, args=(tokenizer, trainer1, id2label, CONFIDENCE_THRESHOLD)\n",
    "    )\n",
    "\n",
    "    df_test[\"correct\"] = df_test[:ROWS_TO_EVALUATE].apply(\n",
    "        lambda row: int(row[\"product_category\"] in row[\"predicted_class\"]), axis=1\n",
    "    )\n",
    "\n",
    "    df_test[\"correct_w_discount\"] = df_test[:ROWS_TO_EVALUATE].apply(\n",
    "        multi_cat_guess_penalty, axis=1, args=(0.9,)\n",
    "    )\n",
    "\n",
    "    df_test[\"correct_w_non_preds\"] = df_test.apply(multi_positive_outcome, axis=1)\n",
    "\n",
    "    df_test[\"top_n_preds\"] = df_test[\"text\"][:ROWS_TO_EVALUATE].apply(\n",
    "        n_most_likely_classes, args=(tokenizer, trainer1, id2label, TOP_N_PREDS)\n",
    "    )\n",
    "\n",
    "    percent_correct = (df_test[\"correct\"].sum() / ROWS_TO_EVALUATE) * 100\n",
    "    percent_correct_discount = (\n",
    "        df_test[\"correct_w_discount\"].sum() / ROWS_TO_EVALUATE\n",
    "    ) * 100\n",
    "    percent_correct_non_preds = (\n",
    "        df_test[\"correct_w_non_preds\"].sum() / ROWS_TO_EVALUATE\n",
    "    ) * 100\n",
    "\n",
    "    thresholds.append(CONFIDENCE_THRESHOLD)\n",
    "    percent_correct_list.append(percent_correct)\n",
    "    percent_correct_discount_list.append(percent_correct_discount)\n",
    "    percent_correct_non_preds_list.append(percent_correct_non_preds)\n",
    "\n",
    "    print(f\"Confidence Threshold: {CONFIDENCE_THRESHOLD}\")\n",
    "    print(\n",
    "        f\"Percent of predictions that include correct class: {round(percent_correct, 2)}%\"\n",
    "    )\n",
    "    print(f\"Multi_guess discount score: {round(percent_correct_discount, 2)}%\")\n",
    "    print(\n",
    "        f\"Multi_positive_outcome discount score: {round(percent_correct_non_preds, 2)}%\"\n",
    "    )\n",
    "    print(\"=\" * 75)\n",
    "\n",
    "\n",
    "plt.figure(figsize=(10, 6))\n",
    "plt.plot(thresholds, percent_correct_list, marker=\"o\", label=\"Percent Correct\")\n",
    "plt.plot(\n",
    "    thresholds, percent_correct_discount_list, marker=\"o\", label=\"Multi-guess Discount\"\n",
    ")\n",
    "plt.plot(\n",
    "    thresholds,\n",
    "    percent_correct_non_preds_list,\n",
    "    marker=\"o\",\n",
    "    label=\"Multi-positive-outcome Discount\",\n",
    ")\n",
    "plt.xlabel(\"Confidence Threshold\")\n",
    "plt.ylabel(\"Percentage (%)\")\n",
    "plt.title(\"Effect of Confidence Threshold on Performance\")\n",
    "plt.legend()\n",
    "plt.grid(False)\n",
    "plt.show()"
   ]
  },
  {
   "cell_type": "code",
   "execution_count": null,
   "metadata": {},
   "outputs": [],
   "source": []
  },
  {
   "cell_type": "code",
   "execution_count": null,
   "metadata": {},
   "outputs": [],
   "source": []
  },
  {
   "cell_type": "code",
   "execution_count": null,
   "metadata": {},
   "outputs": [],
   "source": []
  },
  {
   "cell_type": "code",
   "execution_count": null,
   "metadata": {},
   "outputs": [],
   "source": []
  }
 ],
 "metadata": {
  "kernelspec": {
   "display_name": "Python 3",
   "language": "python",
   "name": "python3"
  },
  "language_info": {
   "codemirror_mode": {
    "name": "ipython",
    "version": 3
   },
   "file_extension": ".py",
   "mimetype": "text/x-python",
   "name": "python",
   "nbconvert_exporter": "python",
   "pygments_lexer": "ipython3",
   "version": "3.10.12"
  },
  "orig_nbformat": 4
 },
 "nbformat": 4,
 "nbformat_minor": 2
}
