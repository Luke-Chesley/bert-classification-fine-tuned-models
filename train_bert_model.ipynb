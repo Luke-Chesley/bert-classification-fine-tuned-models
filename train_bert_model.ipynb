{
 "cells": [
  {
   "cell_type": "code",
   "execution_count": 1,
   "metadata": {},
   "outputs": [
    {
     "name": "stderr",
     "output_type": "stream",
     "text": [
      "2023-09-05 09:17:32.070605: I tensorflow/core/util/port.cc:110] oneDNN custom operations are on. You may see slightly different numerical results due to floating-point round-off errors from different computation orders. To turn them off, set the environment variable `TF_ENABLE_ONEDNN_OPTS=0`.\n",
      "2023-09-05 09:17:32.091798: I tensorflow/core/platform/cpu_feature_guard.cc:182] This TensorFlow binary is optimized to use available CPU instructions in performance-critical operations.\n",
      "To enable the following instructions: AVX2 AVX_VNNI FMA, in other operations, rebuild TensorFlow with the appropriate compiler flags.\n",
      "2023-09-05 09:17:32.405110: W tensorflow/compiler/tf2tensorrt/utils/py_utils.cc:38] TF-TRT Warning: Could not find TensorRT\n"
     ]
    }
   ],
   "source": [
    "import pandas as pd\n",
    "import numpy as np\n",
    "import matplotlib.pyplot as plt\n",
    "import re\n",
    "\n",
    "\n",
    "from datasets import load_dataset\n",
    "from datasets import Dataset, DatasetDict\n",
    "from transformers import BertConfig, BertModel\n",
    "\n",
    "\n",
    "from transformers import AutoTokenizer\n",
    "from transformers import AutoModelForSequenceClassification\n",
    "\n",
    "from sklearn.metrics import f1_score, roc_auc_score, accuracy_score\n",
    "from transformers import EvalPrediction\n",
    "import torch\n",
    "from transformers import TrainingArguments, Trainer\n",
    "\n",
    "\n",
    "from sklearn.model_selection import train_test_split\n",
    "\n",
    "import pickle\n",
    "\n",
    "\n",
    "plt.style.use(\"dark_background\")\n",
    "\n",
    "pd.set_option(\"display.max_columns\", 2500)\n",
    "pd.set_option(\"display.max_rows\", 50)\n",
    "pd.set_option(\"display.max_colwidth\", 500)\n",
    "\n",
    "\n",
    "plt.style.use(\"dark_background\")\n",
    "\n",
    "%load_ext lab_black\n",
    "\n",
    "\n",
    "def text_normalization(string):\n",
    "    string = string.lower()\n",
    "    string = re.sub(r\"[^a-zA-Z0-9\\s]\", \" \", string)\n",
    "    string = re.sub(r\"\\n\", \" \", string)\n",
    "    string = re.sub(r\"\\s+\", \" \", string)\n",
    "    string = string.strip()\n",
    "    return string\n",
    "\n",
    "\n",
    "df = pd.read_parquet(\"datasets/amazon_reviews_multi-train.parquet\")\n",
    "\n",
    "df = df[[\"review_title\", \"review_body\", \"product_category\"]]\n",
    "\n",
    "# le = LabelEncoder()\n",
    "\n",
    "# df[\"product_class\"] = le.fit_transform(df[\"product_category\"])\n",
    "\n",
    "for col in [\"review_title\", \"review_body\"]:\n",
    "    df[col] = df[col].apply(text_normalization)\n",
    "\n",
    "\n",
    "df[\"text\"] = df[\"review_title\"] + \" \" + df[\"review_body\"]\n",
    "\n",
    "df = df[[\"text\", \"product_category\"]]\n",
    "\n",
    "SAMPLE_SIZE = 10000\n",
    "\n",
    "df_results = df[0:SAMPLE_SIZE]\n",
    "\n",
    "df = df[0:SAMPLE_SIZE]"
   ]
  },
  {
   "cell_type": "code",
   "execution_count": 2,
   "metadata": {},
   "outputs": [],
   "source": [
    "encoded_df = pd.get_dummies(\n",
    "    df[\"product_category\"], columns=[\"product_category\"], prefix=\"\", prefix_sep=\"\"\n",
    ")\n",
    "encoded_df = encoded_df.astype(bool)\n",
    "df = pd.concat([df[\"text\"], encoded_df], axis=1)"
   ]
  },
  {
   "cell_type": "markdown",
   "metadata": {},
   "source": [
    "# Make into Dataset"
   ]
  },
  {
   "cell_type": "code",
   "execution_count": 3,
   "metadata": {},
   "outputs": [
    {
     "data": {
      "text/html": [
       "<div>\n",
       "<style scoped>\n",
       "    .dataframe tbody tr th:only-of-type {\n",
       "        vertical-align: middle;\n",
       "    }\n",
       "\n",
       "    .dataframe tbody tr th {\n",
       "        vertical-align: top;\n",
       "    }\n",
       "\n",
       "    .dataframe thead th {\n",
       "        text-align: right;\n",
       "    }\n",
       "</style>\n",
       "<table border=\"1\" class=\"dataframe\">\n",
       "  <thead>\n",
       "    <tr style=\"text-align: right;\">\n",
       "      <th></th>\n",
       "      <th>apparel</th>\n",
       "      <th>automotive</th>\n",
       "      <th>baby_product</th>\n",
       "      <th>beauty</th>\n",
       "      <th>book</th>\n",
       "      <th>camera</th>\n",
       "      <th>digital_ebook_purchase</th>\n",
       "      <th>digital_video_download</th>\n",
       "      <th>drugstore</th>\n",
       "      <th>electronics</th>\n",
       "      <th>furniture</th>\n",
       "      <th>grocery</th>\n",
       "      <th>home</th>\n",
       "      <th>home_improvement</th>\n",
       "      <th>industrial_supplies</th>\n",
       "      <th>jewelry</th>\n",
       "      <th>kitchen</th>\n",
       "      <th>lawn_and_garden</th>\n",
       "      <th>luggage</th>\n",
       "      <th>musical_instruments</th>\n",
       "      <th>office_product</th>\n",
       "      <th>other</th>\n",
       "      <th>pc</th>\n",
       "      <th>personal_care_appliances</th>\n",
       "      <th>pet_products</th>\n",
       "      <th>shoes</th>\n",
       "      <th>sports</th>\n",
       "      <th>toy</th>\n",
       "      <th>video_games</th>\n",
       "      <th>watch</th>\n",
       "      <th>wireless</th>\n",
       "    </tr>\n",
       "  </thead>\n",
       "  <tbody>\n",
       "    <tr>\n",
       "      <th>0</th>\n",
       "      <td>False</td>\n",
       "      <td>False</td>\n",
       "      <td>False</td>\n",
       "      <td>False</td>\n",
       "      <td>False</td>\n",
       "      <td>False</td>\n",
       "      <td>False</td>\n",
       "      <td>False</td>\n",
       "      <td>False</td>\n",
       "      <td>False</td>\n",
       "      <td>True</td>\n",
       "      <td>False</td>\n",
       "      <td>False</td>\n",
       "      <td>False</td>\n",
       "      <td>False</td>\n",
       "      <td>False</td>\n",
       "      <td>False</td>\n",
       "      <td>False</td>\n",
       "      <td>False</td>\n",
       "      <td>False</td>\n",
       "      <td>False</td>\n",
       "      <td>False</td>\n",
       "      <td>False</td>\n",
       "      <td>False</td>\n",
       "      <td>False</td>\n",
       "      <td>False</td>\n",
       "      <td>False</td>\n",
       "      <td>False</td>\n",
       "      <td>False</td>\n",
       "      <td>False</td>\n",
       "      <td>False</td>\n",
       "    </tr>\n",
       "    <tr>\n",
       "      <th>1</th>\n",
       "      <td>False</td>\n",
       "      <td>False</td>\n",
       "      <td>False</td>\n",
       "      <td>False</td>\n",
       "      <td>False</td>\n",
       "      <td>False</td>\n",
       "      <td>False</td>\n",
       "      <td>False</td>\n",
       "      <td>False</td>\n",
       "      <td>False</td>\n",
       "      <td>False</td>\n",
       "      <td>False</td>\n",
       "      <td>False</td>\n",
       "      <td>True</td>\n",
       "      <td>False</td>\n",
       "      <td>False</td>\n",
       "      <td>False</td>\n",
       "      <td>False</td>\n",
       "      <td>False</td>\n",
       "      <td>False</td>\n",
       "      <td>False</td>\n",
       "      <td>False</td>\n",
       "      <td>False</td>\n",
       "      <td>False</td>\n",
       "      <td>False</td>\n",
       "      <td>False</td>\n",
       "      <td>False</td>\n",
       "      <td>False</td>\n",
       "      <td>False</td>\n",
       "      <td>False</td>\n",
       "      <td>False</td>\n",
       "    </tr>\n",
       "    <tr>\n",
       "      <th>2</th>\n",
       "      <td>False</td>\n",
       "      <td>False</td>\n",
       "      <td>False</td>\n",
       "      <td>False</td>\n",
       "      <td>False</td>\n",
       "      <td>False</td>\n",
       "      <td>False</td>\n",
       "      <td>False</td>\n",
       "      <td>False</td>\n",
       "      <td>False</td>\n",
       "      <td>False</td>\n",
       "      <td>False</td>\n",
       "      <td>True</td>\n",
       "      <td>False</td>\n",
       "      <td>False</td>\n",
       "      <td>False</td>\n",
       "      <td>False</td>\n",
       "      <td>False</td>\n",
       "      <td>False</td>\n",
       "      <td>False</td>\n",
       "      <td>False</td>\n",
       "      <td>False</td>\n",
       "      <td>False</td>\n",
       "      <td>False</td>\n",
       "      <td>False</td>\n",
       "      <td>False</td>\n",
       "      <td>False</td>\n",
       "      <td>False</td>\n",
       "      <td>False</td>\n",
       "      <td>False</td>\n",
       "      <td>False</td>\n",
       "    </tr>\n",
       "    <tr>\n",
       "      <th>3</th>\n",
       "      <td>False</td>\n",
       "      <td>False</td>\n",
       "      <td>False</td>\n",
       "      <td>False</td>\n",
       "      <td>False</td>\n",
       "      <td>False</td>\n",
       "      <td>False</td>\n",
       "      <td>False</td>\n",
       "      <td>False</td>\n",
       "      <td>False</td>\n",
       "      <td>False</td>\n",
       "      <td>False</td>\n",
       "      <td>False</td>\n",
       "      <td>False</td>\n",
       "      <td>False</td>\n",
       "      <td>False</td>\n",
       "      <td>False</td>\n",
       "      <td>False</td>\n",
       "      <td>False</td>\n",
       "      <td>False</td>\n",
       "      <td>False</td>\n",
       "      <td>False</td>\n",
       "      <td>False</td>\n",
       "      <td>False</td>\n",
       "      <td>False</td>\n",
       "      <td>False</td>\n",
       "      <td>False</td>\n",
       "      <td>False</td>\n",
       "      <td>False</td>\n",
       "      <td>False</td>\n",
       "      <td>True</td>\n",
       "    </tr>\n",
       "    <tr>\n",
       "      <th>4</th>\n",
       "      <td>False</td>\n",
       "      <td>False</td>\n",
       "      <td>False</td>\n",
       "      <td>False</td>\n",
       "      <td>False</td>\n",
       "      <td>False</td>\n",
       "      <td>False</td>\n",
       "      <td>False</td>\n",
       "      <td>False</td>\n",
       "      <td>False</td>\n",
       "      <td>False</td>\n",
       "      <td>False</td>\n",
       "      <td>False</td>\n",
       "      <td>False</td>\n",
       "      <td>False</td>\n",
       "      <td>False</td>\n",
       "      <td>False</td>\n",
       "      <td>False</td>\n",
       "      <td>False</td>\n",
       "      <td>False</td>\n",
       "      <td>False</td>\n",
       "      <td>False</td>\n",
       "      <td>True</td>\n",
       "      <td>False</td>\n",
       "      <td>False</td>\n",
       "      <td>False</td>\n",
       "      <td>False</td>\n",
       "      <td>False</td>\n",
       "      <td>False</td>\n",
       "      <td>False</td>\n",
       "      <td>False</td>\n",
       "    </tr>\n",
       "    <tr>\n",
       "      <th>...</th>\n",
       "      <td>...</td>\n",
       "      <td>...</td>\n",
       "      <td>...</td>\n",
       "      <td>...</td>\n",
       "      <td>...</td>\n",
       "      <td>...</td>\n",
       "      <td>...</td>\n",
       "      <td>...</td>\n",
       "      <td>...</td>\n",
       "      <td>...</td>\n",
       "      <td>...</td>\n",
       "      <td>...</td>\n",
       "      <td>...</td>\n",
       "      <td>...</td>\n",
       "      <td>...</td>\n",
       "      <td>...</td>\n",
       "      <td>...</td>\n",
       "      <td>...</td>\n",
       "      <td>...</td>\n",
       "      <td>...</td>\n",
       "      <td>...</td>\n",
       "      <td>...</td>\n",
       "      <td>...</td>\n",
       "      <td>...</td>\n",
       "      <td>...</td>\n",
       "      <td>...</td>\n",
       "      <td>...</td>\n",
       "      <td>...</td>\n",
       "      <td>...</td>\n",
       "      <td>...</td>\n",
       "      <td>...</td>\n",
       "    </tr>\n",
       "    <tr>\n",
       "      <th>9995</th>\n",
       "      <td>False</td>\n",
       "      <td>False</td>\n",
       "      <td>False</td>\n",
       "      <td>False</td>\n",
       "      <td>False</td>\n",
       "      <td>False</td>\n",
       "      <td>False</td>\n",
       "      <td>False</td>\n",
       "      <td>False</td>\n",
       "      <td>True</td>\n",
       "      <td>False</td>\n",
       "      <td>False</td>\n",
       "      <td>False</td>\n",
       "      <td>False</td>\n",
       "      <td>False</td>\n",
       "      <td>False</td>\n",
       "      <td>False</td>\n",
       "      <td>False</td>\n",
       "      <td>False</td>\n",
       "      <td>False</td>\n",
       "      <td>False</td>\n",
       "      <td>False</td>\n",
       "      <td>False</td>\n",
       "      <td>False</td>\n",
       "      <td>False</td>\n",
       "      <td>False</td>\n",
       "      <td>False</td>\n",
       "      <td>False</td>\n",
       "      <td>False</td>\n",
       "      <td>False</td>\n",
       "      <td>False</td>\n",
       "    </tr>\n",
       "    <tr>\n",
       "      <th>9996</th>\n",
       "      <td>False</td>\n",
       "      <td>False</td>\n",
       "      <td>False</td>\n",
       "      <td>False</td>\n",
       "      <td>False</td>\n",
       "      <td>False</td>\n",
       "      <td>False</td>\n",
       "      <td>False</td>\n",
       "      <td>False</td>\n",
       "      <td>False</td>\n",
       "      <td>False</td>\n",
       "      <td>False</td>\n",
       "      <td>False</td>\n",
       "      <td>False</td>\n",
       "      <td>False</td>\n",
       "      <td>False</td>\n",
       "      <td>False</td>\n",
       "      <td>False</td>\n",
       "      <td>False</td>\n",
       "      <td>False</td>\n",
       "      <td>False</td>\n",
       "      <td>False</td>\n",
       "      <td>True</td>\n",
       "      <td>False</td>\n",
       "      <td>False</td>\n",
       "      <td>False</td>\n",
       "      <td>False</td>\n",
       "      <td>False</td>\n",
       "      <td>False</td>\n",
       "      <td>False</td>\n",
       "      <td>False</td>\n",
       "    </tr>\n",
       "    <tr>\n",
       "      <th>9997</th>\n",
       "      <td>False</td>\n",
       "      <td>False</td>\n",
       "      <td>False</td>\n",
       "      <td>False</td>\n",
       "      <td>False</td>\n",
       "      <td>False</td>\n",
       "      <td>False</td>\n",
       "      <td>False</td>\n",
       "      <td>True</td>\n",
       "      <td>False</td>\n",
       "      <td>False</td>\n",
       "      <td>False</td>\n",
       "      <td>False</td>\n",
       "      <td>False</td>\n",
       "      <td>False</td>\n",
       "      <td>False</td>\n",
       "      <td>False</td>\n",
       "      <td>False</td>\n",
       "      <td>False</td>\n",
       "      <td>False</td>\n",
       "      <td>False</td>\n",
       "      <td>False</td>\n",
       "      <td>False</td>\n",
       "      <td>False</td>\n",
       "      <td>False</td>\n",
       "      <td>False</td>\n",
       "      <td>False</td>\n",
       "      <td>False</td>\n",
       "      <td>False</td>\n",
       "      <td>False</td>\n",
       "      <td>False</td>\n",
       "    </tr>\n",
       "    <tr>\n",
       "      <th>9998</th>\n",
       "      <td>False</td>\n",
       "      <td>False</td>\n",
       "      <td>False</td>\n",
       "      <td>False</td>\n",
       "      <td>False</td>\n",
       "      <td>False</td>\n",
       "      <td>False</td>\n",
       "      <td>False</td>\n",
       "      <td>False</td>\n",
       "      <td>False</td>\n",
       "      <td>False</td>\n",
       "      <td>False</td>\n",
       "      <td>False</td>\n",
       "      <td>False</td>\n",
       "      <td>False</td>\n",
       "      <td>False</td>\n",
       "      <td>False</td>\n",
       "      <td>False</td>\n",
       "      <td>False</td>\n",
       "      <td>False</td>\n",
       "      <td>False</td>\n",
       "      <td>True</td>\n",
       "      <td>False</td>\n",
       "      <td>False</td>\n",
       "      <td>False</td>\n",
       "      <td>False</td>\n",
       "      <td>False</td>\n",
       "      <td>False</td>\n",
       "      <td>False</td>\n",
       "      <td>False</td>\n",
       "      <td>False</td>\n",
       "    </tr>\n",
       "    <tr>\n",
       "      <th>9999</th>\n",
       "      <td>False</td>\n",
       "      <td>False</td>\n",
       "      <td>False</td>\n",
       "      <td>True</td>\n",
       "      <td>False</td>\n",
       "      <td>False</td>\n",
       "      <td>False</td>\n",
       "      <td>False</td>\n",
       "      <td>False</td>\n",
       "      <td>False</td>\n",
       "      <td>False</td>\n",
       "      <td>False</td>\n",
       "      <td>False</td>\n",
       "      <td>False</td>\n",
       "      <td>False</td>\n",
       "      <td>False</td>\n",
       "      <td>False</td>\n",
       "      <td>False</td>\n",
       "      <td>False</td>\n",
       "      <td>False</td>\n",
       "      <td>False</td>\n",
       "      <td>False</td>\n",
       "      <td>False</td>\n",
       "      <td>False</td>\n",
       "      <td>False</td>\n",
       "      <td>False</td>\n",
       "      <td>False</td>\n",
       "      <td>False</td>\n",
       "      <td>False</td>\n",
       "      <td>False</td>\n",
       "      <td>False</td>\n",
       "    </tr>\n",
       "  </tbody>\n",
       "</table>\n",
       "<p>10000 rows × 31 columns</p>\n",
       "</div>"
      ],
      "text/plain": [
       "      apparel  automotive  baby_product  beauty   book  camera  \\\n",
       "0       False       False         False   False  False   False   \n",
       "1       False       False         False   False  False   False   \n",
       "2       False       False         False   False  False   False   \n",
       "3       False       False         False   False  False   False   \n",
       "4       False       False         False   False  False   False   \n",
       "...       ...         ...           ...     ...    ...     ...   \n",
       "9995    False       False         False   False  False   False   \n",
       "9996    False       False         False   False  False   False   \n",
       "9997    False       False         False   False  False   False   \n",
       "9998    False       False         False   False  False   False   \n",
       "9999    False       False         False    True  False   False   \n",
       "\n",
       "      digital_ebook_purchase  digital_video_download  drugstore  electronics  \\\n",
       "0                      False                   False      False        False   \n",
       "1                      False                   False      False        False   \n",
       "2                      False                   False      False        False   \n",
       "3                      False                   False      False        False   \n",
       "4                      False                   False      False        False   \n",
       "...                      ...                     ...        ...          ...   \n",
       "9995                   False                   False      False         True   \n",
       "9996                   False                   False      False        False   \n",
       "9997                   False                   False       True        False   \n",
       "9998                   False                   False      False        False   \n",
       "9999                   False                   False      False        False   \n",
       "\n",
       "      furniture  grocery   home  home_improvement  industrial_supplies  \\\n",
       "0          True    False  False             False                False   \n",
       "1         False    False  False              True                False   \n",
       "2         False    False   True             False                False   \n",
       "3         False    False  False             False                False   \n",
       "4         False    False  False             False                False   \n",
       "...         ...      ...    ...               ...                  ...   \n",
       "9995      False    False  False             False                False   \n",
       "9996      False    False  False             False                False   \n",
       "9997      False    False  False             False                False   \n",
       "9998      False    False  False             False                False   \n",
       "9999      False    False  False             False                False   \n",
       "\n",
       "      jewelry  kitchen  lawn_and_garden  luggage  musical_instruments  \\\n",
       "0       False    False            False    False                False   \n",
       "1       False    False            False    False                False   \n",
       "2       False    False            False    False                False   \n",
       "3       False    False            False    False                False   \n",
       "4       False    False            False    False                False   \n",
       "...       ...      ...              ...      ...                  ...   \n",
       "9995    False    False            False    False                False   \n",
       "9996    False    False            False    False                False   \n",
       "9997    False    False            False    False                False   \n",
       "9998    False    False            False    False                False   \n",
       "9999    False    False            False    False                False   \n",
       "\n",
       "      office_product  other     pc  personal_care_appliances  pet_products  \\\n",
       "0              False  False  False                     False         False   \n",
       "1              False  False  False                     False         False   \n",
       "2              False  False  False                     False         False   \n",
       "3              False  False  False                     False         False   \n",
       "4              False  False   True                     False         False   \n",
       "...              ...    ...    ...                       ...           ...   \n",
       "9995           False  False  False                     False         False   \n",
       "9996           False  False   True                     False         False   \n",
       "9997           False  False  False                     False         False   \n",
       "9998           False   True  False                     False         False   \n",
       "9999           False  False  False                     False         False   \n",
       "\n",
       "      shoes  sports    toy  video_games  watch  wireless  \n",
       "0     False   False  False        False  False     False  \n",
       "1     False   False  False        False  False     False  \n",
       "2     False   False  False        False  False     False  \n",
       "3     False   False  False        False  False      True  \n",
       "4     False   False  False        False  False     False  \n",
       "...     ...     ...    ...          ...    ...       ...  \n",
       "9995  False   False  False        False  False     False  \n",
       "9996  False   False  False        False  False     False  \n",
       "9997  False   False  False        False  False     False  \n",
       "9998  False   False  False        False  False     False  \n",
       "9999  False   False  False        False  False     False  \n",
       "\n",
       "[10000 rows x 31 columns]"
      ]
     },
     "execution_count": 3,
     "metadata": {},
     "output_type": "execute_result"
    }
   ],
   "source": [
    "encoded_df"
   ]
  },
  {
   "cell_type": "code",
   "execution_count": 4,
   "metadata": {},
   "outputs": [],
   "source": [
    "train_df, temp_df = train_test_split(df, test_size=0.3, random_state=42)\n",
    "valid_df, test_df = train_test_split(temp_df, test_size=0.5, random_state=42)\n",
    "\n",
    "# Convert the split DataFrames into Datasets\n",
    "train = Dataset.from_pandas(train_df, split=\"train\")\n",
    "valid = Dataset.from_pandas(valid_df, split=\"validation\")\n",
    "test = Dataset.from_pandas(test_df, split=\"test\")\n",
    "\n",
    "dataset = DatasetDict({\"train\": train, \"validation\": valid, \"test\": test})"
   ]
  },
  {
   "cell_type": "code",
   "execution_count": 5,
   "metadata": {},
   "outputs": [],
   "source": [
    "labels = [\n",
    "    label\n",
    "    for label in dataset[\"train\"].features.keys()\n",
    "    if label not in [\"text\", \"__index_level_0__\"]\n",
    "]\n",
    "id2label = {idx: label for idx, label in enumerate(labels)}\n",
    "label2id = {label: idx for idx, label in enumerate(labels)}"
   ]
  },
  {
   "cell_type": "code",
   "execution_count": 6,
   "metadata": {},
   "outputs": [],
   "source": [
    "# with open(\"label_dicts/id2label.pkl\", \"wb\") as f:\n",
    "#  pickle.dump(id2label, f)\n",
    "\n",
    "# with open(\"label_dicts/label2id.pkl\", \"wb\") as f:\n",
    "#   pickle.dump(label2id, f)"
   ]
  },
  {
   "cell_type": "code",
   "execution_count": 6,
   "metadata": {},
   "outputs": [],
   "source": [
    "tokenizer = AutoTokenizer.from_pretrained(\"bert-base-uncased\")"
   ]
  },
  {
   "cell_type": "code",
   "execution_count": 7,
   "metadata": {},
   "outputs": [],
   "source": [
    "def preprocess_data(examples):\n",
    "    # take a batch of texts\n",
    "    text = examples[\"text\"]\n",
    "    # encode them\n",
    "    encoding = tokenizer(text, padding=\"max_length\", truncation=True, max_length=256)\n",
    "    # add labels\n",
    "    labels_batch = {k: examples[k] for k in examples.keys() if k in labels}\n",
    "    # create numpy array of shape (batch_size, num_labels)\n",
    "    labels_matrix = np.zeros((len(text), len(labels)))\n",
    "    # fill numpy array\n",
    "    for idx, label in enumerate(labels):\n",
    "        labels_matrix[:, idx] = labels_batch[label]\n",
    "\n",
    "    encoding[\"labels\"] = labels_matrix.tolist()\n",
    "\n",
    "    return encoding"
   ]
  },
  {
   "cell_type": "code",
   "execution_count": 8,
   "metadata": {},
   "outputs": [
    {
     "data": {
      "application/vnd.jupyter.widget-view+json": {
       "model_id": "3e0bc1693a5d43e682cf9db7c273b9b5",
       "version_major": 2,
       "version_minor": 0
      },
      "text/plain": [
       "Map:   0%|          | 0/7000 [00:00<?, ? examples/s]"
      ]
     },
     "metadata": {},
     "output_type": "display_data"
    },
    {
     "data": {
      "application/vnd.jupyter.widget-view+json": {
       "model_id": "dbd3c2c4c6184c9e87e26bb06eec31df",
       "version_major": 2,
       "version_minor": 0
      },
      "text/plain": [
       "Map:   0%|          | 0/1500 [00:00<?, ? examples/s]"
      ]
     },
     "metadata": {},
     "output_type": "display_data"
    },
    {
     "data": {
      "application/vnd.jupyter.widget-view+json": {
       "model_id": "31cba43958db4c3f89ab0f12f71825e6",
       "version_major": 2,
       "version_minor": 0
      },
      "text/plain": [
       "Map:   0%|          | 0/1500 [00:00<?, ? examples/s]"
      ]
     },
     "metadata": {},
     "output_type": "display_data"
    }
   ],
   "source": [
    "encoded_dataset = dataset.map(\n",
    "    preprocess_data, batched=True, remove_columns=dataset[\"train\"].column_names\n",
    ")"
   ]
  },
  {
   "cell_type": "code",
   "execution_count": 9,
   "metadata": {},
   "outputs": [
    {
     "data": {
      "text/plain": [
       "DatasetDict({\n",
       "    train: Dataset({\n",
       "        features: ['input_ids', 'token_type_ids', 'attention_mask', 'labels'],\n",
       "        num_rows: 7000\n",
       "    })\n",
       "    validation: Dataset({\n",
       "        features: ['input_ids', 'token_type_ids', 'attention_mask', 'labels'],\n",
       "        num_rows: 1500\n",
       "    })\n",
       "    test: Dataset({\n",
       "        features: ['input_ids', 'token_type_ids', 'attention_mask', 'labels'],\n",
       "        num_rows: 1500\n",
       "    })\n",
       "})"
      ]
     },
     "execution_count": 9,
     "metadata": {},
     "output_type": "execute_result"
    }
   ],
   "source": [
    "encoded_dataset"
   ]
  },
  {
   "cell_type": "code",
   "execution_count": 10,
   "metadata": {},
   "outputs": [],
   "source": [
    "example = encoded_dataset[\"train\"][0]"
   ]
  },
  {
   "cell_type": "code",
   "execution_count": 11,
   "metadata": {},
   "outputs": [
    {
     "data": {
      "text/plain": [
       "'[CLS] way too quiet i want to love this because skip hop makes amazing products but this white noise machine is way too quiet i can hardly hear anything coming out i got a few white noise machines and this one is by far the quietest the hatch which is not portable is nice and loud i got another travel white noise machine on amazon that looked like a little bunny and it s nice and loud i don t know why this machine is so quiet i regret buying it but that s probably why it was affordable [SEP] [PAD] [PAD] [PAD] [PAD] [PAD] [PAD] [PAD] [PAD] [PAD] [PAD] [PAD] [PAD] [PAD] [PAD] [PAD] [PAD] [PAD] [PAD] [PAD] [PAD] [PAD] [PAD] [PAD] [PAD] [PAD] [PAD] [PAD] [PAD] [PAD] [PAD] [PAD] [PAD] [PAD] [PAD] [PAD] [PAD] [PAD] [PAD] [PAD] [PAD] [PAD] [PAD] [PAD] [PAD] [PAD] [PAD] [PAD] [PAD] [PAD] [PAD] [PAD] [PAD] [PAD] [PAD] [PAD] [PAD] [PAD] [PAD] [PAD] [PAD] [PAD] [PAD] [PAD] [PAD] [PAD] [PAD] [PAD] [PAD] [PAD] [PAD] [PAD] [PAD] [PAD] [PAD] [PAD] [PAD] [PAD] [PAD] [PAD] [PAD] [PAD] [PAD] [PAD] [PAD] [PAD] [PAD] [PAD] [PAD] [PAD] [PAD] [PAD] [PAD] [PAD] [PAD] [PAD] [PAD] [PAD] [PAD] [PAD] [PAD] [PAD] [PAD] [PAD] [PAD] [PAD] [PAD] [PAD] [PAD] [PAD] [PAD] [PAD] [PAD] [PAD] [PAD] [PAD] [PAD] [PAD] [PAD] [PAD] [PAD] [PAD] [PAD] [PAD] [PAD] [PAD] [PAD] [PAD] [PAD] [PAD] [PAD] [PAD] [PAD] [PAD] [PAD] [PAD] [PAD] [PAD] [PAD] [PAD] [PAD] [PAD] [PAD] [PAD] [PAD] [PAD] [PAD] [PAD] [PAD] [PAD] [PAD] [PAD] [PAD] [PAD] [PAD] [PAD]'"
      ]
     },
     "execution_count": 11,
     "metadata": {},
     "output_type": "execute_result"
    }
   ],
   "source": [
    "tokenizer.decode(example[\"input_ids\"])"
   ]
  },
  {
   "cell_type": "code",
   "execution_count": 12,
   "metadata": {},
   "outputs": [
    {
     "data": {
      "text/plain": [
       "[0.0,\n",
       " 0.0,\n",
       " 1.0,\n",
       " 0.0,\n",
       " 0.0,\n",
       " 0.0,\n",
       " 0.0,\n",
       " 0.0,\n",
       " 0.0,\n",
       " 0.0,\n",
       " 0.0,\n",
       " 0.0,\n",
       " 0.0,\n",
       " 0.0,\n",
       " 0.0,\n",
       " 0.0,\n",
       " 0.0,\n",
       " 0.0,\n",
       " 0.0,\n",
       " 0.0,\n",
       " 0.0,\n",
       " 0.0,\n",
       " 0.0,\n",
       " 0.0,\n",
       " 0.0,\n",
       " 0.0,\n",
       " 0.0,\n",
       " 0.0,\n",
       " 0.0,\n",
       " 0.0,\n",
       " 0.0]"
      ]
     },
     "execution_count": 12,
     "metadata": {},
     "output_type": "execute_result"
    }
   ],
   "source": [
    "example[\"labels\"]"
   ]
  },
  {
   "cell_type": "code",
   "execution_count": 13,
   "metadata": {},
   "outputs": [],
   "source": [
    "encoded_dataset.set_format(\"torch\")"
   ]
  },
  {
   "cell_type": "code",
   "execution_count": 14,
   "metadata": {},
   "outputs": [
    {
     "name": "stderr",
     "output_type": "stream",
     "text": [
      "Some weights of BertForSequenceClassification were not initialized from the model checkpoint at bert-base-uncased and are newly initialized: ['classifier.bias', 'classifier.weight']\n",
      "You should probably TRAIN this model on a down-stream task to be able to use it for predictions and inference.\n"
     ]
    }
   ],
   "source": [
    "model = AutoModelForSequenceClassification.from_pretrained(\n",
    "    \"bert-base-uncased\",\n",
    "    problem_type=\"multi_label_classification\",\n",
    "    num_labels=len(labels),\n",
    "    id2label=id2label,\n",
    "    label2id=label2id,\n",
    ")"
   ]
  },
  {
   "cell_type": "code",
   "execution_count": 15,
   "metadata": {},
   "outputs": [],
   "source": [
    "batch_size = 8\n",
    "metric_name = \"f1\""
   ]
  },
  {
   "cell_type": "code",
   "execution_count": 16,
   "metadata": {},
   "outputs": [],
   "source": [
    "args = TrainingArguments(\n",
    "    f\"bert-finetuned-sem_eval-english\",\n",
    "    evaluation_strategy=\"epoch\",\n",
    "    save_strategy=\"epoch\",\n",
    "    learning_rate=2e-5,\n",
    "    per_device_train_batch_size=batch_size,\n",
    "    per_device_eval_batch_size=batch_size,\n",
    "    num_train_epochs=5,\n",
    "    weight_decay=0.01,\n",
    "    load_best_model_at_end=True,\n",
    "    metric_for_best_model=metric_name,\n",
    "    # push_to_hub=True,\n",
    ")"
   ]
  },
  {
   "cell_type": "code",
   "execution_count": 17,
   "metadata": {},
   "outputs": [],
   "source": [
    "def multi_label_metrics(predictions, labels, threshold=0.5):\n",
    "    # first, apply sigmoid on predictions which are of shape (batch_size, num_labels)\n",
    "    sigmoid = torch.nn.Sigmoid()\n",
    "    probs = sigmoid(torch.Tensor(predictions))\n",
    "    # next, use threshold to turn them into integer predictions\n",
    "    y_pred = np.zeros(probs.shape)\n",
    "    y_pred[np.where(probs >= threshold)] = 1\n",
    "    # finally, compute metrics\n",
    "    y_true = labels\n",
    "    f1_micro_average = f1_score(y_true=y_true, y_pred=y_pred, average=\"micro\")\n",
    "    roc_auc = roc_auc_score(y_true, y_pred, average=\"micro\")\n",
    "    accuracy = accuracy_score(y_true, y_pred)\n",
    "    # return as dictionary\n",
    "    metrics = {\"f1\": f1_micro_average, \"roc_auc\": roc_auc, \"accuracy\": accuracy}\n",
    "    return metrics\n",
    "\n",
    "\n",
    "def compute_metrics(p: EvalPrediction):\n",
    "    preds = p.predictions[0] if isinstance(p.predictions, tuple) else p.predictions\n",
    "    result = multi_label_metrics(predictions=preds, labels=p.label_ids)\n",
    "    return result"
   ]
  },
  {
   "cell_type": "code",
   "execution_count": 18,
   "metadata": {},
   "outputs": [
    {
     "data": {
      "text/plain": [
       "'torch.FloatTensor'"
      ]
     },
     "execution_count": 18,
     "metadata": {},
     "output_type": "execute_result"
    }
   ],
   "source": [
    "encoded_dataset[\"train\"][0][\"labels\"].type()"
   ]
  },
  {
   "cell_type": "code",
   "execution_count": 19,
   "metadata": {},
   "outputs": [
    {
     "data": {
      "text/plain": [
       "tensor([  101,  2126,  2205,  4251,  1045,  2215,  2000,  2293,  2023,  2138,\n",
       "        13558,  6154,  3084,  6429,  3688,  2021,  2023,  2317,  5005,  3698,\n",
       "         2003,  2126,  2205,  4251,  1045,  2064,  6684,  2963,  2505,  2746,\n",
       "         2041,  1045,  2288,  1037,  2261,  2317,  5005,  6681,  1998,  2023,\n",
       "         2028,  2003,  2011,  2521,  1996,  4251,  4355,  1996, 11300,  2029,\n",
       "         2003,  2025, 12109,  2003,  3835,  1998,  5189,  1045,  2288,  2178,\n",
       "         3604,  2317,  5005,  3698,  2006,  9733,  2008,  2246,  2066,  1037,\n",
       "         2210, 16291,  1998,  2009,  1055,  3835,  1998,  5189,  1045,  2123,\n",
       "         1056,  2113,  2339,  2023,  3698,  2003,  2061,  4251,  1045,  9038,\n",
       "         9343,  2009,  2021,  2008,  1055,  2763,  2339,  2009,  2001, 15184,\n",
       "          102,     0,     0,     0,     0,     0,     0,     0,     0,     0,\n",
       "            0,     0,     0,     0,     0,     0,     0,     0,     0,     0,\n",
       "            0,     0,     0,     0,     0,     0,     0,     0,     0,     0,\n",
       "            0,     0,     0,     0,     0,     0,     0,     0,     0,     0,\n",
       "            0,     0,     0,     0,     0,     0,     0,     0,     0,     0,\n",
       "            0,     0,     0,     0,     0,     0,     0,     0,     0,     0,\n",
       "            0,     0,     0,     0,     0,     0,     0,     0,     0,     0,\n",
       "            0,     0,     0,     0,     0,     0,     0,     0,     0,     0,\n",
       "            0,     0,     0,     0,     0,     0,     0,     0,     0,     0,\n",
       "            0,     0,     0,     0,     0,     0,     0,     0,     0,     0,\n",
       "            0,     0,     0,     0,     0,     0,     0,     0,     0,     0,\n",
       "            0,     0,     0,     0,     0,     0,     0,     0,     0,     0,\n",
       "            0,     0,     0,     0,     0,     0,     0,     0,     0,     0,\n",
       "            0,     0,     0,     0,     0,     0,     0,     0,     0,     0,\n",
       "            0,     0,     0,     0,     0,     0,     0,     0,     0,     0,\n",
       "            0,     0,     0,     0,     0,     0])"
      ]
     },
     "execution_count": 19,
     "metadata": {},
     "output_type": "execute_result"
    }
   ],
   "source": [
    "encoded_dataset[\"train\"][\"input_ids\"][0]"
   ]
  },
  {
   "cell_type": "code",
   "execution_count": 20,
   "metadata": {},
   "outputs": [
    {
     "data": {
      "text/plain": [
       "SequenceClassifierOutput(loss=tensor(0.6553, grad_fn=<BinaryCrossEntropyWithLogitsBackward0>), logits=tensor([[-0.5469,  0.1284,  0.5035, -0.1624,  0.2553,  0.0110, -0.0137, -0.4793,\n",
       "         -0.5716, -0.0393, -0.9075,  0.4424, -0.1431,  0.7214, -0.1920,  0.1153,\n",
       "         -0.2003,  0.3406,  0.1525, -0.7002,  0.0719,  0.0881,  0.7448,  0.2657,\n",
       "         -0.1153, -0.5972, -0.2544,  0.0270, -0.6985, -0.3758, -0.5672]],\n",
       "       grad_fn=<AddmmBackward0>), hidden_states=None, attentions=None)"
      ]
     },
     "execution_count": 20,
     "metadata": {},
     "output_type": "execute_result"
    }
   ],
   "source": [
    "outputs = model(\n",
    "    input_ids=encoded_dataset[\"train\"][\"input_ids\"][0].unsqueeze(0),\n",
    "    labels=encoded_dataset[\"train\"][0][\"labels\"].unsqueeze(0),\n",
    "    attention_mask=encoded_dataset[\"train\"][0][\"attention_mask\"].unsqueeze(0),\n",
    ")\n",
    "outputs"
   ]
  },
  {
   "cell_type": "code",
   "execution_count": 21,
   "metadata": {},
   "outputs": [],
   "source": [
    "trainer = Trainer(\n",
    "    model,\n",
    "    args,\n",
    "    train_dataset=encoded_dataset[\"train\"],\n",
    "    eval_dataset=encoded_dataset[\"validation\"],\n",
    "    tokenizer=tokenizer,\n",
    "    compute_metrics=compute_metrics,\n",
    ")"
   ]
  },
  {
   "cell_type": "code",
   "execution_count": 22,
   "metadata": {},
   "outputs": [
    {
     "name": "stderr",
     "output_type": "stream",
     "text": [
      "/home/luke/.local/lib/python3.10/site-packages/transformers/optimization.py:411: FutureWarning: This implementation of AdamW is deprecated and will be removed in a future version. Use the PyTorch implementation torch.optim.AdamW instead, or set `no_deprecation_warning=True` to disable this warning\n",
      "  warnings.warn(\n"
     ]
    },
    {
     "data": {
      "application/vnd.jupyter.widget-view+json": {
       "model_id": "79a15a7f04d44f909e91317642188bf7",
       "version_major": 2,
       "version_minor": 0
      },
      "text/plain": [
       "  0%|          | 0/4375 [00:00<?, ?it/s]"
      ]
     },
     "metadata": {},
     "output_type": "display_data"
    },
    {
     "name": "stderr",
     "output_type": "stream",
     "text": [
      "You're using a BertTokenizerFast tokenizer. Please note that with a fast tokenizer, using the `__call__` method is faster than using a method to encode the text followed by a call to the `pad` method to get a padded encoding.\n"
     ]
    },
    {
     "name": "stdout",
     "output_type": "stream",
     "text": [
      "{'loss': 0.1837, 'learning_rate': 1.7714285714285717e-05, 'epoch': 0.57}\n"
     ]
    },
    {
     "data": {
      "application/vnd.jupyter.widget-view+json": {
       "model_id": "351cdd5f251743269b660aee2178e474",
       "version_major": 2,
       "version_minor": 0
      },
      "text/plain": [
       "  0%|          | 0/188 [00:00<?, ?it/s]"
      ]
     },
     "metadata": {},
     "output_type": "display_data"
    },
    {
     "name": "stdout",
     "output_type": "stream",
     "text": [
      "{'eval_loss': 0.13290289044380188, 'eval_f1': 0.0, 'eval_roc_auc': 0.5, 'eval_accuracy': 0.0, 'eval_runtime': 8.8674, 'eval_samples_per_second': 169.158, 'eval_steps_per_second': 21.201, 'epoch': 1.0}\n",
      "{'loss': 0.1333, 'learning_rate': 1.542857142857143e-05, 'epoch': 1.14}\n",
      "{'loss': 0.1307, 'learning_rate': 1.3142857142857145e-05, 'epoch': 1.71}\n"
     ]
    },
    {
     "data": {
      "application/vnd.jupyter.widget-view+json": {
       "model_id": "d95e3c1ac7e74fa29094cf3d60c726c9",
       "version_major": 2,
       "version_minor": 0
      },
      "text/plain": [
       "  0%|          | 0/188 [00:00<?, ?it/s]"
      ]
     },
     "metadata": {},
     "output_type": "display_data"
    },
    {
     "name": "stdout",
     "output_type": "stream",
     "text": [
      "{'eval_loss': 0.12157846987247467, 'eval_f1': 0.0, 'eval_roc_auc': 0.5, 'eval_accuracy': 0.0, 'eval_runtime': 8.9721, 'eval_samples_per_second': 167.186, 'eval_steps_per_second': 20.954, 'epoch': 2.0}\n",
      "{'loss': 0.1213, 'learning_rate': 1.0857142857142858e-05, 'epoch': 2.29}\n",
      "{'loss': 0.1126, 'learning_rate': 8.571428571428571e-06, 'epoch': 2.86}\n"
     ]
    },
    {
     "data": {
      "application/vnd.jupyter.widget-view+json": {
       "model_id": "7385e9aca0be4b2a8472ab10bf89ba7a",
       "version_major": 2,
       "version_minor": 0
      },
      "text/plain": [
       "  0%|          | 0/188 [00:00<?, ?it/s]"
      ]
     },
     "metadata": {},
     "output_type": "display_data"
    },
    {
     "name": "stdout",
     "output_type": "stream",
     "text": [
      "{'eval_loss': 0.11099991202354431, 'eval_f1': 0.1046865489957395, 'eval_roc_auc': 0.5280333333333334, 'eval_accuracy': 0.05733333333333333, 'eval_runtime': 9.0744, 'eval_samples_per_second': 165.301, 'eval_steps_per_second': 20.718, 'epoch': 3.0}\n",
      "{'loss': 0.1036, 'learning_rate': 6.285714285714286e-06, 'epoch': 3.43}\n",
      "{'loss': 0.0994, 'learning_rate': 4.000000000000001e-06, 'epoch': 4.0}\n"
     ]
    },
    {
     "data": {
      "application/vnd.jupyter.widget-view+json": {
       "model_id": "28e9f3efc50e46269f438cd2034e7fcd",
       "version_major": 2,
       "version_minor": 0
      },
      "text/plain": [
       "  0%|          | 0/188 [00:00<?, ?it/s]"
      ]
     },
     "metadata": {},
     "output_type": "display_data"
    },
    {
     "name": "stdout",
     "output_type": "stream",
     "text": [
      "{'eval_loss': 0.10639268159866333, 'eval_f1': 0.1984126984126984, 'eval_roc_auc': 0.5573444444444444, 'eval_accuracy': 0.11666666666666667, 'eval_runtime': 8.8656, 'eval_samples_per_second': 169.194, 'eval_steps_per_second': 21.206, 'epoch': 4.0}\n",
      "{'loss': 0.0919, 'learning_rate': 1.7142857142857145e-06, 'epoch': 4.57}\n"
     ]
    },
    {
     "data": {
      "application/vnd.jupyter.widget-view+json": {
       "model_id": "73d92b4e7d8b41eba40a1bfe7bad2eb6",
       "version_major": 2,
       "version_minor": 0
      },
      "text/plain": [
       "  0%|          | 0/188 [00:00<?, ?it/s]"
      ]
     },
     "metadata": {},
     "output_type": "display_data"
    },
    {
     "name": "stdout",
     "output_type": "stream",
     "text": [
      "{'eval_loss': 0.10529825091362, 'eval_f1': 0.226792662590328, 'eval_roc_auc': 0.5669444444444446, 'eval_accuracy': 0.136, 'eval_runtime': 8.8965, 'eval_samples_per_second': 168.606, 'eval_steps_per_second': 21.132, 'epoch': 5.0}\n",
      "{'train_runtime': 776.1536, 'train_samples_per_second': 45.094, 'train_steps_per_second': 5.637, 'train_loss': 0.1194923828125, 'epoch': 5.0}\n"
     ]
    },
    {
     "data": {
      "text/plain": [
       "TrainOutput(global_step=4375, training_loss=0.1194923828125, metrics={'train_runtime': 776.1536, 'train_samples_per_second': 45.094, 'train_steps_per_second': 5.637, 'train_loss': 0.1194923828125, 'epoch': 5.0})"
      ]
     },
     "execution_count": 22,
     "metadata": {},
     "output_type": "execute_result"
    }
   ],
   "source": [
    "trainer.train()"
   ]
  },
  {
   "cell_type": "code",
   "execution_count": 23,
   "metadata": {},
   "outputs": [
    {
     "data": {
      "application/vnd.jupyter.widget-view+json": {
       "model_id": "4bd1a84ee6ec43f88eec0489aca8ac6d",
       "version_major": 2,
       "version_minor": 0
      },
      "text/plain": [
       "  0%|          | 0/188 [00:00<?, ?it/s]"
      ]
     },
     "metadata": {},
     "output_type": "display_data"
    },
    {
     "data": {
      "text/plain": [
       "{'eval_loss': 0.10529825091362,\n",
       " 'eval_f1': 0.226792662590328,\n",
       " 'eval_roc_auc': 0.5669444444444446,\n",
       " 'eval_accuracy': 0.136,\n",
       " 'eval_runtime': 8.8611,\n",
       " 'eval_samples_per_second': 169.28,\n",
       " 'eval_steps_per_second': 21.216,\n",
       " 'epoch': 5.0}"
      ]
     },
     "execution_count": 23,
     "metadata": {},
     "output_type": "execute_result"
    }
   ],
   "source": [
    "trainer.evaluate()"
   ]
  },
  {
   "cell_type": "markdown",
   "metadata": {},
   "source": [
    "# Eval"
   ]
  },
  {
   "cell_type": "code",
   "execution_count": 24,
   "metadata": {},
   "outputs": [],
   "source": [
    "CONFIDENCE_THRESHOLD = 0.1\n",
    "\n",
    "\n",
    "def inference(text):\n",
    "    encoding = tokenizer(text, return_tensors=\"pt\")\n",
    "    encoding = {k: v.to(trainer.model.device) for k, v in encoding.items()}\n",
    "\n",
    "    outputs = trainer.model(**encoding)\n",
    "\n",
    "    logits = outputs.logits\n",
    "\n",
    "    # apply sigmoid + threshold\n",
    "    sigmoid = torch.nn.Sigmoid()\n",
    "    probs = sigmoid(logits.squeeze().cpu())\n",
    "    predictions = np.zeros(probs.shape)\n",
    "    predictions[np.where(probs >= CONFIDENCE_THRESHOLD)] = 1\n",
    "    # turn predicted id's into actual label names\n",
    "    predicted_labels = [\n",
    "        id2label[idx] for idx, label in enumerate(predictions) if label == 1.0\n",
    "    ]\n",
    "    return predicted_labels"
   ]
  },
  {
   "cell_type": "code",
   "execution_count": 25,
   "metadata": {},
   "outputs": [
    {
     "data": {
      "text/plain": [
       "0    [furniture, home]\n",
       "Name: text, dtype: object"
      ]
     },
     "execution_count": 25,
     "metadata": {},
     "output_type": "execute_result"
    }
   ],
   "source": [
    "df_results[\"text\"][0:1].apply(inference)"
   ]
  },
  {
   "cell_type": "code",
   "execution_count": 26,
   "metadata": {},
   "outputs": [],
   "source": [
    "ROWS_TO_EVALUATE = 100\n",
    "\n",
    "df_results[\"predicted_class\"] = df_results[\"text\"][0:ROWS_TO_EVALUATE].apply(inference)\n",
    "df_results[\"correct\"] = df_results[0:ROWS_TO_EVALUATE].apply(\n",
    "    lambda row: int(row[\"product_category\"] in row[\"predicted_class\"]), axis=1\n",
    ")\n",
    "\n",
    "\n",
    "def correct_discount(row):\n",
    "    num_guesses = len(row[\"predicted_class\"])\n",
    "\n",
    "    if num_guesses > 1 and row[\"correct\"] == 1:\n",
    "        score = (0.85) ** num_guesses\n",
    "\n",
    "        return score\n",
    "    else:\n",
    "        return row[\"correct\"]\n",
    "\n",
    "\n",
    "df_results[\"correct_w_discount\"] = df_results[0:ROWS_TO_EVALUATE].apply(\n",
    "    correct_discount, axis=1\n",
    ")"
   ]
  },
  {
   "cell_type": "code",
   "execution_count": null,
   "metadata": {},
   "outputs": [],
   "source": []
  },
  {
   "cell_type": "code",
   "execution_count": 27,
   "metadata": {},
   "outputs": [
    {
     "data": {
      "text/plain": [
       "0.78"
      ]
     },
     "execution_count": 27,
     "metadata": {},
     "output_type": "execute_result"
    }
   ],
   "source": [
    "df_results[\"correct\"].sum() / ROWS_TO_EVALUATE"
   ]
  },
  {
   "cell_type": "code",
   "execution_count": 28,
   "metadata": {},
   "outputs": [
    {
     "data": {
      "text/plain": [
       "0.65068617328125"
      ]
     },
     "execution_count": 28,
     "metadata": {},
     "output_type": "execute_result"
    }
   ],
   "source": [
    "df_results[\"correct_w_discount\"].sum() / ROWS_TO_EVALUATE"
   ]
  },
  {
   "cell_type": "code",
   "execution_count": 31,
   "metadata": {},
   "outputs": [
    {
     "data": {
      "text/html": [
       "<div>\n",
       "<style scoped>\n",
       "    .dataframe tbody tr th:only-of-type {\n",
       "        vertical-align: middle;\n",
       "    }\n",
       "\n",
       "    .dataframe tbody tr th {\n",
       "        vertical-align: top;\n",
       "    }\n",
       "\n",
       "    .dataframe thead th {\n",
       "        text-align: right;\n",
       "    }\n",
       "</style>\n",
       "<table border=\"1\" class=\"dataframe\">\n",
       "  <thead>\n",
       "    <tr style=\"text-align: right;\">\n",
       "      <th></th>\n",
       "      <th>text</th>\n",
       "      <th>product_category</th>\n",
       "      <th>predicted_class</th>\n",
       "      <th>correct</th>\n",
       "      <th>correct_w_discount</th>\n",
       "    </tr>\n",
       "  </thead>\n",
       "  <tbody>\n",
       "    <tr>\n",
       "      <th>0</th>\n",
       "      <td>i ll spend twice the amount of time boxing up the whole useless thing and send it back with a 1 star review arrived broken manufacturer defect two of the legs of the base were not completely formed so there was no way to insert the casters i unpackaged the entire chair and hardware before noticing this so i ll spend twice the amount of time boxing up the whole useless thing and send it back with a 1 star review of part of a chair i never got to sit in i will go so far as to include a picture...</td>\n",
       "      <td>furniture</td>\n",
       "      <td>[baby_product, industrial_supplies, other]</td>\n",
       "      <td>0</td>\n",
       "      <td>0.0</td>\n",
       "    </tr>\n",
       "    <tr>\n",
       "      <th>1</th>\n",
       "      <td>not use able the cabinet dot were all detached from backing got me</td>\n",
       "      <td>home_improvement</td>\n",
       "      <td>[baby_product, industrial_supplies, other]</td>\n",
       "      <td>0</td>\n",
       "      <td>0.0</td>\n",
       "    </tr>\n",
       "    <tr>\n",
       "      <th>2</th>\n",
       "      <td>the product is junk i received my first order of this product and it was broke so i ordered it again the second one was broke in more places than the first i can t blame the shipping process as it s shrink wrapped and boxed</td>\n",
       "      <td>home</td>\n",
       "      <td>[baby_product, industrial_supplies, other]</td>\n",
       "      <td>0</td>\n",
       "      <td>0.0</td>\n",
       "    </tr>\n",
       "    <tr>\n",
       "      <th>3</th>\n",
       "      <td>fucking waste of money this product is a piece of shit do not buy doesn t work and then i try to call for customer support it won t take my number fucking rip off</td>\n",
       "      <td>wireless</td>\n",
       "      <td>[baby_product, camera, industrial_supplies]</td>\n",
       "      <td>0</td>\n",
       "      <td>0.0</td>\n",
       "    </tr>\n",
       "    <tr>\n",
       "      <th>4</th>\n",
       "      <td>bubble went through 3 in one day doesn t fit correct and couldn t get bubbles out better without</td>\n",
       "      <td>pc</td>\n",
       "      <td>[baby_product, industrial_supplies, other]</td>\n",
       "      <td>0</td>\n",
       "      <td>0.0</td>\n",
       "    </tr>\n",
       "    <tr>\n",
       "      <th>...</th>\n",
       "      <td>...</td>\n",
       "      <td>...</td>\n",
       "      <td>...</td>\n",
       "      <td>...</td>\n",
       "      <td>...</td>\n",
       "    </tr>\n",
       "    <tr>\n",
       "      <th>95</th>\n",
       "      <td>terrible don t waste your money terrible don t waste your money it s a jap knockoff of realtor and it totally sucks could connect to my router but after that no dice no web access brilliant scam well done</td>\n",
       "      <td>pc</td>\n",
       "      <td>[baby_product, industrial_supplies, other]</td>\n",
       "      <td>0</td>\n",
       "      <td>0.0</td>\n",
       "    </tr>\n",
       "    <tr>\n",
       "      <th>96</th>\n",
       "      <td>cute but definitely for a small child my 6 cute but definitely for a small child my 6 year old grand daughter didn t want it because it wasn t a real violin</td>\n",
       "      <td>toy</td>\n",
       "      <td>[baby_product, industrial_supplies, other, wireless]</td>\n",
       "      <td>0</td>\n",
       "      <td>0.0</td>\n",
       "    </tr>\n",
       "    <tr>\n",
       "      <th>97</th>\n",
       "      <td>sucks the product worked for maybe five minutes then it stopped and my iphone said is not compatible with iphone</td>\n",
       "      <td>wireless</td>\n",
       "      <td>[baby_product, industrial_supplies, other]</td>\n",
       "      <td>0</td>\n",
       "      <td>0.0</td>\n",
       "    </tr>\n",
       "    <tr>\n",
       "      <th>98</th>\n",
       "      <td>buyer beware phone does not work and seller asked for pictures instead of replacing defective unit phone does not work when plugged in to an active land line no dial tone seller asked for pictures</td>\n",
       "      <td>office_product</td>\n",
       "      <td>[automotive, baby_product, industrial_supplies, other]</td>\n",
       "      <td>0</td>\n",
       "      <td>0.0</td>\n",
       "    </tr>\n",
       "    <tr>\n",
       "      <th>99</th>\n",
       "      <td>would not recommend for use with essential oils i bought these bottles with the intention of mixing essential oils in them the spray hardly works and they leak frequently would not recommend for use with essential oils</td>\n",
       "      <td>beauty</td>\n",
       "      <td>[baby_product, industrial_supplies, other]</td>\n",
       "      <td>0</td>\n",
       "      <td>0.0</td>\n",
       "    </tr>\n",
       "  </tbody>\n",
       "</table>\n",
       "<p>100 rows × 5 columns</p>\n",
       "</div>"
      ],
      "text/plain": [
       "                                                                                                                                                                                                                                                                                                                                                                                                                                                                                                                   text  \\\n",
       "0   i ll spend twice the amount of time boxing up the whole useless thing and send it back with a 1 star review arrived broken manufacturer defect two of the legs of the base were not completely formed so there was no way to insert the casters i unpackaged the entire chair and hardware before noticing this so i ll spend twice the amount of time boxing up the whole useless thing and send it back with a 1 star review of part of a chair i never got to sit in i will go so far as to include a picture...   \n",
       "1                                                                                                                                                                                                                                                                                                                                                                                                                                                    not use able the cabinet dot were all detached from backing got me   \n",
       "2                                                                                                                                                                                                                                                                                       the product is junk i received my first order of this product and it was broke so i ordered it again the second one was broke in more places than the first i can t blame the shipping process as it s shrink wrapped and boxed   \n",
       "3                                                                                                                                                                                                                                                                                                                                                    fucking waste of money this product is a piece of shit do not buy doesn t work and then i try to call for customer support it won t take my number fucking rip off   \n",
       "4                                                                                                                                                                                                                                                                                                                                                                                                                      bubble went through 3 in one day doesn t fit correct and couldn t get bubbles out better without   \n",
       "..                                                                                                                                                                                                                                                                                                                                                                                                                                                                                                                  ...   \n",
       "95                                                                                                                                                                                                                                                                                                         terrible don t waste your money terrible don t waste your money it s a jap knockoff of realtor and it totally sucks could connect to my router but after that no dice no web access brilliant scam well done   \n",
       "96                                                                                                                                                                                                                                                                                                                                                         cute but definitely for a small child my 6 cute but definitely for a small child my 6 year old grand daughter didn t want it because it wasn t a real violin   \n",
       "97                                                                                                                                                                                                                                                                                                                                                                                                     sucks the product worked for maybe five minutes then it stopped and my iphone said is not compatible with iphone   \n",
       "98                                                                                                                                                                                                                                                                                                                 buyer beware phone does not work and seller asked for pictures instead of replacing defective unit phone does not work when plugged in to an active land line no dial tone seller asked for pictures   \n",
       "99                                                                                                                                                                                                                                                                                           would not recommend for use with essential oils i bought these bottles with the intention of mixing essential oils in them the spray hardly works and they leak frequently would not recommend for use with essential oils   \n",
       "\n",
       "    product_category                                         predicted_class  \\\n",
       "0          furniture              [baby_product, industrial_supplies, other]   \n",
       "1   home_improvement              [baby_product, industrial_supplies, other]   \n",
       "2               home              [baby_product, industrial_supplies, other]   \n",
       "3           wireless             [baby_product, camera, industrial_supplies]   \n",
       "4                 pc              [baby_product, industrial_supplies, other]   \n",
       "..               ...                                                     ...   \n",
       "95                pc              [baby_product, industrial_supplies, other]   \n",
       "96               toy    [baby_product, industrial_supplies, other, wireless]   \n",
       "97          wireless              [baby_product, industrial_supplies, other]   \n",
       "98    office_product  [automotive, baby_product, industrial_supplies, other]   \n",
       "99            beauty              [baby_product, industrial_supplies, other]   \n",
       "\n",
       "    correct  correct_w_discount  \n",
       "0         0                 0.0  \n",
       "1         0                 0.0  \n",
       "2         0                 0.0  \n",
       "3         0                 0.0  \n",
       "4         0                 0.0  \n",
       "..      ...                 ...  \n",
       "95        0                 0.0  \n",
       "96        0                 0.0  \n",
       "97        0                 0.0  \n",
       "98        0                 0.0  \n",
       "99        0                 0.0  \n",
       "\n",
       "[100 rows x 5 columns]"
      ]
     },
     "execution_count": 31,
     "metadata": {},
     "output_type": "execute_result"
    }
   ],
   "source": [
    "df_results[0:100]"
   ]
  },
  {
   "cell_type": "markdown",
   "metadata": {},
   "source": [
    "# Save and load"
   ]
  },
  {
   "cell_type": "code",
   "execution_count": 29,
   "metadata": {},
   "outputs": [],
   "source": [
    "### Save model (already saved)\n",
    "#trainer.save_model(\"bert-finetuned-amazon-reviews-multi-train-100k\")"
   ]
  },
  {
   "cell_type": "code",
   "execution_count": 9,
   "metadata": {},
   "outputs": [],
   "source": [
    "model1 = AutoModelForSequenceClassification.from_pretrained(\n",
    "    \"bert-finetuned-amazon-reviews-multi-train-100k\"\n",
    ")\n",
    "tokenizer = AutoTokenizer.from_pretrained(\"bert-base-uncased\")"
   ]
  },
  {
   "cell_type": "code",
   "execution_count": 10,
   "metadata": {},
   "outputs": [],
   "source": [
    "trainer1 = Trainer(model=model1, tokenizer=tokenizer)"
   ]
  },
  {
   "cell_type": "code",
   "execution_count": 12,
   "metadata": {},
   "outputs": [
    {
     "name": "stderr",
     "output_type": "stream",
     "text": [
      "You're using a BertTokenizerFast tokenizer. Please note that with a fast tokenizer, using the `__call__` method is faster than using a method to encode the text followed by a call to the `pad` method to get a padded encoding.\n"
     ]
    },
    {
     "data": {
      "application/vnd.jupyter.widget-view+json": {
       "model_id": "c755282646074f20a3767bc3da8f7519",
       "version_major": 2,
       "version_minor": 0
      },
      "text/plain": [
       "  0%|          | 0/1875 [00:00<?, ?it/s]"
      ]
     },
     "metadata": {},
     "output_type": "display_data"
    },
    {
     "data": {
      "text/plain": [
       "{'eval_loss': 0.0825805515050888,\n",
       " 'eval_runtime': 89.4772,\n",
       " 'eval_samples_per_second': 167.64,\n",
       " 'eval_steps_per_second': 20.955}"
      ]
     },
     "execution_count": 12,
     "metadata": {},
     "output_type": "execute_result"
    }
   ],
   "source": [
    "trainer1.evaluate(encoded_dataset[\"validation\"])"
   ]
  },
  {
   "cell_type": "code",
   "execution_count": 35,
   "metadata": {},
   "outputs": [],
   "source": [
    "text = \"I love my new phone. It's really great! The screen is big and bright. The battery lasts a long time\"\n",
    "\n",
    "\n",
    "encoding = tokenizer(text, return_tensors=\"pt\")\n",
    "encoding = {k: v.to(trainer1.model.device) for k, v in encoding.items()}\n",
    "\n",
    "outputs = trainer1.model(**encoding)\n",
    "\n",
    "logits = outputs.logits\n",
    "\n",
    "# apply sigmoid + threshold\n",
    "sigmoid = torch.nn.Sigmoid()\n",
    "probs = sigmoid(logits.squeeze().cpu())\n",
    "predictions = np.zeros(probs.shape)\n",
    "predictions[np.where(probs >= CONFIDENCE_THRESHOLD)] = 1\n",
    "# turn predicted id's into actual label names\n",
    "predicted_labels = [\n",
    "    id2label[idx] for idx, label in enumerate(predictions) if label == 1.0\n",
    "]"
   ]
  },
  {
   "cell_type": "code",
   "execution_count": null,
   "metadata": {},
   "outputs": [],
   "source": []
  },
  {
   "cell_type": "markdown",
   "metadata": {},
   "source": [
    "# Try on test data"
   ]
  },
  {
   "cell_type": "code",
   "execution_count": 36,
   "metadata": {},
   "outputs": [],
   "source": [
    "df = pd.read_parquet(\"datasets/amazon_reviews_multi-test.parquet\")\n",
    "\n",
    "df = df[[\"review_title\", \"review_body\", \"product_category\"]]\n",
    "\n",
    "# le = LabelEncoder()\n",
    "\n",
    "# df[\"product_class\"] = le.fit_transform(df[\"product_category\"])\n",
    "\n",
    "for col in [\"review_title\", \"review_body\"]:\n",
    "    df[col] = df[col].apply(text_normalization)\n",
    "\n",
    "\n",
    "df[\"text\"] = df[\"review_title\"] + \" \" + df[\"review_body\"]\n",
    "\n",
    "df_test = df[[\"text\", \"product_category\"]]"
   ]
  },
  {
   "cell_type": "code",
   "execution_count": 37,
   "metadata": {},
   "outputs": [],
   "source": [
    "model1 = AutoModelForSequenceClassification.from_pretrained(\n",
    "    \"bert-finetuned-amazon-reviews-multi-train-100k\"\n",
    ")\n",
    "tokenizer = AutoTokenizer.from_pretrained(\"bert-base-uncased\")\n",
    "\n",
    "trainer1 = Trainer(model=model1, tokenizer=tokenizer)"
   ]
  },
  {
   "cell_type": "code",
   "execution_count": 38,
   "metadata": {},
   "outputs": [],
   "source": [
    "CONFIDENCE_THRESHOLD = 0.1\n",
    "\n",
    "\n",
    "def inference(text):\n",
    "    encoding = tokenizer(text, return_tensors=\"pt\")\n",
    "    encoding = {k: v.to(trainer1.model.device) for k, v in encoding.items()}\n",
    "\n",
    "    outputs = trainer1.model(**encoding)\n",
    "\n",
    "    logits = outputs.logits\n",
    "\n",
    "    # apply sigmoid + threshold\n",
    "    sigmoid = torch.nn.Sigmoid()\n",
    "    probs = sigmoid(logits.squeeze().cpu())\n",
    "    predictions = np.zeros(probs.shape)\n",
    "    predictions[np.where(probs >= CONFIDENCE_THRESHOLD)] = 1\n",
    "    # turn predicted id's into actual label names\n",
    "    predicted_labels = [\n",
    "        id2label[idx] for idx, label in enumerate(predictions) if label == 1.0\n",
    "    ]\n",
    "    return predicted_labels"
   ]
  },
  {
   "cell_type": "code",
   "execution_count": 39,
   "metadata": {},
   "outputs": [
    {
     "name": "stderr",
     "output_type": "stream",
     "text": [
      "/tmp/ipykernel_1296438/2932677383.py:3: SettingWithCopyWarning: \n",
      "A value is trying to be set on a copy of a slice from a DataFrame.\n",
      "Try using .loc[row_indexer,col_indexer] = value instead\n",
      "\n",
      "See the caveats in the documentation: https://pandas.pydata.org/pandas-docs/stable/user_guide/indexing.html#returning-a-view-versus-a-copy\n",
      "  df_test[\"predicted_class\"] = df_test[\"text\"][0:ROWS_TO_EVALUATE].apply(inference)\n"
     ]
    }
   ],
   "source": [
    "ROWS_TO_EVALUATE = len(df_test)\n",
    "\n",
    "df_test[\"predicted_class\"] = df_test[\"text\"][0:ROWS_TO_EVALUATE].apply(inference)\n",
    "df_test[\"correct\"] = df_test[0:ROWS_TO_EVALUATE].apply(\n",
    "    lambda row: int(row[\"product_category\"] in row[\"predicted_class\"]), axis=1\n",
    ")\n",
    "\n",
    "\n",
    "def correct_discount(row, muli_cat_guess_penalty=0.85):\n",
    "    num_guesses = len(row[\"predicted_class\"])\n",
    "\n",
    "    if num_guesses > 1 and row[\"correct\"] == 1:\n",
    "        score = (muli_cat_guess_penalty) ** num_guesses\n",
    "\n",
    "        return score\n",
    "    else:\n",
    "        return row[\"correct\"]\n",
    "\n",
    "\n",
    "df_test[\"correct_w_discount\"] = df_test[0:ROWS_TO_EVALUATE].apply(\n",
    "    correct_discount, axis=1\n",
    ")"
   ]
  },
  {
   "cell_type": "code",
   "execution_count": 40,
   "metadata": {},
   "outputs": [
    {
     "name": "stdout",
     "output_type": "stream",
     "text": [
      "Percent of predictions that include correct class: 95.4%\n"
     ]
    }
   ],
   "source": [
    "print(\n",
    "    f\"Percent of predictions that include correct class: {round((df_test.correct.sum() / ROWS_TO_EVALUATE)*100, 2)}%\"\n",
    ")"
   ]
  },
  {
   "cell_type": "code",
   "execution_count": 42,
   "metadata": {},
   "outputs": [
    {
     "data": {
      "text/html": [
       "<div>\n",
       "<style scoped>\n",
       "    .dataframe tbody tr th:only-of-type {\n",
       "        vertical-align: middle;\n",
       "    }\n",
       "\n",
       "    .dataframe tbody tr th {\n",
       "        vertical-align: top;\n",
       "    }\n",
       "\n",
       "    .dataframe thead th {\n",
       "        text-align: right;\n",
       "    }\n",
       "</style>\n",
       "<table border=\"1\" class=\"dataframe\">\n",
       "  <thead>\n",
       "    <tr style=\"text-align: right;\">\n",
       "      <th></th>\n",
       "      <th>text</th>\n",
       "      <th>product_category</th>\n",
       "      <th>predicted_class</th>\n",
       "      <th>correct</th>\n",
       "      <th>correct_w_discount</th>\n",
       "    </tr>\n",
       "  </thead>\n",
       "  <tbody>\n",
       "    <tr>\n",
       "      <th>0</th>\n",
       "      <td>don t waste your time these are awful they are see through the fabric feels like tablecloth and they fit like children s clothing customer service did seem to be nice though but i regret missing my return date for these i wouldn t even donate them because the quality is so poor</td>\n",
       "      <td>apparel</td>\n",
       "      <td>[apparel, automotive, baby_product, beauty, book, camera, digital_ebook_purchase, drugstore, electronics, furniture, grocery, home, home_improvement, industrial_supplies, jewelry, kitchen, lawn_and_garden, office_product, other, pc, pet_products, sports, toy, video_games, watch, wireless]</td>\n",
       "      <td>1</td>\n",
       "      <td>0.014618</td>\n",
       "    </tr>\n",
       "    <tr>\n",
       "      <th>1</th>\n",
       "      <td>one star i bought 4 and none of them worked yes i used new batteries</td>\n",
       "      <td>other</td>\n",
       "      <td>[apparel, automotive, baby_product, beauty, book, camera, digital_ebook_purchase, drugstore, electronics, furniture, grocery, home, home_improvement, industrial_supplies, jewelry, kitchen, lawn_and_garden, office_product, other, pc, pet_products, sports, toy, video_games, watch, wireless]</td>\n",
       "      <td>1</td>\n",
       "      <td>0.014618</td>\n",
       "    </tr>\n",
       "    <tr>\n",
       "      <th>2</th>\n",
       "      <td>totally useless on first use it didn t heat up and now it doesn t work at all</td>\n",
       "      <td>other</td>\n",
       "      <td>[apparel, automotive, baby_product, beauty, book, camera, digital_ebook_purchase, drugstore, electronics, furniture, grocery, home, home_improvement, industrial_supplies, jewelry, kitchen, lawn_and_garden, office_product, other, pc, pet_products, sports, toy, video_games, watch, wireless]</td>\n",
       "      <td>1</td>\n",
       "      <td>0.014618</td>\n",
       "    </tr>\n",
       "    <tr>\n",
       "      <th>3</th>\n",
       "      <td>gold filled earrings you want an honest answer i just returned from ups where i returned the farce of an earring set to amazon it did not look like what i saw on amazon only a baby would be able to wear the size of the earring they were so small the size of a pin head i at first thought amazon had forgotten to enclose them in the bag i didn t bother to take them out of the bag and you can have them back will never order another thing from your company a disgrace honest enough for you grandma</td>\n",
       "      <td>jewelry</td>\n",
       "      <td>[apparel, automotive, baby_product, beauty, book, camera, digital_ebook_purchase, drugstore, electronics, furniture, grocery, home, home_improvement, industrial_supplies, jewelry, kitchen, lawn_and_garden, office_product, other, pc, pet_products, sports, toy, video_games, watch, wireless]</td>\n",
       "      <td>1</td>\n",
       "      <td>0.014618</td>\n",
       "    </tr>\n",
       "    <tr>\n",
       "      <th>4</th>\n",
       "      <td>poor container the glue works fine but the container is impossible to work with the cap doesn t come off without plyers and then won t go back on without a violent abrupt force involving both hands and a solid object desk drawer this happened even though i was careful to not gum up the lid or tapering snout</td>\n",
       "      <td>industrial_supplies</td>\n",
       "      <td>[apparel, automotive, baby_product, beauty, book, camera, digital_ebook_purchase, drugstore, electronics, furniture, grocery, home, home_improvement, industrial_supplies, jewelry, kitchen, lawn_and_garden, office_product, other, pc, pet_products, sports, toy, video_games, watch, wireless]</td>\n",
       "      <td>1</td>\n",
       "      <td>0.014618</td>\n",
       "    </tr>\n",
       "    <tr>\n",
       "      <th>...</th>\n",
       "      <td>...</td>\n",
       "      <td>...</td>\n",
       "      <td>...</td>\n",
       "      <td>...</td>\n",
       "      <td>...</td>\n",
       "    </tr>\n",
       "    <tr>\n",
       "      <th>4995</th>\n",
       "      <td>very sleek it s still early but so far the scales seems like a good product it is very modern looking my wife got back from the dr s office and said their scale read 3 pounds lighter than ours so time to shop ours was old so maybe lost some degree of accuracy this inevifit seems to be accurate time will tell we like it hard to give products a 5 when they are still in the testing phase and there is always room for improvement i don t really like to have to use 4 aaa batteries but i ll get ove...</td>\n",
       "      <td>drugstore</td>\n",
       "      <td>[apparel, automotive, baby_product, beauty, book, camera, digital_ebook_purchase, drugstore, electronics, furniture, grocery, home, home_improvement, industrial_supplies, jewelry, kitchen, lawn_and_garden, office_product, other, pc, pet_products, sports, toy, video_games, watch, wireless]</td>\n",
       "      <td>1</td>\n",
       "      <td>0.014618</td>\n",
       "    </tr>\n",
       "    <tr>\n",
       "      <th>4996</th>\n",
       "      <td>face mask a few times now and it works great it also had a pleasant smell will buy it i ve used this face mask a few times now and it works great it also had a pleasant smell will buy it again</td>\n",
       "      <td>beauty</td>\n",
       "      <td>[apparel, automotive, baby_product, beauty, book, camera, digital_ebook_purchase, drugstore, electronics, furniture, grocery, home, home_improvement, industrial_supplies, jewelry, kitchen, lawn_and_garden, office_product, other, pc, pet_products, sports, toy, video_games, watch, wireless]</td>\n",
       "      <td>1</td>\n",
       "      <td>0.014618</td>\n",
       "    </tr>\n",
       "    <tr>\n",
       "      <th>4997</th>\n",
       "      <td>five stars great price good quality</td>\n",
       "      <td>home</td>\n",
       "      <td>[apparel, automotive, baby_product, beauty, book, camera, digital_ebook_purchase, drugstore, electronics, furniture, grocery, home, home_improvement, industrial_supplies, jewelry, kitchen, lawn_and_garden, office_product, other, pc, pet_products, sports, toy, video_games, watch, wireless]</td>\n",
       "      <td>1</td>\n",
       "      <td>0.014618</td>\n",
       "    </tr>\n",
       "    <tr>\n",
       "      <th>4998</th>\n",
       "      <td>2016 f150 xlt fits my 2016 f150 xlt great now i dont have to listen to it hitting side to side while driving anymore</td>\n",
       "      <td>automotive</td>\n",
       "      <td>[apparel, automotive, baby_product, beauty, book, camera, digital_ebook_purchase, drugstore, electronics, furniture, grocery, home, home_improvement, industrial_supplies, jewelry, kitchen, lawn_and_garden, office_product, other, pc, pet_products, sports, toy, video_games, watch, wireless]</td>\n",
       "      <td>1</td>\n",
       "      <td>0.014618</td>\n",
       "    </tr>\n",
       "    <tr>\n",
       "      <th>4999</th>\n",
       "      <td>perfect just what i needed perfect for western theme party</td>\n",
       "      <td>apparel</td>\n",
       "      <td>[apparel, automotive, baby_product, beauty, book, camera, digital_ebook_purchase, drugstore, electronics, furniture, grocery, home, home_improvement, industrial_supplies, jewelry, kitchen, lawn_and_garden, office_product, other, pc, pet_products, sports, toy, video_games, watch, wireless]</td>\n",
       "      <td>1</td>\n",
       "      <td>0.014618</td>\n",
       "    </tr>\n",
       "  </tbody>\n",
       "</table>\n",
       "<p>5000 rows × 5 columns</p>\n",
       "</div>"
      ],
      "text/plain": [
       "                                                                                                                                                                                                                                                                                                                                                                                                                                                                                                                     text  \\\n",
       "0                                                                                                                                                                                                                                  don t waste your time these are awful they are see through the fabric feels like tablecloth and they fit like children s clothing customer service did seem to be nice though but i regret missing my return date for these i wouldn t even donate them because the quality is so poor   \n",
       "1                                                                                                                                                                                                                                                                                                                                                                                                                                                    one star i bought 4 and none of them worked yes i used new batteries   \n",
       "2                                                                                                                                                                                                                                                                                                                                                                                                                                           totally useless on first use it didn t heat up and now it doesn t work at all   \n",
       "3        gold filled earrings you want an honest answer i just returned from ups where i returned the farce of an earring set to amazon it did not look like what i saw on amazon only a baby would be able to wear the size of the earring they were so small the size of a pin head i at first thought amazon had forgotten to enclose them in the bag i didn t bother to take them out of the bag and you can have them back will never order another thing from your company a disgrace honest enough for you grandma   \n",
       "4                                                                                                                                                                                                    poor container the glue works fine but the container is impossible to work with the cap doesn t come off without plyers and then won t go back on without a violent abrupt force involving both hands and a solid object desk drawer this happened even though i was careful to not gum up the lid or tapering snout   \n",
       "...                                                                                                                                                                                                                                                                                                                                                                                                                                                                                                                   ...   \n",
       "4995  very sleek it s still early but so far the scales seems like a good product it is very modern looking my wife got back from the dr s office and said their scale read 3 pounds lighter than ours so time to shop ours was old so maybe lost some degree of accuracy this inevifit seems to be accurate time will tell we like it hard to give products a 5 when they are still in the testing phase and there is always room for improvement i don t really like to have to use 4 aaa batteries but i ll get ove...   \n",
       "4996                                                                                                                                                                                                                                                                                                                     face mask a few times now and it works great it also had a pleasant smell will buy it i ve used this face mask a few times now and it works great it also had a pleasant smell will buy it again   \n",
       "4997                                                                                                                                                                                                                                                                                                                                                                                                                                                                                  five stars great price good quality   \n",
       "4998                                                                                                                                                                                                                                                                                                                                                                                                 2016 f150 xlt fits my 2016 f150 xlt great now i dont have to listen to it hitting side to side while driving anymore   \n",
       "4999                                                                                                                                                                                                                                                                                                                                                                                                                                                           perfect just what i needed perfect for western theme party   \n",
       "\n",
       "         product_category  \\\n",
       "0                 apparel   \n",
       "1                   other   \n",
       "2                   other   \n",
       "3                 jewelry   \n",
       "4     industrial_supplies   \n",
       "...                   ...   \n",
       "4995            drugstore   \n",
       "4996               beauty   \n",
       "4997                 home   \n",
       "4998           automotive   \n",
       "4999              apparel   \n",
       "\n",
       "                                                                                                                                                                                                                                                                                        predicted_class  \\\n",
       "0     [apparel, automotive, baby_product, beauty, book, camera, digital_ebook_purchase, drugstore, electronics, furniture, grocery, home, home_improvement, industrial_supplies, jewelry, kitchen, lawn_and_garden, office_product, other, pc, pet_products, sports, toy, video_games, watch, wireless]   \n",
       "1     [apparel, automotive, baby_product, beauty, book, camera, digital_ebook_purchase, drugstore, electronics, furniture, grocery, home, home_improvement, industrial_supplies, jewelry, kitchen, lawn_and_garden, office_product, other, pc, pet_products, sports, toy, video_games, watch, wireless]   \n",
       "2     [apparel, automotive, baby_product, beauty, book, camera, digital_ebook_purchase, drugstore, electronics, furniture, grocery, home, home_improvement, industrial_supplies, jewelry, kitchen, lawn_and_garden, office_product, other, pc, pet_products, sports, toy, video_games, watch, wireless]   \n",
       "3     [apparel, automotive, baby_product, beauty, book, camera, digital_ebook_purchase, drugstore, electronics, furniture, grocery, home, home_improvement, industrial_supplies, jewelry, kitchen, lawn_and_garden, office_product, other, pc, pet_products, sports, toy, video_games, watch, wireless]   \n",
       "4     [apparel, automotive, baby_product, beauty, book, camera, digital_ebook_purchase, drugstore, electronics, furniture, grocery, home, home_improvement, industrial_supplies, jewelry, kitchen, lawn_and_garden, office_product, other, pc, pet_products, sports, toy, video_games, watch, wireless]   \n",
       "...                                                                                                                                                                                                                                                                                                 ...   \n",
       "4995  [apparel, automotive, baby_product, beauty, book, camera, digital_ebook_purchase, drugstore, electronics, furniture, grocery, home, home_improvement, industrial_supplies, jewelry, kitchen, lawn_and_garden, office_product, other, pc, pet_products, sports, toy, video_games, watch, wireless]   \n",
       "4996  [apparel, automotive, baby_product, beauty, book, camera, digital_ebook_purchase, drugstore, electronics, furniture, grocery, home, home_improvement, industrial_supplies, jewelry, kitchen, lawn_and_garden, office_product, other, pc, pet_products, sports, toy, video_games, watch, wireless]   \n",
       "4997  [apparel, automotive, baby_product, beauty, book, camera, digital_ebook_purchase, drugstore, electronics, furniture, grocery, home, home_improvement, industrial_supplies, jewelry, kitchen, lawn_and_garden, office_product, other, pc, pet_products, sports, toy, video_games, watch, wireless]   \n",
       "4998  [apparel, automotive, baby_product, beauty, book, camera, digital_ebook_purchase, drugstore, electronics, furniture, grocery, home, home_improvement, industrial_supplies, jewelry, kitchen, lawn_and_garden, office_product, other, pc, pet_products, sports, toy, video_games, watch, wireless]   \n",
       "4999  [apparel, automotive, baby_product, beauty, book, camera, digital_ebook_purchase, drugstore, electronics, furniture, grocery, home, home_improvement, industrial_supplies, jewelry, kitchen, lawn_and_garden, office_product, other, pc, pet_products, sports, toy, video_games, watch, wireless]   \n",
       "\n",
       "      correct  correct_w_discount  \n",
       "0           1            0.014618  \n",
       "1           1            0.014618  \n",
       "2           1            0.014618  \n",
       "3           1            0.014618  \n",
       "4           1            0.014618  \n",
       "...       ...                 ...  \n",
       "4995        1            0.014618  \n",
       "4996        1            0.014618  \n",
       "4997        1            0.014618  \n",
       "4998        1            0.014618  \n",
       "4999        1            0.014618  \n",
       "\n",
       "[5000 rows x 5 columns]"
      ]
     },
     "execution_count": 42,
     "metadata": {},
     "output_type": "execute_result"
    }
   ],
   "source": [
    "df_test"
   ]
  },
  {
   "cell_type": "code",
   "execution_count": null,
   "metadata": {},
   "outputs": [],
   "source": []
  }
 ],
 "metadata": {
  "kernelspec": {
   "display_name": "Python 3",
   "language": "python",
   "name": "python3"
  },
  "language_info": {
   "codemirror_mode": {
    "name": "ipython",
    "version": 3
   },
   "file_extension": ".py",
   "mimetype": "text/x-python",
   "name": "python",
   "nbconvert_exporter": "python",
   "pygments_lexer": "ipython3",
   "version": "3.10.12"
  },
  "orig_nbformat": 4
 },
 "nbformat": 4,
 "nbformat_minor": 2
}
