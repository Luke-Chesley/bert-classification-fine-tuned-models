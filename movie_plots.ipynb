{
 "cells": [
  {
   "cell_type": "code",
   "execution_count": 1,
   "metadata": {},
   "outputs": [
    {
     "name": "stderr",
     "output_type": "stream",
     "text": [
      "2023-09-09 10:14:50.903563: I tensorflow/core/util/port.cc:110] oneDNN custom operations are on. You may see slightly different numerical results due to floating-point round-off errors from different computation orders. To turn them off, set the environment variable `TF_ENABLE_ONEDNN_OPTS=0`.\n",
      "2023-09-09 10:14:50.923219: I tensorflow/core/platform/cpu_feature_guard.cc:182] This TensorFlow binary is optimized to use available CPU instructions in performance-critical operations.\n",
      "To enable the following instructions: AVX2 AVX_VNNI FMA, in other operations, rebuild TensorFlow with the appropriate compiler flags.\n",
      "2023-09-09 10:14:51.313347: W tensorflow/compiler/tf2tensorrt/utils/py_utils.cc:38] TF-TRT Warning: Could not find TensorRT\n"
     ]
    }
   ],
   "source": [
    "%run local_functions.py\n",
    "from local_functions import *\n",
    "\n",
    "import pandas as pd\n",
    "import numpy as np\n",
    "import matplotlib.pyplot as plt\n",
    "import re\n",
    "\n",
    "\n",
    "from datasets import load_dataset\n",
    "from datasets import Dataset, DatasetDict\n",
    "from transformers import BertConfig, BertModel\n",
    "\n",
    "\n",
    "from transformers import AutoTokenizer\n",
    "from transformers import AutoModelForSequenceClassification\n",
    "\n",
    "from sklearn.metrics import f1_score, roc_auc_score, accuracy_score\n",
    "from transformers import EvalPrediction\n",
    "import torch\n",
    "from transformers import TrainingArguments, Trainer\n",
    "\n",
    "\n",
    "from sklearn.model_selection import train_test_split\n",
    "\n",
    "plt.style.use(\"dark_background\")\n",
    "\n",
    "pd.set_option(\"display.max_columns\", 2500)\n",
    "pd.set_option(\"display.max_rows\", 50)\n",
    "pd.set_option(\"display.max_colwidth\", 50)\n",
    "\n",
    "\n",
    "plt.style.use(\"dark_background\")\n",
    "\n",
    "%load_ext lab_black"
   ]
  },
  {
   "cell_type": "code",
   "execution_count": 2,
   "metadata": {},
   "outputs": [],
   "source": [
    "df = pd.read_csv(\"datasets/wiki_movie_plots_deduped.csv\")\n",
    "df = df[[\"Plot\", \"Genre\"]]\n",
    "df = df.loc[df.Genre != \"unknown\"].reset_index(drop=True)\n",
    "df[\"text\"] = df[\"Plot\"].apply(text_normalization_2)\n",
    "df.drop(\"Plot\", axis=1, inplace=True)\n",
    "df = df[[\"text\", \"Genre\"]]\n",
    "# retain rows with top 100 genres\n",
    "top_100_genres = df[\"Genre\"].value_counts().head(100).index.tolist()\n",
    "df = df.loc[df[\"Genre\"].isin(top_100_genres)].reset_index(drop=True)"
   ]
  },
  {
   "cell_type": "code",
   "execution_count": 3,
   "metadata": {},
   "outputs": [],
   "source": [
    "training_df, testing_df = train_test_split(df, test_size=0.25, random_state=42)"
   ]
  },
  {
   "cell_type": "code",
   "execution_count": 4,
   "metadata": {},
   "outputs": [
    {
     "data": {
      "text/html": [
       "<div>\n",
       "<style scoped>\n",
       "    .dataframe tbody tr th:only-of-type {\n",
       "        vertical-align: middle;\n",
       "    }\n",
       "\n",
       "    .dataframe tbody tr th {\n",
       "        vertical-align: top;\n",
       "    }\n",
       "\n",
       "    .dataframe thead th {\n",
       "        text-align: right;\n",
       "    }\n",
       "</style>\n",
       "<table border=\"1\" class=\"dataframe\">\n",
       "  <thead>\n",
       "    <tr style=\"text-align: right;\">\n",
       "      <th></th>\n",
       "      <th>text</th>\n",
       "      <th>Genre</th>\n",
       "    </tr>\n",
       "  </thead>\n",
       "  <tbody>\n",
       "    <tr>\n",
       "      <th>5195</th>\n",
       "      <td>in 1866 remorseful former border raider glyn m...</td>\n",
       "      <td>western</td>\n",
       "    </tr>\n",
       "    <tr>\n",
       "      <th>24010</th>\n",
       "      <td>there s a war going on but that will not stop ...</td>\n",
       "      <td>drama</td>\n",
       "    </tr>\n",
       "    <tr>\n",
       "      <th>14976</th>\n",
       "      <td>ellie klug is a music critic in her 40s at a d...</td>\n",
       "      <td>comedy</td>\n",
       "    </tr>\n",
       "    <tr>\n",
       "      <th>2129</th>\n",
       "      <td>geraldine jerry darlington felt happier before...</td>\n",
       "      <td>comedy</td>\n",
       "    </tr>\n",
       "    <tr>\n",
       "      <th>2414</th>\n",
       "      <td>jeff scott is sent to investigate problems wit...</td>\n",
       "      <td>serial</td>\n",
       "    </tr>\n",
       "    <tr>\n",
       "      <th>...</th>\n",
       "      <td>...</td>\n",
       "      <td>...</td>\n",
       "    </tr>\n",
       "    <tr>\n",
       "      <th>21575</th>\n",
       "      <td>prithvi kumar is an honest young ias officer w...</td>\n",
       "      <td>action drama</td>\n",
       "    </tr>\n",
       "    <tr>\n",
       "      <th>5390</th>\n",
       "      <td>a rash of murders by an unknown monster is pla...</td>\n",
       "      <td>comedy</td>\n",
       "    </tr>\n",
       "    <tr>\n",
       "      <th>860</th>\n",
       "      <td>jim smith lucien littlefield a millionaire due...</td>\n",
       "      <td>musical</td>\n",
       "    </tr>\n",
       "    <tr>\n",
       "      <th>15795</th>\n",
       "      <td>mechanic barry lives in the australian outback...</td>\n",
       "      <td>horror</td>\n",
       "    </tr>\n",
       "    <tr>\n",
       "      <th>23654</th>\n",
       "      <td>three schoolgirls are infatuated with a yakuza...</td>\n",
       "      <td>crime</td>\n",
       "    </tr>\n",
       "  </tbody>\n",
       "</table>\n",
       "<p>18244 rows × 2 columns</p>\n",
       "</div>"
      ],
      "text/plain": [
       "                                                    text         Genre\n",
       "5195   in 1866 remorseful former border raider glyn m...       western\n",
       "24010  there s a war going on but that will not stop ...         drama\n",
       "14976  ellie klug is a music critic in her 40s at a d...        comedy\n",
       "2129   geraldine jerry darlington felt happier before...        comedy\n",
       "2414   jeff scott is sent to investigate problems wit...        serial\n",
       "...                                                  ...           ...\n",
       "21575  prithvi kumar is an honest young ias officer w...  action drama\n",
       "5390   a rash of murders by an unknown monster is pla...        comedy\n",
       "860    jim smith lucien littlefield a millionaire due...       musical\n",
       "15795  mechanic barry lives in the australian outback...        horror\n",
       "23654  three schoolgirls are infatuated with a yakuza...         crime\n",
       "\n",
       "[18244 rows x 2 columns]"
      ]
     },
     "execution_count": 4,
     "metadata": {},
     "output_type": "execute_result"
    }
   ],
   "source": [
    "training_df"
   ]
  },
  {
   "cell_type": "code",
   "execution_count": 5,
   "metadata": {},
   "outputs": [],
   "source": [
    "encoded_df = pd.get_dummies(\n",
    "    training_df[\"Genre\"], columns=[\"Genre\"], prefix=\"\", prefix_sep=\"\"\n",
    ")\n",
    "encoded_df = encoded_df.astype(bool)\n",
    "encoded_df_con = pd.concat([training_df[\"text\"], encoded_df], axis=1)"
   ]
  },
  {
   "cell_type": "markdown",
   "metadata": {},
   "source": [
    "# Dataset"
   ]
  },
  {
   "cell_type": "code",
   "execution_count": 6,
   "metadata": {},
   "outputs": [],
   "source": [
    "train_df, temp_df = train_test_split(encoded_df_con, test_size=0.3, random_state=42)\n",
    "valid_df, test_df = train_test_split(temp_df, test_size=0.5, random_state=42)"
   ]
  },
  {
   "cell_type": "code",
   "execution_count": 7,
   "metadata": {},
   "outputs": [],
   "source": [
    "# Convert the split DataFrames into Datasets\n",
    "train = Dataset.from_pandas(train_df, split=\"train\")\n",
    "valid = Dataset.from_pandas(valid_df, split=\"validation\")\n",
    "test = Dataset.from_pandas(test_df, split=\"test\")\n",
    "\n",
    "dataset = DatasetDict({\"train\": train, \"validation\": valid, \"test\": test})"
   ]
  },
  {
   "cell_type": "code",
   "execution_count": 8,
   "metadata": {},
   "outputs": [],
   "source": [
    "labels = [\n",
    "    label\n",
    "    for label in dataset[\"train\"].features.keys()\n",
    "    if label not in [\"text\", \"__index_level_0__\"]\n",
    "]\n",
    "id2label = {idx: label for idx, label in enumerate(labels)}\n",
    "label2id = {label: idx for idx, label in enumerate(labels)}"
   ]
  },
  {
   "cell_type": "markdown",
   "metadata": {},
   "source": [
    "# Tokenize"
   ]
  },
  {
   "cell_type": "code",
   "execution_count": 9,
   "metadata": {},
   "outputs": [],
   "source": [
    "LM = \"distilbert-base-uncased\""
   ]
  },
  {
   "cell_type": "code",
   "execution_count": 10,
   "metadata": {},
   "outputs": [],
   "source": [
    "tokenizer = AutoTokenizer.from_pretrained(LM)"
   ]
  },
  {
   "cell_type": "code",
   "execution_count": 11,
   "metadata": {},
   "outputs": [
    {
     "data": {
      "application/vnd.jupyter.widget-view+json": {
       "model_id": "d038387a317b4bb59eb3c7d756912d81",
       "version_major": 2,
       "version_minor": 0
      },
      "text/plain": [
       "Map:   0%|          | 0/12770 [00:00<?, ? examples/s]"
      ]
     },
     "metadata": {},
     "output_type": "display_data"
    },
    {
     "data": {
      "application/vnd.jupyter.widget-view+json": {
       "model_id": "6969d95494b54796ba996e3128281f96",
       "version_major": 2,
       "version_minor": 0
      },
      "text/plain": [
       "Map:   0%|          | 0/2737 [00:00<?, ? examples/s]"
      ]
     },
     "metadata": {},
     "output_type": "display_data"
    },
    {
     "data": {
      "application/vnd.jupyter.widget-view+json": {
       "model_id": "075981cd27ff4b61ba180e00466c3c13",
       "version_major": 2,
       "version_minor": 0
      },
      "text/plain": [
       "Map:   0%|          | 0/2737 [00:00<?, ? examples/s]"
      ]
     },
     "metadata": {},
     "output_type": "display_data"
    }
   ],
   "source": [
    "def preprocess_data(examples):\n",
    "    # take a batch of texts\n",
    "    text = examples[\"text\"]\n",
    "    # encode them\n",
    "    encoding = tokenizer(text, padding=\"max_length\", truncation=True, max_length=256)\n",
    "    # add labels\n",
    "    labels_batch = {k: examples[k] for k in examples.keys() if k in labels}\n",
    "    # create numpy array of shape (batch_size, num_labels)\n",
    "    labels_matrix = np.zeros((len(text), len(labels)))\n",
    "    # fill numpy array\n",
    "    for idx, label in enumerate(labels):\n",
    "        labels_matrix[:, idx] = labels_batch[label]\n",
    "\n",
    "    encoding[\"labels\"] = labels_matrix.tolist()\n",
    "\n",
    "    return encoding\n",
    "\n",
    "\n",
    "encoded_dataset = dataset.map(\n",
    "    preprocess_data, batched=True, remove_columns=dataset[\"train\"].column_names\n",
    ")\n",
    "\n",
    "encoded_dataset.set_format(\"torch\")"
   ]
  },
  {
   "cell_type": "code",
   "execution_count": 12,
   "metadata": {},
   "outputs": [
    {
     "name": "stderr",
     "output_type": "stream",
     "text": [
      "Some weights of DistilBertForSequenceClassification were not initialized from the model checkpoint at distilbert-base-uncased and are newly initialized: ['pre_classifier.bias', 'classifier.weight', 'classifier.bias', 'pre_classifier.weight']\n",
      "You should probably TRAIN this model on a down-stream task to be able to use it for predictions and inference.\n"
     ]
    }
   ],
   "source": [
    "model = AutoModelForSequenceClassification.from_pretrained(\n",
    "    LM,\n",
    "    problem_type=\"multi_label_classification\",\n",
    "    num_labels=len(labels),\n",
    "    id2label=id2label,\n",
    "    label2id=label2id,\n",
    ")"
   ]
  },
  {
   "cell_type": "code",
   "execution_count": 13,
   "metadata": {},
   "outputs": [
    {
     "data": {
      "text/plain": [
       "DistilBertForSequenceClassification(\n",
       "  (distilbert): DistilBertModel(\n",
       "    (embeddings): Embeddings(\n",
       "      (word_embeddings): Embedding(30522, 768, padding_idx=0)\n",
       "      (position_embeddings): Embedding(512, 768)\n",
       "      (LayerNorm): LayerNorm((768,), eps=1e-12, elementwise_affine=True)\n",
       "      (dropout): Dropout(p=0.1, inplace=False)\n",
       "    )\n",
       "    (transformer): Transformer(\n",
       "      (layer): ModuleList(\n",
       "        (0-5): 6 x TransformerBlock(\n",
       "          (attention): MultiHeadSelfAttention(\n",
       "            (dropout): Dropout(p=0.1, inplace=False)\n",
       "            (q_lin): Linear(in_features=768, out_features=768, bias=True)\n",
       "            (k_lin): Linear(in_features=768, out_features=768, bias=True)\n",
       "            (v_lin): Linear(in_features=768, out_features=768, bias=True)\n",
       "            (out_lin): Linear(in_features=768, out_features=768, bias=True)\n",
       "          )\n",
       "          (sa_layer_norm): LayerNorm((768,), eps=1e-12, elementwise_affine=True)\n",
       "          (ffn): FFN(\n",
       "            (dropout): Dropout(p=0.1, inplace=False)\n",
       "            (lin1): Linear(in_features=768, out_features=3072, bias=True)\n",
       "            (lin2): Linear(in_features=3072, out_features=768, bias=True)\n",
       "            (activation): GELUActivation()\n",
       "          )\n",
       "          (output_layer_norm): LayerNorm((768,), eps=1e-12, elementwise_affine=True)\n",
       "        )\n",
       "      )\n",
       "    )\n",
       "  )\n",
       "  (pre_classifier): Linear(in_features=768, out_features=768, bias=True)\n",
       "  (classifier): Linear(in_features=768, out_features=100, bias=True)\n",
       "  (dropout): Dropout(p=0.2, inplace=False)\n",
       ")"
      ]
     },
     "execution_count": 13,
     "metadata": {},
     "output_type": "execute_result"
    }
   ],
   "source": [
    "model"
   ]
  },
  {
   "cell_type": "code",
   "execution_count": 12,
   "metadata": {},
   "outputs": [],
   "source": [
    "batch_size = 8\n",
    "metric_name = \"f1\""
   ]
  },
  {
   "cell_type": "code",
   "execution_count": 13,
   "metadata": {},
   "outputs": [],
   "source": [
    "args = TrainingArguments(\n",
    "    f\"bert-finetuned-sem_eval-english\",\n",
    "    evaluation_strategy=\"epoch\",\n",
    "    save_strategy=\"epoch\",\n",
    "    learning_rate=2e-5,\n",
    "    per_device_train_batch_size=batch_size,\n",
    "    per_device_eval_batch_size=batch_size,\n",
    "    num_train_epochs=5,\n",
    "    weight_decay=0.01,\n",
    "    load_best_model_at_end=True,\n",
    "    metric_for_best_model=metric_name,\n",
    "    # push_to_hub=True,\n",
    ")"
   ]
  },
  {
   "cell_type": "code",
   "execution_count": 18,
   "metadata": {},
   "outputs": [],
   "source": [
    "def multi_label_metrics(predictions, labels, threshold=0.5): # threshold = confidence threshold, important. 0.5 doesnt always work\n",
    "    # first, apply sigmoid on predictions which are of shape (batch_size, num_labels)\n",
    "    sigmoid = torch.nn.Sigmoid()\n",
    "    probs = sigmoid(torch.Tensor(predictions))\n",
    "    # next, use threshold to turn them into integer predictions\n",
    "    y_pred = np.zeros(probs.shape)\n",
    "    y_pred[np.where(probs >= threshold)] = 1\n",
    "    # finally, compute metrics\n",
    "    y_true = labels\n",
    "    f1_micro_average = f1_score(y_true=y_true, y_pred=y_pred, average=\"micro\")\n",
    "    roc_auc = roc_auc_score(y_true, y_pred, average=\"micro\")\n",
    "    accuracy = accuracy_score(y_true, y_pred)\n",
    "    # return as dictionary\n",
    "    metrics = {\"f1\": f1_micro_average, \"roc_auc\": roc_auc, \"accuracy\": accuracy}\n",
    "    return metrics\n",
    "\n",
    "\n",
    "def compute_metrics(p: EvalPrediction):\n",
    "    preds = p.predictions[0] if isinstance(p.predictions, tuple) else p.predictions\n",
    "    result = multi_label_metrics(predictions=preds, labels=p.label_ids)\n",
    "    return result"
   ]
  },
  {
   "cell_type": "code",
   "execution_count": 19,
   "metadata": {},
   "outputs": [],
   "source": [
    "trainer = Trainer(\n",
    "    model,\n",
    "    args,\n",
    "    train_dataset=encoded_dataset[\"train\"],\n",
    "    eval_dataset=encoded_dataset[\"validation\"],\n",
    "    tokenizer=tokenizer,\n",
    "    compute_metrics=compute_metrics,\n",
    ")"
   ]
  },
  {
   "cell_type": "code",
   "execution_count": 16,
   "metadata": {},
   "outputs": [
    {
     "name": "stderr",
     "output_type": "stream",
     "text": [
      "/home/luke/.local/lib/python3.10/site-packages/transformers/optimization.py:411: FutureWarning: This implementation of AdamW is deprecated and will be removed in a future version. Use the PyTorch implementation torch.optim.AdamW instead, or set `no_deprecation_warning=True` to disable this warning\n",
      "  warnings.warn(\n"
     ]
    },
    {
     "data": {
      "application/vnd.jupyter.widget-view+json": {
       "model_id": "ec67f9e9530f4354989c0f5372aa08c7",
       "version_major": 2,
       "version_minor": 0
      },
      "text/plain": [
       "  0%|          | 0/7985 [00:00<?, ?it/s]"
      ]
     },
     "metadata": {},
     "output_type": "display_data"
    },
    {
     "name": "stderr",
     "output_type": "stream",
     "text": [
      "You're using a DistilBertTokenizerFast tokenizer. Please note that with a fast tokenizer, using the `__call__` method is faster than using a method to encode the text followed by a call to the `pad` method to get a padded encoding.\n"
     ]
    },
    {
     "name": "stdout",
     "output_type": "stream",
     "text": [
      "{'loss': 0.1391, 'learning_rate': 1.8747651847213527e-05, 'epoch': 0.31}\n",
      "{'loss': 0.0421, 'learning_rate': 1.7495303694427053e-05, 'epoch': 0.63}\n",
      "{'loss': 0.0406, 'learning_rate': 1.624295554164058e-05, 'epoch': 0.94}\n"
     ]
    },
    {
     "data": {
      "application/vnd.jupyter.widget-view+json": {
       "model_id": "6fc7860779274654a64cf5f3a241ca19",
       "version_major": 2,
       "version_minor": 0
      },
      "text/plain": [
       "  0%|          | 0/343 [00:00<?, ?it/s]"
      ]
     },
     "metadata": {},
     "output_type": "display_data"
    },
    {
     "name": "stdout",
     "output_type": "stream",
     "text": [
      "{'eval_loss': 0.037935301661491394, 'eval_f1': 0.05471764293230445, 'eval_roc_auc': 0.5141827481980934, 'eval_accuracy': 0.028498355864084765, 'eval_runtime': 8.3207, 'eval_samples_per_second': 328.94, 'eval_steps_per_second': 41.223, 'epoch': 1.0}\n",
      "{'loss': 0.0377, 'learning_rate': 1.4990607388854104e-05, 'epoch': 1.25}\n",
      "{'loss': 0.0346, 'learning_rate': 1.3738259236067628e-05, 'epoch': 1.57}\n",
      "{'loss': 0.034, 'learning_rate': 1.2485911083281152e-05, 'epoch': 1.88}\n"
     ]
    },
    {
     "data": {
      "application/vnd.jupyter.widget-view+json": {
       "model_id": "70d45514707c4f3891f64933f441f13b",
       "version_major": 2,
       "version_minor": 0
      },
      "text/plain": [
       "  0%|          | 0/343 [00:00<?, ?it/s]"
      ]
     },
     "metadata": {},
     "output_type": "display_data"
    },
    {
     "name": "stdout",
     "output_type": "stream",
     "text": [
      "{'eval_loss': 0.03226800262928009, 'eval_f1': 0.34466403162055337, 'eval_roc_auc': 0.6187283872705868, 'eval_accuracy': 0.23894775301424917, 'eval_runtime': 8.292, 'eval_samples_per_second': 330.079, 'eval_steps_per_second': 41.365, 'epoch': 2.0}\n",
      "{'loss': 0.0311, 'learning_rate': 1.123356293049468e-05, 'epoch': 2.19}\n",
      "{'loss': 0.0296, 'learning_rate': 9.981214777708203e-06, 'epoch': 2.5}\n",
      "{'loss': 0.0297, 'learning_rate': 8.728866624921729e-06, 'epoch': 2.82}\n"
     ]
    },
    {
     "data": {
      "application/vnd.jupyter.widget-view+json": {
       "model_id": "cb0a528aeae4478897886dad8bc4ac8f",
       "version_major": 2,
       "version_minor": 0
      },
      "text/plain": [
       "  0%|          | 0/343 [00:00<?, ?it/s]"
      ]
     },
     "metadata": {},
     "output_type": "display_data"
    },
    {
     "name": "stdout",
     "output_type": "stream",
     "text": [
      "{'eval_loss': 0.031020186841487885, 'eval_f1': 0.38178198108511696, 'eval_roc_auc': 0.6391684473525906, 'eval_accuracy': 0.28023383266350016, 'eval_runtime': 8.3187, 'eval_samples_per_second': 329.018, 'eval_steps_per_second': 41.232, 'epoch': 3.0}\n",
      "{'loss': 0.0277, 'learning_rate': 7.476518472135255e-06, 'epoch': 3.13}\n",
      "{'loss': 0.0261, 'learning_rate': 6.2241703193487794e-06, 'epoch': 3.44}\n",
      "{'loss': 0.0263, 'learning_rate': 4.971822166562304e-06, 'epoch': 3.76}\n"
     ]
    },
    {
     "data": {
      "application/vnd.jupyter.widget-view+json": {
       "model_id": "58f886f407c140bbab8ebd7e2b8b6747",
       "version_major": 2,
       "version_minor": 0
      },
      "text/plain": [
       "  0%|          | 0/343 [00:00<?, ?it/s]"
      ]
     },
     "metadata": {},
     "output_type": "display_data"
    },
    {
     "name": "stdout",
     "output_type": "stream",
     "text": [
      "{'eval_loss': 0.03089076280593872, 'eval_f1': 0.38749384539635645, 'eval_roc_auc': 0.6427777962304817, 'eval_accuracy': 0.2875411033978809, 'eval_runtime': 8.2996, 'eval_samples_per_second': 329.776, 'eval_steps_per_second': 41.327, 'epoch': 4.0}\n",
      "{'loss': 0.0254, 'learning_rate': 3.71947401377583e-06, 'epoch': 4.07}\n",
      "{'loss': 0.0242, 'learning_rate': 2.4671258609893555e-06, 'epoch': 4.38}\n",
      "{'loss': 0.024, 'learning_rate': 1.2147777082028805e-06, 'epoch': 4.7}\n"
     ]
    },
    {
     "data": {
      "application/vnd.jupyter.widget-view+json": {
       "model_id": "85d3cf5205cb4c1fbf2a6ae885331075",
       "version_major": 2,
       "version_minor": 0
      },
      "text/plain": [
       "  0%|          | 0/343 [00:00<?, ?it/s]"
      ]
     },
     "metadata": {},
     "output_type": "display_data"
    },
    {
     "name": "stdout",
     "output_type": "stream",
     "text": [
      "{'eval_loss': 0.030957674607634544, 'eval_f1': 0.39805115712545674, 'eval_roc_auc': 0.6482342607662301, 'eval_accuracy': 0.29850200949945194, 'eval_runtime': 8.312, 'eval_samples_per_second': 329.282, 'eval_steps_per_second': 41.266, 'epoch': 5.0}\n",
      "{'train_runtime': 741.9964, 'train_samples_per_second': 86.052, 'train_steps_per_second': 10.762, 'train_loss': 0.0372709420000529, 'epoch': 5.0}\n"
     ]
    },
    {
     "data": {
      "text/plain": [
       "TrainOutput(global_step=7985, training_loss=0.0372709420000529, metrics={'train_runtime': 741.9964, 'train_samples_per_second': 86.052, 'train_steps_per_second': 10.762, 'train_loss': 0.0372709420000529, 'epoch': 5.0})"
      ]
     },
     "execution_count": 16,
     "metadata": {},
     "output_type": "execute_result"
    }
   ],
   "source": [
    "trainer.train()"
   ]
  },
  {
   "cell_type": "code",
   "execution_count": 17,
   "metadata": {},
   "outputs": [
    {
     "data": {
      "application/vnd.jupyter.widget-view+json": {
       "model_id": "7c1dc193dfb84ef28c3acaaa281495d3",
       "version_major": 2,
       "version_minor": 0
      },
      "text/plain": [
       "  0%|          | 0/343 [00:00<?, ?it/s]"
      ]
     },
     "metadata": {},
     "output_type": "display_data"
    },
    {
     "data": {
      "text/plain": [
       "{'eval_loss': 0.030957674607634544,\n",
       " 'eval_f1': 0.39805115712545674,\n",
       " 'eval_roc_auc': 0.6482342607662301,\n",
       " 'eval_accuracy': 0.29850200949945194,\n",
       " 'eval_runtime': 8.2304,\n",
       " 'eval_samples_per_second': 332.547,\n",
       " 'eval_steps_per_second': 41.675,\n",
       " 'epoch': 5.0}"
      ]
     },
     "execution_count": 17,
     "metadata": {},
     "output_type": "execute_result"
    }
   ],
   "source": [
    "trainer.evaluate()"
   ]
  },
  {
   "cell_type": "code",
   "execution_count": 18,
   "metadata": {},
   "outputs": [],
   "source": [
    "#trainer.save_model(\"bert-finetuned-wiki-movie-plots\")"
   ]
  },
  {
   "cell_type": "markdown",
   "metadata": {},
   "source": [
    "# Eval \n",
    "#### should make subgenre preds count as correct"
   ]
  },
  {
   "cell_type": "code",
   "execution_count": 10,
   "metadata": {},
   "outputs": [],
   "source": [
    "model = AutoModelForSequenceClassification.from_pretrained(\n",
    "    \"bert-finetuned-wiki-movie-plots\"\n",
    ")\n",
    "trainer = Trainer(model=model, tokenizer=tokenizer)"
   ]
  },
  {
   "cell_type": "code",
   "execution_count": 14,
   "metadata": {},
   "outputs": [],
   "source": [
    "df_test = testing_df.reset_index(drop=True)"
   ]
  },
  {
   "cell_type": "code",
   "execution_count": 20,
   "metadata": {},
   "outputs": [],
   "source": [
    "CONFIDENCE_THRESHOLD = 0.1\n",
    "\n",
    "\n",
    "def inference(text):\n",
    "    encoding = tokenizer(text, return_tensors=\"pt\")\n",
    "    encoding = {k: v.to(trainer.model.device) for k, v in encoding.items()}\n",
    "\n",
    "    outputs = trainer.model(**encoding)\n",
    "\n",
    "    logits = outputs.logits\n",
    "\n",
    "    # apply sigmoid + threshold\n",
    "    sigmoid = torch.nn.Sigmoid()\n",
    "    probs = sigmoid(logits.squeeze().cpu())\n",
    "    predictions = np.zeros(probs.shape)\n",
    "    predictions[np.where(probs >= CONFIDENCE_THRESHOLD)] = 1\n",
    "    # turn predicted id's into actual label names\n",
    "    predicted_labels = [\n",
    "        id2label[idx] for idx, label in enumerate(predictions) if label == 1.0\n",
    "    ]\n",
    "    return predicted_labels"
   ]
  },
  {
   "cell_type": "code",
   "execution_count": 21,
   "metadata": {},
   "outputs": [
    {
     "name": "stdout",
     "output_type": "stream",
     "text": [
      "Percent of predictions that include correct class: 26.49% \n",
      "Multi_guess discount score: 26.49%\n",
      "Multi_positive_outcome discount score: 83.2%\n",
      "Percent of non-preds: 56.7083196317001% \n"
     ]
    }
   ],
   "source": [
    "ROWS_TO_EVALUATE = len(df_test)\n",
    "\n",
    "CONFIDENCE_THRESHOLD = 0.55  # 0.1 works well for low number of non-responses\n",
    "\n",
    "TOP_N_PREDS = 5  # number of top predictions to return\n",
    "\n",
    "\n",
    "# make predictions\n",
    "df_test[\"predicted_class\"] = df_test[\"text\"][0:ROWS_TO_EVALUATE].apply(\n",
    "    predict_class, args=(tokenizer, trainer, id2label, CONFIDENCE_THRESHOLD)\n",
    ")  # args: text, tokenizer, trainer, id2label, CONFIDENCE_THRESHOLD=0.5\n",
    "\n",
    "# calculate if prediction is correct\n",
    "df_test[\"correct\"] = df_test[0:ROWS_TO_EVALUATE].apply(\n",
    "    lambda row: int(row[\"Genre\"] in row[\"predicted_class\"]), axis=1\n",
    ")\n",
    "# calculate score (including penalty for guessing multiple categories) used to help find optimal confidence threshold\n",
    "df_test[\"correct_w_discount\"] = df_test[0:ROWS_TO_EVALUATE].apply(\n",
    "    multi_cat_guess_penalty,\n",
    "    axis=1,\n",
    "    args=(0.9,),  # muli_cat_guess_penalty (somewhere around 0.85 works well)\n",
    ")\n",
    "\n",
    "df_test[\"correct_w_non_preds\"] = df_test.apply(multi_positive_outcome, axis=1)\n",
    "\n",
    "# get top n predictions\n",
    "df_test[\"top_n_preds\"] = df_test[\"text\"][0:ROWS_TO_EVALUATE].apply(\n",
    "    n_most_likely_classes, args=(tokenizer, trainer, id2label, TOP_N_PREDS)\n",
    ")\n",
    "\n",
    "print(\n",
    "    f\"Percent of predictions that include correct class: {round((df_test.correct.sum() / ROWS_TO_EVALUATE)*100, 2)}% \\nMulti_guess discount score: {round((df_test.correct_w_discount.sum() / ROWS_TO_EVALUATE)*100, 2)}%\\nMulti_positive_outcome discount score: {round((df_test.correct_w_non_preds.sum() / ROWS_TO_EVALUATE)*100, 2)}%\"\n",
    ")\n",
    "print(\n",
    "    f\"Percent of non-preds: {((df_test.correct_w_non_preds.sum() - df_test.correct.sum()) / ROWS_TO_EVALUATE*100)}% \"\n",
    ")"
   ]
  },
  {
   "cell_type": "code",
   "execution_count": 22,
   "metadata": {},
   "outputs": [
    {
     "data": {
      "text/plain": [
       "array([{'drama': 0.527, 'thriller': 0.052, 'documentary': 0.037, 'horror': 0.026, 'science fiction': 0.024}],\n",
       "      dtype=object)"
      ]
     },
     "execution_count": 22,
     "metadata": {},
     "output_type": "execute_result"
    }
   ],
   "source": [
    "df_test.top_n_preds[3:4].values"
   ]
  },
  {
   "cell_type": "code",
   "execution_count": 15,
   "metadata": {},
   "outputs": [
    {
     "data": {
      "text/html": [
       "<div>\n",
       "<style scoped>\n",
       "    .dataframe tbody tr th:only-of-type {\n",
       "        vertical-align: middle;\n",
       "    }\n",
       "\n",
       "    .dataframe tbody tr th {\n",
       "        vertical-align: top;\n",
       "    }\n",
       "\n",
       "    .dataframe thead th {\n",
       "        text-align: right;\n",
       "    }\n",
       "</style>\n",
       "<table border=\"1\" class=\"dataframe\">\n",
       "  <thead>\n",
       "    <tr style=\"text-align: right;\">\n",
       "      <th></th>\n",
       "      <th>text</th>\n",
       "      <th>Genre</th>\n",
       "    </tr>\n",
       "  </thead>\n",
       "  <tbody>\n",
       "    <tr>\n",
       "      <th>0</th>\n",
       "      <td>two married reporters daniels and lyon in new ...</td>\n",
       "      <td>comedy</td>\n",
       "    </tr>\n",
       "    <tr>\n",
       "      <th>1</th>\n",
       "      <td>byomkesh and ajit have been approached by mr b...</td>\n",
       "      <td>thriller</td>\n",
       "    </tr>\n",
       "    <tr>\n",
       "      <th>2</th>\n",
       "      <td>in the first story nightmare a businessman dis...</td>\n",
       "      <td>comedy, horror</td>\n",
       "    </tr>\n",
       "    <tr>\n",
       "      <th>3</th>\n",
       "      <td>the first third of the film is told from the m...</td>\n",
       "      <td>drama</td>\n",
       "    </tr>\n",
       "    <tr>\n",
       "      <th>4</th>\n",
       "      <td>aniket deepankar de is one of the finest filmm...</td>\n",
       "      <td>drama</td>\n",
       "    </tr>\n",
       "    <tr>\n",
       "      <th>...</th>\n",
       "      <td>...</td>\n",
       "      <td>...</td>\n",
       "    </tr>\n",
       "    <tr>\n",
       "      <th>6077</th>\n",
       "      <td>the location is the belarusian forests close t...</td>\n",
       "      <td>war</td>\n",
       "    </tr>\n",
       "    <tr>\n",
       "      <th>6078</th>\n",
       "      <td>dhinakar jai akash hailing from an ordinary mi...</td>\n",
       "      <td>romance</td>\n",
       "    </tr>\n",
       "    <tr>\n",
       "      <th>6079</th>\n",
       "      <td>bharat nagar is a city in modern secular india...</td>\n",
       "      <td>action, crime, drama</td>\n",
       "    </tr>\n",
       "    <tr>\n",
       "      <th>6080</th>\n",
       "      <td>the film depicts several months in the life of...</td>\n",
       "      <td>drama</td>\n",
       "    </tr>\n",
       "    <tr>\n",
       "      <th>6081</th>\n",
       "      <td>from the uk vhs slick for the movie</td>\n",
       "      <td>crime</td>\n",
       "    </tr>\n",
       "  </tbody>\n",
       "</table>\n",
       "<p>6082 rows × 2 columns</p>\n",
       "</div>"
      ],
      "text/plain": [
       "                                                   text                 Genre\n",
       "0     two married reporters daniels and lyon in new ...                comedy\n",
       "1     byomkesh and ajit have been approached by mr b...              thriller\n",
       "2     in the first story nightmare a businessman dis...        comedy, horror\n",
       "3     the first third of the film is told from the m...                 drama\n",
       "4     aniket deepankar de is one of the finest filmm...                 drama\n",
       "...                                                 ...                   ...\n",
       "6077  the location is the belarusian forests close t...                   war\n",
       "6078  dhinakar jai akash hailing from an ordinary mi...               romance\n",
       "6079  bharat nagar is a city in modern secular india...  action, crime, drama\n",
       "6080  the film depicts several months in the life of...                 drama\n",
       "6081                from the uk vhs slick for the movie                 crime\n",
       "\n",
       "[6082 rows x 2 columns]"
      ]
     },
     "execution_count": 15,
     "metadata": {},
     "output_type": "execute_result"
    }
   ],
   "source": [
    "df_test"
   ]
  },
  {
   "cell_type": "code",
   "execution_count": 16,
   "metadata": {},
   "outputs": [
    {
     "name": "stdout",
     "output_type": "stream",
     "text": [
      "Confidence Threshold: 0.05\n",
      "Percent of predictions that include correct class: 67.46%\n",
      "Multi_guess discount score: 53.45%\n",
      "Multi_positive_outcome discount score: 67.46%\n",
      "Percent of non-preds: 0.0% \n",
      "Percent of wrong preds: 32.54%\n",
      "===========================================================================\n",
      "Confidence Threshold: 0.1\n",
      "Percent of predictions that include correct class: 58.11%\n",
      "Multi_guess discount score: 51.3%\n",
      "Multi_positive_outcome discount score: 58.35%\n",
      "Percent of non-preds: 0.25% \n",
      "Percent of wrong preds: 41.65%\n",
      "===========================================================================\n",
      "Confidence Threshold: 0.15000000000000002\n",
      "Percent of predictions that include correct class: 52.1%\n",
      "Multi_guess discount score: 48.65%\n",
      "Multi_positive_outcome discount score: 54.13%\n",
      "Percent of non-preds: 2.02% \n",
      "Percent of wrong preds: 45.87%\n",
      "===========================================================================\n",
      "Confidence Threshold: 0.2\n",
      "Percent of predictions that include correct class: 47.06%\n",
      "Multi_guess discount score: 45.59%\n",
      "Multi_positive_outcome discount score: 53.88%\n",
      "Percent of non-preds: 6.82% \n",
      "Percent of wrong preds: 46.12%\n",
      "===========================================================================\n",
      "Confidence Threshold: 0.25\n",
      "Percent of predictions that include correct class: 43.29%\n",
      "Multi_guess discount score: 42.78%\n",
      "Multi_positive_outcome discount score: 57.37%\n",
      "Percent of non-preds: 14.07% \n",
      "Percent of wrong preds: 42.63%\n",
      "===========================================================================\n",
      "Confidence Threshold: 0.3\n",
      "Percent of predictions that include correct class: 39.86%\n",
      "Multi_guess discount score: 39.67%\n",
      "Multi_positive_outcome discount score: 62.46%\n",
      "Percent of non-preds: 22.61% \n",
      "Percent of wrong preds: 37.54%\n",
      "===========================================================================\n",
      "Confidence Threshold: 0.35000000000000003\n",
      "Percent of predictions that include correct class: 37.13%\n",
      "Multi_guess discount score: 37.05%\n",
      "Multi_positive_outcome discount score: 68.09%\n",
      "Percent of non-preds: 30.96% \n",
      "Percent of wrong preds: 31.91%\n",
      "===========================================================================\n",
      "Confidence Threshold: 0.4\n",
      "Percent of predictions that include correct class: 34.46%\n",
      "Multi_guess discount score: 34.45%\n",
      "Multi_positive_outcome discount score: 72.79%\n",
      "Percent of non-preds: 38.33% \n",
      "Percent of wrong preds: 27.21%\n",
      "===========================================================================\n",
      "Confidence Threshold: 0.45\n",
      "Percent of predictions that include correct class: 31.83%\n",
      "Multi_guess discount score: 31.83%\n",
      "Multi_positive_outcome discount score: 76.73%\n",
      "Percent of non-preds: 44.9% \n",
      "Percent of wrong preds: 23.27%\n",
      "===========================================================================\n",
      "Confidence Threshold: 0.5\n",
      "Percent of predictions that include correct class: 29.4%\n",
      "Multi_guess discount score: 29.4%\n",
      "Multi_positive_outcome discount score: 80.57%\n",
      "Percent of non-preds: 51.17% \n",
      "Percent of wrong preds: 19.43%\n",
      "===========================================================================\n",
      "Confidence Threshold: 0.55\n",
      "Percent of predictions that include correct class: 26.49%\n",
      "Multi_guess discount score: 26.49%\n",
      "Multi_positive_outcome discount score: 83.2%\n",
      "Percent of non-preds: 56.71% \n",
      "Percent of wrong preds: 16.8%\n",
      "===========================================================================\n",
      "Confidence Threshold: 0.6000000000000001\n",
      "Percent of predictions that include correct class: 24.28%\n",
      "Multi_guess discount score: 24.28%\n",
      "Multi_positive_outcome discount score: 85.73%\n",
      "Percent of non-preds: 61.44% \n",
      "Percent of wrong preds: 14.27%\n",
      "===========================================================================\n",
      "Confidence Threshold: 0.6500000000000001\n",
      "Percent of predictions that include correct class: 22.05%\n",
      "Multi_guess discount score: 22.05%\n",
      "Multi_positive_outcome discount score: 87.9%\n",
      "Percent of non-preds: 65.85% \n",
      "Percent of wrong preds: 12.1%\n",
      "===========================================================================\n",
      "Confidence Threshold: 0.7000000000000001\n",
      "Percent of predictions that include correct class: 20.01%\n",
      "Multi_guess discount score: 20.01%\n",
      "Multi_positive_outcome discount score: 89.84%\n",
      "Percent of non-preds: 69.83% \n",
      "Percent of wrong preds: 10.16%\n",
      "===========================================================================\n",
      "Confidence Threshold: 0.7500000000000001\n",
      "Percent of predictions that include correct class: 17.92%\n",
      "Multi_guess discount score: 17.92%\n",
      "Multi_positive_outcome discount score: 91.75%\n",
      "Percent of non-preds: 73.82% \n",
      "Percent of wrong preds: 8.25%\n",
      "===========================================================================\n",
      "Confidence Threshold: 0.8\n",
      "Percent of predictions that include correct class: 15.04%\n",
      "Multi_guess discount score: 15.04%\n",
      "Multi_positive_outcome discount score: 93.78%\n",
      "Percent of non-preds: 78.74% \n",
      "Percent of wrong preds: 6.22%\n",
      "===========================================================================\n",
      "Confidence Threshold: 0.8500000000000001\n",
      "Percent of predictions that include correct class: 10.26%\n",
      "Multi_guess discount score: 10.26%\n",
      "Multi_positive_outcome discount score: 96.46%\n",
      "Percent of non-preds: 86.21% \n",
      "Percent of wrong preds: 3.54%\n",
      "===========================================================================\n",
      "Confidence Threshold: 0.9000000000000001\n",
      "Percent of predictions that include correct class: 4.32%\n",
      "Multi_guess discount score: 4.32%\n",
      "Multi_positive_outcome discount score: 99.15%\n",
      "Percent of non-preds: 94.82% \n",
      "Percent of wrong preds: 0.85%\n",
      "===========================================================================\n",
      "Confidence Threshold: 0.9500000000000001\n",
      "Percent of predictions that include correct class: 0.0%\n",
      "Multi_guess discount score: 0.0%\n",
      "Multi_positive_outcome discount score: 100.0%\n",
      "Percent of non-preds: 100.0% \n",
      "Percent of wrong preds: 0.0%\n",
      "===========================================================================\n"
     ]
    },
    {
     "data": {
      "image/png": "[encoded data removed]",
      "text/plain": [
       "<Figure size 1000x600 with 1 Axes>"
      ]
     },
     "metadata": {},
     "output_type": "display_data"
    }
   ],
   "source": [
    "ROWS_TO_EVALUATE = len(df_test)\n",
    "TOP_N_PREDS = 5\n",
    "\n",
    "thresholds = []\n",
    "percent_correct_list = []\n",
    "percent_correct_discount_list = []\n",
    "percent_correct_non_preds_list = []\n",
    "percent_non_preds_list = []\n",
    "percent_wrong_preds_list = []\n",
    "\n",
    "\n",
    "for CONFIDENCE_THRESHOLD in np.arange(0.05, 1, 0.05):\n",
    "    df_test[\"predicted_class\"] = df_test[\"text\"][:ROWS_TO_EVALUATE].apply(\n",
    "        predict_class, args=(tokenizer, trainer, id2label, CONFIDENCE_THRESHOLD)\n",
    "    )\n",
    "\n",
    "    df_test[\"correct\"] = df_test[:ROWS_TO_EVALUATE].apply(\n",
    "        lambda row: int(row[\"Genre\"] in row[\"predicted_class\"]), axis=1\n",
    "    )\n",
    "\n",
    "    df_test[\"correct_w_discount\"] = df_test[:ROWS_TO_EVALUATE].apply(\n",
    "        multi_cat_guess_penalty, axis=1, args=(0.9,)\n",
    "    )\n",
    "\n",
    "    df_test[\"correct_w_non_preds\"] = df_test[:ROWS_TO_EVALUATE].apply(\n",
    "        multi_positive_outcome, axis=1\n",
    "    )\n",
    "\n",
    "    df_test[\"top_n_preds\"] = df_test[\"text\"][:ROWS_TO_EVALUATE].apply(\n",
    "        n_most_likely_classes, args=(tokenizer, trainer, id2label, TOP_N_PREDS)\n",
    "    )\n",
    "\n",
    "    percent_correct = (df_test[\"correct\"].sum() / ROWS_TO_EVALUATE) * 100\n",
    "    percent_correct_discount = (\n",
    "        df_test[\"correct_w_discount\"].sum() / ROWS_TO_EVALUATE\n",
    "    ) * 100\n",
    "    percent_correct_non_preds = (\n",
    "        df_test[\"correct_w_non_preds\"].sum() / ROWS_TO_EVALUATE\n",
    "    ) * 100\n",
    "\n",
    "    percent_non_preds = (\n",
    "        len(df_test[df_test.predicted_class.str.len() == 0]) / ROWS_TO_EVALUATE\n",
    "    ) * 100\n",
    "    percent_wrong_preds = (\n",
    "        1 - (df_test.correct_w_non_preds.sum() / ROWS_TO_EVALUATE)\n",
    "    ) * 100\n",
    "\n",
    "    thresholds.append(CONFIDENCE_THRESHOLD)\n",
    "    percent_correct_list.append(percent_correct)\n",
    "    percent_correct_discount_list.append(percent_correct_discount)\n",
    "    percent_correct_non_preds_list.append(percent_correct_non_preds)\n",
    "    percent_non_preds_list.append(percent_non_preds)\n",
    "    percent_wrong_preds_list.append(percent_wrong_preds)\n",
    "\n",
    "    print(f\"Confidence Threshold: {CONFIDENCE_THRESHOLD}\")\n",
    "    print(\n",
    "        f\"Percent of predictions that include correct class: {round(percent_correct, 2)}%\"\n",
    "    )\n",
    "    print(f\"Multi_guess discount score: {round(percent_correct_discount, 2)}%\")\n",
    "    print(\n",
    "        f\"Multi_positive_outcome discount score: {round(percent_correct_non_preds, 2)}%\"\n",
    "    )\n",
    "    print(f\"Percent of non-preds: {round(percent_non_preds, 2)}% \")\n",
    "    print(f\"Percent of wrong preds: {round(percent_wrong_preds, 2)}%\")\n",
    "    print(\"=\" * 75)\n",
    "\n",
    "\n",
    "plt.figure(figsize=(10, 6))\n",
    "plt.plot(thresholds, percent_correct_list, marker=\"o\", label=\"Correct\")\n",
    "plt.plot(\n",
    "    thresholds, percent_correct_discount_list, marker=\"o\", label=\"Multi-guess Discount\"\n",
    ")\n",
    "plt.plot(\n",
    "    thresholds,\n",
    "    percent_correct_non_preds_list,\n",
    "    marker=\"o\",\n",
    "    label=\"Multi-positive-outcome\",\n",
    ")\n",
    "\n",
    "plt.plot(thresholds, percent_non_preds_list, marker=\"o\", label=\"Non-preds\")\n",
    "plt.plot(thresholds, percent_wrong_preds_list, marker=\"o\", label=\"Wrong Preds\")\n",
    "\n",
    "\n",
    "plt.xlabel(\"Confidence Threshold\")\n",
    "plt.ylabel(\"Percentage (%)\")\n",
    "plt.title(\"Effect of Confidence Threshold on Performance\")\n",
    "plt.legend()\n",
    "plt.grid(False)\n",
    "plt.show()"
   ]
  },
  {
   "cell_type": "code",
   "execution_count": 17,
   "metadata": {},
   "outputs": [],
   "source": [
    "data = {\n",
    "    \"threshold\": thresholds,\n",
    "    \"correct\": percent_correct_list,\n",
    "    \"correct_discount\": percent_correct_discount_list,\n",
    "    \"correct_non_preds\": percent_correct_non_preds_list,\n",
    "    \"non_preds\": percent_non_preds_list,\n",
    "    \"wrong_preds\": percent_wrong_preds_list,\n",
    "}"
   ]
  },
  {
   "cell_type": "code",
   "execution_count": 18,
   "metadata": {},
   "outputs": [],
   "source": [
    "results_df = pd.DataFrame(data)\n",
    "results_df = results_df.round(2)"
   ]
  },
  {
   "cell_type": "code",
   "execution_count": 19,
   "metadata": {},
   "outputs": [
    {
     "data": {
      "text/html": [
       "<div>\n",
       "<style scoped>\n",
       "    .dataframe tbody tr th:only-of-type {\n",
       "        vertical-align: middle;\n",
       "    }\n",
       "\n",
       "    .dataframe tbody tr th {\n",
       "        vertical-align: top;\n",
       "    }\n",
       "\n",
       "    .dataframe thead th {\n",
       "        text-align: right;\n",
       "    }\n",
       "</style>\n",
       "<table border=\"1\" class=\"dataframe\">\n",
       "  <thead>\n",
       "    <tr style=\"text-align: right;\">\n",
       "      <th></th>\n",
       "      <th>threshold</th>\n",
       "      <th>correct</th>\n",
       "      <th>correct_discount</th>\n",
       "      <th>correct_non_preds</th>\n",
       "      <th>non_preds</th>\n",
       "      <th>wrong_preds</th>\n",
       "    </tr>\n",
       "  </thead>\n",
       "  <tbody>\n",
       "    <tr>\n",
       "      <th>0</th>\n",
       "      <td>0.05</td>\n",
       "      <td>67.46</td>\n",
       "      <td>53.45</td>\n",
       "      <td>67.46</td>\n",
       "      <td>0.00</td>\n",
       "      <td>32.54</td>\n",
       "    </tr>\n",
       "    <tr>\n",
       "      <th>1</th>\n",
       "      <td>0.10</td>\n",
       "      <td>58.11</td>\n",
       "      <td>51.30</td>\n",
       "      <td>58.35</td>\n",
       "      <td>0.25</td>\n",
       "      <td>41.65</td>\n",
       "    </tr>\n",
       "    <tr>\n",
       "      <th>2</th>\n",
       "      <td>0.15</td>\n",
       "      <td>52.10</td>\n",
       "      <td>48.65</td>\n",
       "      <td>54.13</td>\n",
       "      <td>2.02</td>\n",
       "      <td>45.87</td>\n",
       "    </tr>\n",
       "    <tr>\n",
       "      <th>3</th>\n",
       "      <td>0.20</td>\n",
       "      <td>47.06</td>\n",
       "      <td>45.59</td>\n",
       "      <td>53.88</td>\n",
       "      <td>6.82</td>\n",
       "      <td>46.12</td>\n",
       "    </tr>\n",
       "    <tr>\n",
       "      <th>4</th>\n",
       "      <td>0.25</td>\n",
       "      <td>43.29</td>\n",
       "      <td>42.78</td>\n",
       "      <td>57.37</td>\n",
       "      <td>14.07</td>\n",
       "      <td>42.63</td>\n",
       "    </tr>\n",
       "    <tr>\n",
       "      <th>5</th>\n",
       "      <td>0.30</td>\n",
       "      <td>39.86</td>\n",
       "      <td>39.67</td>\n",
       "      <td>62.46</td>\n",
       "      <td>22.61</td>\n",
       "      <td>37.54</td>\n",
       "    </tr>\n",
       "    <tr>\n",
       "      <th>6</th>\n",
       "      <td>0.35</td>\n",
       "      <td>37.13</td>\n",
       "      <td>37.05</td>\n",
       "      <td>68.09</td>\n",
       "      <td>30.96</td>\n",
       "      <td>31.91</td>\n",
       "    </tr>\n",
       "    <tr>\n",
       "      <th>7</th>\n",
       "      <td>0.40</td>\n",
       "      <td>34.46</td>\n",
       "      <td>34.45</td>\n",
       "      <td>72.79</td>\n",
       "      <td>38.33</td>\n",
       "      <td>27.21</td>\n",
       "    </tr>\n",
       "    <tr>\n",
       "      <th>8</th>\n",
       "      <td>0.45</td>\n",
       "      <td>31.83</td>\n",
       "      <td>31.83</td>\n",
       "      <td>76.73</td>\n",
       "      <td>44.90</td>\n",
       "      <td>23.27</td>\n",
       "    </tr>\n",
       "    <tr>\n",
       "      <th>9</th>\n",
       "      <td>0.50</td>\n",
       "      <td>29.40</td>\n",
       "      <td>29.40</td>\n",
       "      <td>80.57</td>\n",
       "      <td>51.17</td>\n",
       "      <td>19.43</td>\n",
       "    </tr>\n",
       "    <tr>\n",
       "      <th>10</th>\n",
       "      <td>0.55</td>\n",
       "      <td>26.49</td>\n",
       "      <td>26.49</td>\n",
       "      <td>83.20</td>\n",
       "      <td>56.71</td>\n",
       "      <td>16.80</td>\n",
       "    </tr>\n",
       "    <tr>\n",
       "      <th>11</th>\n",
       "      <td>0.60</td>\n",
       "      <td>24.28</td>\n",
       "      <td>24.28</td>\n",
       "      <td>85.73</td>\n",
       "      <td>61.44</td>\n",
       "      <td>14.27</td>\n",
       "    </tr>\n",
       "    <tr>\n",
       "      <th>12</th>\n",
       "      <td>0.65</td>\n",
       "      <td>22.05</td>\n",
       "      <td>22.05</td>\n",
       "      <td>87.90</td>\n",
       "      <td>65.85</td>\n",
       "      <td>12.10</td>\n",
       "    </tr>\n",
       "    <tr>\n",
       "      <th>13</th>\n",
       "      <td>0.70</td>\n",
       "      <td>20.01</td>\n",
       "      <td>20.01</td>\n",
       "      <td>89.84</td>\n",
       "      <td>69.83</td>\n",
       "      <td>10.16</td>\n",
       "    </tr>\n",
       "    <tr>\n",
       "      <th>14</th>\n",
       "      <td>0.75</td>\n",
       "      <td>17.92</td>\n",
       "      <td>17.92</td>\n",
       "      <td>91.75</td>\n",
       "      <td>73.82</td>\n",
       "      <td>8.25</td>\n",
       "    </tr>\n",
       "    <tr>\n",
       "      <th>15</th>\n",
       "      <td>0.80</td>\n",
       "      <td>15.04</td>\n",
       "      <td>15.04</td>\n",
       "      <td>93.78</td>\n",
       "      <td>78.74</td>\n",
       "      <td>6.22</td>\n",
       "    </tr>\n",
       "    <tr>\n",
       "      <th>16</th>\n",
       "      <td>0.85</td>\n",
       "      <td>10.26</td>\n",
       "      <td>10.26</td>\n",
       "      <td>96.46</td>\n",
       "      <td>86.21</td>\n",
       "      <td>3.54</td>\n",
       "    </tr>\n",
       "    <tr>\n",
       "      <th>17</th>\n",
       "      <td>0.90</td>\n",
       "      <td>4.32</td>\n",
       "      <td>4.32</td>\n",
       "      <td>99.15</td>\n",
       "      <td>94.82</td>\n",
       "      <td>0.85</td>\n",
       "    </tr>\n",
       "    <tr>\n",
       "      <th>18</th>\n",
       "      <td>0.95</td>\n",
       "      <td>0.00</td>\n",
       "      <td>0.00</td>\n",
       "      <td>100.00</td>\n",
       "      <td>100.00</td>\n",
       "      <td>0.00</td>\n",
       "    </tr>\n",
       "  </tbody>\n",
       "</table>\n",
       "</div>"
      ],
      "text/plain": [
       "    threshold  correct  correct_discount  correct_non_preds  non_preds  \\\n",
       "0        0.05    67.46             53.45              67.46       0.00   \n",
       "1        0.10    58.11             51.30              58.35       0.25   \n",
       "2        0.15    52.10             48.65              54.13       2.02   \n",
       "3        0.20    47.06             45.59              53.88       6.82   \n",
       "4        0.25    43.29             42.78              57.37      14.07   \n",
       "5        0.30    39.86             39.67              62.46      22.61   \n",
       "6        0.35    37.13             37.05              68.09      30.96   \n",
       "7        0.40    34.46             34.45              72.79      38.33   \n",
       "8        0.45    31.83             31.83              76.73      44.90   \n",
       "9        0.50    29.40             29.40              80.57      51.17   \n",
       "10       0.55    26.49             26.49              83.20      56.71   \n",
       "11       0.60    24.28             24.28              85.73      61.44   \n",
       "12       0.65    22.05             22.05              87.90      65.85   \n",
       "13       0.70    20.01             20.01              89.84      69.83   \n",
       "14       0.75    17.92             17.92              91.75      73.82   \n",
       "15       0.80    15.04             15.04              93.78      78.74   \n",
       "16       0.85    10.26             10.26              96.46      86.21   \n",
       "17       0.90     4.32              4.32              99.15      94.82   \n",
       "18       0.95     0.00              0.00             100.00     100.00   \n",
       "\n",
       "    wrong_preds  \n",
       "0         32.54  \n",
       "1         41.65  \n",
       "2         45.87  \n",
       "3         46.12  \n",
       "4         42.63  \n",
       "5         37.54  \n",
       "6         31.91  \n",
       "7         27.21  \n",
       "8         23.27  \n",
       "9         19.43  \n",
       "10        16.80  \n",
       "11        14.27  \n",
       "12        12.10  \n",
       "13        10.16  \n",
       "14         8.25  \n",
       "15         6.22  \n",
       "16         3.54  \n",
       "17         0.85  \n",
       "18         0.00  "
      ]
     },
     "execution_count": 19,
     "metadata": {},
     "output_type": "execute_result"
    }
   ],
   "source": [
    "results_df"
   ]
  },
  {
   "cell_type": "code",
   "execution_count": null,
   "metadata": {},
   "outputs": [],
   "source": []
  }
 ],
 "metadata": {
  "kernelspec": {
   "display_name": "Python 3",
   "language": "python",
   "name": "python3"
  },
  "language_info": {
   "codemirror_mode": {
    "name": "ipython",
    "version": 3
   },
   "file_extension": ".py",
   "mimetype": "text/x-python",
   "name": "python",
   "nbconvert_exporter": "python",
   "pygments_lexer": "ipython3",
   "version": "3.10.12"
  },
  "orig_nbformat": 4
 },
 "nbformat": 4,
 "nbformat_minor": 2
}
