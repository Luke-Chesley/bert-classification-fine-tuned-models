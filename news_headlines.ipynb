{
 "cells": [
  {
   "cell_type": "code",
   "execution_count": 1,
   "metadata": {},
   "outputs": [
    {
     "name": "stderr",
     "output_type": "stream",
     "text": [
      "2023-09-01 09:53:44.948434: I tensorflow/core/util/port.cc:110] oneDNN custom operations are on. You may see slightly different numerical results due to floating-point round-off errors from different computation orders. To turn them off, set the environment variable `TF_ENABLE_ONEDNN_OPTS=0`.\n",
      "2023-09-01 09:53:44.968969: I tensorflow/core/platform/cpu_feature_guard.cc:182] This TensorFlow binary is optimized to use available CPU instructions in performance-critical operations.\n",
      "To enable the following instructions: AVX2 AVX_VNNI FMA, in other operations, rebuild TensorFlow with the appropriate compiler flags.\n",
      "2023-09-01 09:53:45.274202: W tensorflow/compiler/tf2tensorrt/utils/py_utils.cc:38] TF-TRT Warning: Could not find TensorRT\n"
     ]
    }
   ],
   "source": [
    "%run local_functions.py\n",
    "from local_functions import *\n",
    "\n",
    "import pandas as pd\n",
    "import numpy as np\n",
    "import matplotlib.pyplot as plt\n",
    "import re\n",
    "\n",
    "\n",
    "from datasets import load_dataset\n",
    "from datasets import Dataset, DatasetDict\n",
    "from transformers import BertConfig, BertModel\n",
    "\n",
    "\n",
    "from transformers import AutoTokenizer\n",
    "from transformers import AutoModelForSequenceClassification\n",
    "\n",
    "from sklearn.metrics import f1_score, roc_auc_score, accuracy_score\n",
    "from transformers import EvalPrediction\n",
    "import torch\n",
    "from transformers import TrainingArguments, Trainer\n",
    "\n",
    "\n",
    "from sklearn.model_selection import train_test_split\n",
    "\n",
    "plt.style.use(\"dark_background\")\n",
    "\n",
    "pd.set_option(\"display.max_columns\", 2500)\n",
    "pd.set_option(\"display.max_rows\", 50)\n",
    "pd.set_option(\"display.max_colwidth\", 50)\n",
    "\n",
    "\n",
    "plt.style.use(\"dark_background\")\n",
    "\n",
    "%load_ext lab_black"
   ]
  },
  {
   "cell_type": "code",
   "execution_count": 2,
   "metadata": {},
   "outputs": [],
   "source": [
    "df = pd.read_json(\"News_Category_Dataset_v3.json\", lines=True)\n",
    "df[\"text\"] = df[\"headline\"] + \" \" + df[\"short_description\"]\n",
    "df = df[[\"text\", \"category\"]]\n",
    "df[\"text\"] = df[\"text\"].apply(text_normalization_3)\n",
    "\n",
    "SAMPLE_SIZE = 25000\n",
    "\n",
    "df = df.sample(SAMPLE_SIZE, random_state=42).reset_index(drop=True)"
   ]
  },
  {
   "cell_type": "code",
   "execution_count": 3,
   "metadata": {},
   "outputs": [],
   "source": [
    "training_df, testing_df = train_test_split(df, test_size=0.25, random_state=42)"
   ]
  },
  {
   "cell_type": "code",
   "execution_count": 4,
   "metadata": {},
   "outputs": [
    {
     "data": {
      "text/html": [
       "<div>\n",
       "<style scoped>\n",
       "    .dataframe tbody tr th:only-of-type {\n",
       "        vertical-align: middle;\n",
       "    }\n",
       "\n",
       "    .dataframe tbody tr th {\n",
       "        vertical-align: top;\n",
       "    }\n",
       "\n",
       "    .dataframe thead th {\n",
       "        text-align: right;\n",
       "    }\n",
       "</style>\n",
       "<table border=\"1\" class=\"dataframe\">\n",
       "  <thead>\n",
       "    <tr style=\"text-align: right;\">\n",
       "      <th></th>\n",
       "      <th>text</th>\n",
       "      <th>category</th>\n",
       "    </tr>\n",
       "  </thead>\n",
       "  <tbody>\n",
       "    <tr>\n",
       "      <th>6920</th>\n",
       "      <td>youtuber anna akana is done taking roles that ...</td>\n",
       "      <td>ENTERTAINMENT</td>\n",
       "    </tr>\n",
       "    <tr>\n",
       "      <th>17926</th>\n",
       "      <td>elin nordegren 10 things she is done since the...</td>\n",
       "      <td>DIVORCE</td>\n",
       "    </tr>\n",
       "    <tr>\n",
       "      <th>1123</th>\n",
       "      <td>anderson cooper jokes that his mom hooked up w...</td>\n",
       "      <td>MEDIA</td>\n",
       "    </tr>\n",
       "    <tr>\n",
       "      <th>4518</th>\n",
       "      <td>amplifyd com challenges starbucks and peet s c...</td>\n",
       "      <td>GREEN</td>\n",
       "    </tr>\n",
       "    <tr>\n",
       "      <th>5576</th>\n",
       "      <td>america needs to send john kerry to cop22 with...</td>\n",
       "      <td>THE WORLDPOST</td>\n",
       "    </tr>\n",
       "    <tr>\n",
       "      <th>...</th>\n",
       "      <td>...</td>\n",
       "      <td>...</td>\n",
       "    </tr>\n",
       "    <tr>\n",
       "      <th>21575</th>\n",
       "      <td>u s military soldier based in south korea test...</td>\n",
       "      <td>WORLD NEWS</td>\n",
       "    </tr>\n",
       "    <tr>\n",
       "      <th>5390</th>\n",
       "      <td>tips for your child s first summer sleep away ...</td>\n",
       "      <td>PARENTS</td>\n",
       "    </tr>\n",
       "    <tr>\n",
       "      <th>860</th>\n",
       "      <td>how kim jong un baited trump into canceling th...</td>\n",
       "      <td>WORLD NEWS</td>\n",
       "    </tr>\n",
       "    <tr>\n",
       "      <th>15795</th>\n",
       "      <td>lost recipes i try to remind myself how she di...</td>\n",
       "      <td>FOOD &amp; DRINK</td>\n",
       "    </tr>\n",
       "    <tr>\n",
       "      <th>23654</th>\n",
       "      <td>letting go of the custody agreement the schedu...</td>\n",
       "      <td>DIVORCE</td>\n",
       "    </tr>\n",
       "  </tbody>\n",
       "</table>\n",
       "<p>18750 rows × 2 columns</p>\n",
       "</div>"
      ],
      "text/plain": [
       "                                                    text       category\n",
       "6920   youtuber anna akana is done taking roles that ...  ENTERTAINMENT\n",
       "17926  elin nordegren 10 things she is done since the...        DIVORCE\n",
       "1123   anderson cooper jokes that his mom hooked up w...          MEDIA\n",
       "4518   amplifyd com challenges starbucks and peet s c...          GREEN\n",
       "5576   america needs to send john kerry to cop22 with...  THE WORLDPOST\n",
       "...                                                  ...            ...\n",
       "21575  u s military soldier based in south korea test...     WORLD NEWS\n",
       "5390   tips for your child s first summer sleep away ...        PARENTS\n",
       "860    how kim jong un baited trump into canceling th...     WORLD NEWS\n",
       "15795  lost recipes i try to remind myself how she di...   FOOD & DRINK\n",
       "23654  letting go of the custody agreement the schedu...        DIVORCE\n",
       "\n",
       "[18750 rows x 2 columns]"
      ]
     },
     "execution_count": 4,
     "metadata": {},
     "output_type": "execute_result"
    }
   ],
   "source": [
    "training_df"
   ]
  },
  {
   "cell_type": "code",
   "execution_count": 5,
   "metadata": {},
   "outputs": [],
   "source": [
    "encoded_df = pd.get_dummies(\n",
    "    training_df[\"category\"], columns=[\"category\"], prefix=\"\", prefix_sep=\"\"\n",
    ")\n",
    "encoded_df = encoded_df.astype(bool)\n",
    "encoded_df_con = pd.concat([training_df[\"text\"], encoded_df], axis=1)"
   ]
  },
  {
   "cell_type": "markdown",
   "metadata": {},
   "source": [
    "# Dataset"
   ]
  },
  {
   "cell_type": "code",
   "execution_count": 6,
   "metadata": {},
   "outputs": [],
   "source": [
    "train_df, temp_df = train_test_split(encoded_df_con, test_size=0.3, random_state=42)\n",
    "valid_df, test_df = train_test_split(temp_df, test_size=0.5, random_state=42)"
   ]
  },
  {
   "cell_type": "code",
   "execution_count": 7,
   "metadata": {},
   "outputs": [],
   "source": [
    "# Convert the split DataFrames into Datasets\n",
    "train = Dataset.from_pandas(train_df, split=\"train\")\n",
    "valid = Dataset.from_pandas(valid_df, split=\"validation\")\n",
    "test = Dataset.from_pandas(test_df, split=\"test\")\n",
    "\n",
    "dataset = DatasetDict({\"train\": train, \"validation\": valid, \"test\": test})"
   ]
  },
  {
   "cell_type": "code",
   "execution_count": 8,
   "metadata": {},
   "outputs": [],
   "source": [
    "labels = [\n",
    "    label\n",
    "    for label in dataset[\"train\"].features.keys()\n",
    "    if label not in [\"text\", \"__index_level_0__\"]\n",
    "]\n",
    "id2label = {idx: label for idx, label in enumerate(labels)}\n",
    "label2id = {label: idx for idx, label in enumerate(labels)}"
   ]
  },
  {
   "cell_type": "markdown",
   "metadata": {},
   "source": [
    "# Tokenize"
   ]
  },
  {
   "cell_type": "code",
   "execution_count": 9,
   "metadata": {},
   "outputs": [],
   "source": [
    "LM = \"bert-base-uncased\""
   ]
  },
  {
   "cell_type": "code",
   "execution_count": 10,
   "metadata": {},
   "outputs": [],
   "source": [
    "tokenizer = AutoTokenizer.from_pretrained(LM)"
   ]
  },
  {
   "cell_type": "code",
   "execution_count": 38,
   "metadata": {},
   "outputs": [
    {
     "data": {
      "application/vnd.jupyter.widget-view+json": {
       "model_id": "f8d8318c2d1b4d4daa23cb9a51db85b6",
       "version_major": 2,
       "version_minor": 0
      },
      "text/plain": [
       "Map:   0%|          | 0/13125 [00:00<?, ? examples/s]"
      ]
     },
     "metadata": {},
     "output_type": "display_data"
    },
    {
     "data": {
      "application/vnd.jupyter.widget-view+json": {
       "model_id": "c0d2e10380bf42d3835b4737ea6347a3",
       "version_major": 2,
       "version_minor": 0
      },
      "text/plain": [
       "Map:   0%|          | 0/2812 [00:00<?, ? examples/s]"
      ]
     },
     "metadata": {},
     "output_type": "display_data"
    },
    {
     "data": {
      "application/vnd.jupyter.widget-view+json": {
       "model_id": "501778361ffd47b1b42753e1b4564c89",
       "version_major": 2,
       "version_minor": 0
      },
      "text/plain": [
       "Map:   0%|          | 0/2813 [00:00<?, ? examples/s]"
      ]
     },
     "metadata": {},
     "output_type": "display_data"
    }
   ],
   "source": [
    "def preprocess_data(examples):\n",
    "    # take a batch of texts\n",
    "    text = examples[\"text\"]\n",
    "    # encode them\n",
    "    encoding = tokenizer(text, padding=\"max_length\", truncation=True, max_length=256)\n",
    "    # add labels\n",
    "    labels_batch = {k: examples[k] for k in examples.keys() if k in labels}\n",
    "    # create numpy array of shape (batch_size, num_labels)\n",
    "    labels_matrix = np.zeros((len(text), len(labels)))\n",
    "    # fill numpy array\n",
    "    for idx, label in enumerate(labels):\n",
    "        labels_matrix[:, idx] = labels_batch[label]\n",
    "\n",
    "    encoding[\"labels\"] = labels_matrix.tolist()\n",
    "\n",
    "    return encoding\n",
    "\n",
    "\n",
    "encoded_dataset = dataset.map(\n",
    "    preprocess_data, batched=True, remove_columns=dataset[\"train\"].column_names\n",
    ")\n",
    "\n",
    "encoded_dataset.set_format(\"torch\")"
   ]
  },
  {
   "cell_type": "code",
   "execution_count": 39,
   "metadata": {},
   "outputs": [
    {
     "name": "stderr",
     "output_type": "stream",
     "text": [
      "Some weights of BertForSequenceClassification were not initialized from the model checkpoint at bert-base-uncased and are newly initialized: ['classifier.weight', 'classifier.bias']\n",
      "You should probably TRAIN this model on a down-stream task to be able to use it for predictions and inference.\n"
     ]
    }
   ],
   "source": [
    "model = AutoModelForSequenceClassification.from_pretrained(\n",
    "    LM,\n",
    "    problem_type=\"multi_label_classification\",\n",
    "    num_labels=len(labels),\n",
    "    id2label=id2label,\n",
    "    label2id=label2id,\n",
    ")"
   ]
  },
  {
   "cell_type": "code",
   "execution_count": 40,
   "metadata": {},
   "outputs": [],
   "source": [
    "batch_size = 8\n",
    "metric_name = \"f1\""
   ]
  },
  {
   "cell_type": "code",
   "execution_count": 41,
   "metadata": {},
   "outputs": [],
   "source": [
    "args = TrainingArguments(\n",
    "    f\"bert-finetuned-sem_eval-english\",\n",
    "    evaluation_strategy=\"epoch\",\n",
    "    save_strategy=\"epoch\",\n",
    "    learning_rate=2e-5,\n",
    "    per_device_train_batch_size=batch_size,\n",
    "    per_device_eval_batch_size=batch_size,\n",
    "    num_train_epochs=5,\n",
    "    weight_decay=0.01,\n",
    "    load_best_model_at_end=True,\n",
    "    metric_for_best_model=metric_name,\n",
    "    # push_to_hub=True,\n",
    ")"
   ]
  },
  {
   "cell_type": "code",
   "execution_count": 42,
   "metadata": {},
   "outputs": [],
   "source": [
    "def multi_label_metrics(\n",
    "    predictions, labels, threshold=0.5\n",
    "):  # threshold = confidence threshold, important. 0.5 doesnt always work\n",
    "    # first, apply sigmoid on predictions which are of shape (batch_size, num_labels)\n",
    "    sigmoid = torch.nn.Sigmoid()\n",
    "    probs = sigmoid(torch.Tensor(predictions))\n",
    "    # use threshold to turn them into int predictions\n",
    "    y_pred = np.zeros(probs.shape)\n",
    "    y_pred[np.where(probs >= threshold)] = 1\n",
    "    # compute metrics\n",
    "    y_true = labels\n",
    "    f1_micro_average = f1_score(y_true=y_true, y_pred=y_pred, average=\"micro\")\n",
    "    roc_auc = roc_auc_score(y_true, y_pred, average=\"micro\")\n",
    "    accuracy = accuracy_score(y_true, y_pred)\n",
    "    # return as dictionary\n",
    "    metrics = {\"f1\": f1_micro_average, \"roc_auc\": roc_auc, \"accuracy\": accuracy}\n",
    "    return metrics\n",
    "\n",
    "\n",
    "def compute_metrics(p: EvalPrediction):\n",
    "    preds = p.predictions[0] if isinstance(p.predictions, tuple) else p.predictions\n",
    "    result = multi_label_metrics(predictions=preds, labels=p.label_ids)\n",
    "    return result"
   ]
  },
  {
   "cell_type": "code",
   "execution_count": 43,
   "metadata": {},
   "outputs": [],
   "source": [
    "trainer = Trainer(\n",
    "    model,\n",
    "    args,\n",
    "    train_dataset=encoded_dataset[\"train\"],\n",
    "    eval_dataset=encoded_dataset[\"validation\"],\n",
    "    tokenizer=tokenizer,\n",
    "    compute_metrics=compute_metrics,\n",
    ")"
   ]
  },
  {
   "cell_type": "code",
   "execution_count": 44,
   "metadata": {},
   "outputs": [
    {
     "name": "stderr",
     "output_type": "stream",
     "text": [
      "/home/luke/.local/lib/python3.10/site-packages/transformers/optimization.py:411: FutureWarning: This implementation of AdamW is deprecated and will be removed in a future version. Use the PyTorch implementation torch.optim.AdamW instead, or set `no_deprecation_warning=True` to disable this warning\n",
      "  warnings.warn(\n"
     ]
    },
    {
     "data": {
      "application/vnd.jupyter.widget-view+json": {
       "model_id": "ccc0e8ad7ae74ee0810eb2d659772e7d",
       "version_major": 2,
       "version_minor": 0
      },
      "text/plain": [
       "  0%|          | 0/8205 [00:00<?, ?it/s]"
      ]
     },
     "metadata": {},
     "output_type": "display_data"
    },
    {
     "name": "stderr",
     "output_type": "stream",
     "text": [
      "You're using a BertTokenizerFast tokenizer. Please note that with a fast tokenizer, using the `__call__` method is faster than using a method to encode the text followed by a call to the `pad` method to get a padded encoding.\n"
     ]
    },
    {
     "name": "stdout",
     "output_type": "stream",
     "text": [
      "{'loss': 0.1717, 'learning_rate': 1.87812309567337e-05, 'epoch': 0.3}\n",
      "{'loss': 0.0944, 'learning_rate': 1.7562461913467398e-05, 'epoch': 0.61}\n",
      "{'loss': 0.0832, 'learning_rate': 1.6343692870201096e-05, 'epoch': 0.91}\n"
     ]
    },
    {
     "data": {
      "application/vnd.jupyter.widget-view+json": {
       "model_id": "488dac004aa042b6bb830542bb2674e6",
       "version_major": 2,
       "version_minor": 0
      },
      "text/plain": [
       "  0%|          | 0/352 [00:00<?, ?it/s]"
      ]
     },
     "metadata": {},
     "output_type": "display_data"
    },
    {
     "name": "stdout",
     "output_type": "stream",
     "text": [
      "{'eval_loss': 0.07569011300802231, 'eval_f1': 0.35810446957458264, 'eval_roc_auc': 0.6172154182423758, 'eval_accuracy': 0.23648648648648649, 'eval_runtime': 16.6632, 'eval_samples_per_second': 168.755, 'eval_steps_per_second': 21.124, 'epoch': 1.0}\n",
      "{'loss': 0.0714, 'learning_rate': 1.5124923826934796e-05, 'epoch': 1.22}\n",
      "{'loss': 0.0649, 'learning_rate': 1.3906154783668494e-05, 'epoch': 1.52}\n",
      "{'loss': 0.0619, 'learning_rate': 1.2687385740402194e-05, 'epoch': 1.83}\n"
     ]
    },
    {
     "data": {
      "application/vnd.jupyter.widget-view+json": {
       "model_id": "400be7ad23554961bd1a45d764d99858",
       "version_major": 2,
       "version_minor": 0
      },
      "text/plain": [
       "  0%|          | 0/352 [00:00<?, ?it/s]"
      ]
     },
     "metadata": {},
     "output_type": "display_data"
    },
    {
     "name": "stdout",
     "output_type": "stream",
     "text": [
      "{'eval_loss': 0.060076575726270676, 'eval_f1': 0.5273446590644636, 'eval_roc_auc': 0.6999314783332755, 'eval_accuracy': 0.40291607396870555, 'eval_runtime': 16.6423, 'eval_samples_per_second': 168.967, 'eval_steps_per_second': 21.151, 'epoch': 2.0}\n",
      "{'loss': 0.0559, 'learning_rate': 1.1468616697135894e-05, 'epoch': 2.13}\n",
      "{'loss': 0.0501, 'learning_rate': 1.0249847653869594e-05, 'epoch': 2.44}\n",
      "{'loss': 0.048, 'learning_rate': 9.03107861060329e-06, 'epoch': 2.74}\n"
     ]
    },
    {
     "data": {
      "application/vnd.jupyter.widget-view+json": {
       "model_id": "a68c5ad8d84742e5a224e751156f079e",
       "version_major": 2,
       "version_minor": 0
      },
      "text/plain": [
       "  0%|          | 0/352 [00:00<?, ?it/s]"
      ]
     },
     "metadata": {},
     "output_type": "display_data"
    },
    {
     "name": "stdout",
     "output_type": "stream",
     "text": [
      "{'eval_loss': 0.055335044860839844, 'eval_f1': 0.565286263860602, 'eval_roc_auc': 0.7205313464941193, 'eval_accuracy': 0.4441678520625889, 'eval_runtime': 15.7393, 'eval_samples_per_second': 178.661, 'eval_steps_per_second': 22.364, 'epoch': 3.0}\n",
      "{'loss': 0.0465, 'learning_rate': 7.81230956733699e-06, 'epoch': 3.05}\n",
      "{'loss': 0.04, 'learning_rate': 6.59354052407069e-06, 'epoch': 3.35}\n",
      "{'loss': 0.0403, 'learning_rate': 5.374771480804388e-06, 'epoch': 3.66}\n",
      "{'loss': 0.0393, 'learning_rate': 4.156002437538087e-06, 'epoch': 3.96}\n"
     ]
    },
    {
     "data": {
      "application/vnd.jupyter.widget-view+json": {
       "model_id": "803863a9ff704cffbdcf4fec1a8aab3a",
       "version_major": 2,
       "version_minor": 0
      },
      "text/plain": [
       "  0%|          | 0/352 [00:00<?, ?it/s]"
      ]
     },
     "metadata": {},
     "output_type": "display_data"
    },
    {
     "name": "stdout",
     "output_type": "stream",
     "text": [
      "{'eval_loss': 0.05379441753029823, 'eval_f1': 0.5949913644214162, 'eval_roc_auc': 0.7431044651840545, 'eval_accuracy': 0.4900426742532006, 'eval_runtime': 15.7378, 'eval_samples_per_second': 178.678, 'eval_steps_per_second': 22.367, 'epoch': 4.0}\n",
      "{'loss': 0.0352, 'learning_rate': 2.9372333942717856e-06, 'epoch': 4.27}\n",
      "{'loss': 0.0339, 'learning_rate': 1.7184643510054846e-06, 'epoch': 4.57}\n",
      "{'loss': 0.0346, 'learning_rate': 4.996953077391835e-07, 'epoch': 4.88}\n"
     ]
    },
    {
     "data": {
      "application/vnd.jupyter.widget-view+json": {
       "model_id": "f2b6d8803f5144e29b6fe1056db9d3f2",
       "version_major": 2,
       "version_minor": 0
      },
      "text/plain": [
       "  0%|          | 0/352 [00:00<?, ?it/s]"
      ]
     },
     "metadata": {},
     "output_type": "display_data"
    },
    {
     "name": "stdout",
     "output_type": "stream",
     "text": [
      "{'eval_loss': 0.05378809571266174, 'eval_f1': 0.5902134080620823, 'eval_roc_auc': 0.7414347916594386, 'eval_accuracy': 0.4868421052631579, 'eval_runtime': 15.7379, 'eval_samples_per_second': 178.677, 'eval_steps_per_second': 22.366, 'epoch': 5.0}\n",
      "{'train_runtime': 1420.1854, 'train_samples_per_second': 46.209, 'train_steps_per_second': 5.777, 'train_loss': 0.060044924011323456, 'epoch': 5.0}\n"
     ]
    },
    {
     "data": {
      "text/plain": [
       "TrainOutput(global_step=8205, training_loss=0.060044924011323456, metrics={'train_runtime': 1420.1854, 'train_samples_per_second': 46.209, 'train_steps_per_second': 5.777, 'train_loss': 0.060044924011323456, 'epoch': 5.0})"
      ]
     },
     "execution_count": 44,
     "metadata": {},
     "output_type": "execute_result"
    }
   ],
   "source": [
    "trainer.train()"
   ]
  },
  {
   "cell_type": "code",
   "execution_count": 45,
   "metadata": {},
   "outputs": [
    {
     "data": {
      "application/vnd.jupyter.widget-view+json": {
       "model_id": "35e89face9a34bf8a7a50df4409d6ba6",
       "version_major": 2,
       "version_minor": 0
      },
      "text/plain": [
       "  0%|          | 0/352 [00:00<?, ?it/s]"
      ]
     },
     "metadata": {},
     "output_type": "display_data"
    },
    {
     "data": {
      "text/plain": [
       "{'eval_loss': 0.05379441753029823,\n",
       " 'eval_f1': 0.5949913644214162,\n",
       " 'eval_roc_auc': 0.7431044651840545,\n",
       " 'eval_accuracy': 0.4900426742532006,\n",
       " 'eval_runtime': 16.5024,\n",
       " 'eval_samples_per_second': 170.399,\n",
       " 'eval_steps_per_second': 21.33,\n",
       " 'epoch': 5.0}"
      ]
     },
     "execution_count": 45,
     "metadata": {},
     "output_type": "execute_result"
    }
   ],
   "source": [
    "trainer.evaluate()"
   ]
  },
  {
   "cell_type": "code",
   "execution_count": 46,
   "metadata": {},
   "outputs": [],
   "source": [
    "#trainer.save_model(\"bert-finetuned-news-headlines\")"
   ]
  },
  {
   "cell_type": "markdown",
   "metadata": {},
   "source": [
    "# Eval - Training 23 mins"
   ]
  },
  {
   "cell_type": "code",
   "execution_count": 11,
   "metadata": {},
   "outputs": [],
   "source": [
    "model = AutoModelForSequenceClassification.from_pretrained(\n",
    "    \"bert-finetuned-news-headlines\"\n",
    ")\n",
    "trainer = Trainer(model=model, tokenizer=tokenizer)"
   ]
  },
  {
   "cell_type": "code",
   "execution_count": 12,
   "metadata": {},
   "outputs": [],
   "source": [
    "df_test = testing_df.reset_index(drop=True)"
   ]
  },
  {
   "cell_type": "code",
   "execution_count": 13,
   "metadata": {},
   "outputs": [
    {
     "data": {
      "text/html": [
       "<div>\n",
       "<style scoped>\n",
       "    .dataframe tbody tr th:only-of-type {\n",
       "        vertical-align: middle;\n",
       "    }\n",
       "\n",
       "    .dataframe tbody tr th {\n",
       "        vertical-align: top;\n",
       "    }\n",
       "\n",
       "    .dataframe thead th {\n",
       "        text-align: right;\n",
       "    }\n",
       "</style>\n",
       "<table border=\"1\" class=\"dataframe\">\n",
       "  <thead>\n",
       "    <tr style=\"text-align: right;\">\n",
       "      <th></th>\n",
       "      <th>text</th>\n",
       "      <th>category</th>\n",
       "    </tr>\n",
       "  </thead>\n",
       "  <tbody>\n",
       "    <tr>\n",
       "      <th>0</th>\n",
       "      <td>the mistake that leads to better brownies most...</td>\n",
       "      <td>FOOD &amp; DRINK</td>\n",
       "    </tr>\n",
       "    <tr>\n",
       "      <th>1</th>\n",
       "      <td>after the shooting at spu desolation consolati...</td>\n",
       "      <td>RELIGION</td>\n",
       "    </tr>\n",
       "    <tr>\n",
       "      <th>2</th>\n",
       "      <td>gordon ramsay sued over unpaid wages by employ...</td>\n",
       "      <td>BUSINESS</td>\n",
       "    </tr>\n",
       "    <tr>\n",
       "      <th>3</th>\n",
       "      <td>fire breaks out at mexico s top refinery 9 peo...</td>\n",
       "      <td>WORLD NEWS</td>\n",
       "    </tr>\n",
       "    <tr>\n",
       "      <th>4</th>\n",
       "      <td>20 ways to make your marriage stronger grooms ...</td>\n",
       "      <td>WEDDINGS</td>\n",
       "    </tr>\n",
       "    <tr>\n",
       "      <th>...</th>\n",
       "      <td>...</td>\n",
       "      <td>...</td>\n",
       "    </tr>\n",
       "    <tr>\n",
       "      <th>6245</th>\n",
       "      <td>scott weiland died from toxic mix of drugs acc...</td>\n",
       "      <td>ENTERTAINMENT</td>\n",
       "    </tr>\n",
       "    <tr>\n",
       "      <th>6246</th>\n",
       "      <td>15 reasons why october is the best time to vis...</td>\n",
       "      <td>TRAVEL</td>\n",
       "    </tr>\n",
       "    <tr>\n",
       "      <th>6247</th>\n",
       "      <td>teen allegedly held captive is feeling a lot b...</td>\n",
       "      <td>CRIME</td>\n",
       "    </tr>\n",
       "    <tr>\n",
       "      <th>6248</th>\n",
       "      <td>take a look at the best animal photos of the week</td>\n",
       "      <td>GREEN</td>\n",
       "    </tr>\n",
       "    <tr>\n",
       "      <th>6249</th>\n",
       "      <td>dramatic photos show texas under water with fl...</td>\n",
       "      <td>GREEN</td>\n",
       "    </tr>\n",
       "  </tbody>\n",
       "</table>\n",
       "<p>6250 rows × 2 columns</p>\n",
       "</div>"
      ],
      "text/plain": [
       "                                                   text       category\n",
       "0     the mistake that leads to better brownies most...   FOOD & DRINK\n",
       "1     after the shooting at spu desolation consolati...       RELIGION\n",
       "2     gordon ramsay sued over unpaid wages by employ...       BUSINESS\n",
       "3     fire breaks out at mexico s top refinery 9 peo...     WORLD NEWS\n",
       "4     20 ways to make your marriage stronger grooms ...       WEDDINGS\n",
       "...                                                 ...            ...\n",
       "6245  scott weiland died from toxic mix of drugs acc...  ENTERTAINMENT\n",
       "6246  15 reasons why october is the best time to vis...         TRAVEL\n",
       "6247  teen allegedly held captive is feeling a lot b...          CRIME\n",
       "6248  take a look at the best animal photos of the week          GREEN\n",
       "6249  dramatic photos show texas under water with fl...          GREEN\n",
       "\n",
       "[6250 rows x 2 columns]"
      ]
     },
     "execution_count": 13,
     "metadata": {},
     "output_type": "execute_result"
    }
   ],
   "source": [
    "df_test"
   ]
  },
  {
   "cell_type": "code",
   "execution_count": 88,
   "metadata": {},
   "outputs": [
    {
     "name": "stdout",
     "output_type": "stream",
     "text": [
      "Percent of predictions that include correct class: 41.36%\n",
      "Multi_guess discount score: 41.36%\n",
      "Multi_positive_outcome discount score: 89.79%\n",
      "Percent of non-preds: 48.43% \n",
      "Percent of wrong preds: 10.21%\n"
     ]
    }
   ],
   "source": [
    "ROWS_TO_EVALUATE = len(df_test)\n",
    "\n",
    "CONFIDENCE_THRESHOLD = 0.65  # 0.1 works well for low number of non-responses\n",
    "\n",
    "TOP_N_PREDS = 5  # number of top predictions to return\n",
    "\n",
    "\n",
    "# make predictions\n",
    "df_test[\"predicted_class\"] = df_test[\"text\"][0:ROWS_TO_EVALUATE].apply(\n",
    "    predict_class, args=(tokenizer, trainer, id2label, CONFIDENCE_THRESHOLD)\n",
    ")  # args: text, tokenizer, trainer, id2label, CONFIDENCE_THRESHOLD=0.5\n",
    "\n",
    "# calculate if prediction is correct\n",
    "df_test[\"correct\"] = df_test[0:ROWS_TO_EVALUATE].apply(\n",
    "    lambda row: int(row[\"category\"] in row[\"predicted_class\"]), axis=1\n",
    ")\n",
    "# calculate score (including penalty for guessing multiple categories) used to help find optimal confidence threshold\n",
    "df_test[\"correct_w_discount\"] = df_test[0:ROWS_TO_EVALUATE].apply(\n",
    "    multi_cat_guess_penalty,\n",
    "    axis=1,\n",
    "    args=(0.9,),  # muli_cat_guess_penalty (somewhere around 0.85 works well)\n",
    ")\n",
    "\n",
    "df_test[\"correct_w_non_preds\"] = df_test.apply(multi_positive_outcome, axis=1)\n",
    "\n",
    "# get top n predictions\n",
    "df_test[\"top_n_preds\"] = df_test[\"text\"][0:ROWS_TO_EVALUATE].apply(\n",
    "    n_most_likely_classes, args=(tokenizer, trainer, id2label, TOP_N_PREDS)\n",
    ")\n",
    "\n",
    "print(\n",
    "    f\"Percent of predictions that include correct class: {round((df_test.correct.sum() / ROWS_TO_EVALUATE)*100, 2)}%\"\n",
    ")\n",
    "print(\n",
    "    f\"Multi_guess discount score: {round((df_test.correct_w_discount.sum() / ROWS_TO_EVALUATE)*100, 2)}%\"\n",
    ")\n",
    "print(\n",
    "    f\"Multi_positive_outcome discount score: {round((df_test.correct_w_non_preds.sum() / ROWS_TO_EVALUATE)*100, 2)}%\"\n",
    ")\n",
    "\n",
    "print(\n",
    "    f\"Percent of non-preds: {round((df_test.correct_w_non_preds.sum() - df_test.correct.sum()) / ROWS_TO_EVALUATE*100, 2)}% \"\n",
    ")\n",
    "print(\n",
    "    f\"Percent of wrong preds: {round((1-(df_test.correct_w_non_preds.sum() / ROWS_TO_EVALUATE))*100,2)}%\"\n",
    ")"
   ]
  },
  {
   "cell_type": "code",
   "execution_count": 14,
   "metadata": {},
   "outputs": [
    {
     "data": {
      "text/html": [
       "<div>\n",
       "<style scoped>\n",
       "    .dataframe tbody tr th:only-of-type {\n",
       "        vertical-align: middle;\n",
       "    }\n",
       "\n",
       "    .dataframe tbody tr th {\n",
       "        vertical-align: top;\n",
       "    }\n",
       "\n",
       "    .dataframe thead th {\n",
       "        text-align: right;\n",
       "    }\n",
       "</style>\n",
       "<table border=\"1\" class=\"dataframe\">\n",
       "  <thead>\n",
       "    <tr style=\"text-align: right;\">\n",
       "      <th></th>\n",
       "      <th>text</th>\n",
       "      <th>category</th>\n",
       "    </tr>\n",
       "  </thead>\n",
       "  <tbody>\n",
       "    <tr>\n",
       "      <th>0</th>\n",
       "      <td>the mistake that leads to better brownies most...</td>\n",
       "      <td>FOOD &amp; DRINK</td>\n",
       "    </tr>\n",
       "    <tr>\n",
       "      <th>1</th>\n",
       "      <td>after the shooting at spu desolation consolati...</td>\n",
       "      <td>RELIGION</td>\n",
       "    </tr>\n",
       "    <tr>\n",
       "      <th>2</th>\n",
       "      <td>gordon ramsay sued over unpaid wages by employ...</td>\n",
       "      <td>BUSINESS</td>\n",
       "    </tr>\n",
       "    <tr>\n",
       "      <th>3</th>\n",
       "      <td>fire breaks out at mexico s top refinery 9 peo...</td>\n",
       "      <td>WORLD NEWS</td>\n",
       "    </tr>\n",
       "    <tr>\n",
       "      <th>4</th>\n",
       "      <td>20 ways to make your marriage stronger grooms ...</td>\n",
       "      <td>WEDDINGS</td>\n",
       "    </tr>\n",
       "    <tr>\n",
       "      <th>...</th>\n",
       "      <td>...</td>\n",
       "      <td>...</td>\n",
       "    </tr>\n",
       "    <tr>\n",
       "      <th>6245</th>\n",
       "      <td>scott weiland died from toxic mix of drugs acc...</td>\n",
       "      <td>ENTERTAINMENT</td>\n",
       "    </tr>\n",
       "    <tr>\n",
       "      <th>6246</th>\n",
       "      <td>15 reasons why october is the best time to vis...</td>\n",
       "      <td>TRAVEL</td>\n",
       "    </tr>\n",
       "    <tr>\n",
       "      <th>6247</th>\n",
       "      <td>teen allegedly held captive is feeling a lot b...</td>\n",
       "      <td>CRIME</td>\n",
       "    </tr>\n",
       "    <tr>\n",
       "      <th>6248</th>\n",
       "      <td>take a look at the best animal photos of the week</td>\n",
       "      <td>GREEN</td>\n",
       "    </tr>\n",
       "    <tr>\n",
       "      <th>6249</th>\n",
       "      <td>dramatic photos show texas under water with fl...</td>\n",
       "      <td>GREEN</td>\n",
       "    </tr>\n",
       "  </tbody>\n",
       "</table>\n",
       "<p>6250 rows × 2 columns</p>\n",
       "</div>"
      ],
      "text/plain": [
       "                                                   text       category\n",
       "0     the mistake that leads to better brownies most...   FOOD & DRINK\n",
       "1     after the shooting at spu desolation consolati...       RELIGION\n",
       "2     gordon ramsay sued over unpaid wages by employ...       BUSINESS\n",
       "3     fire breaks out at mexico s top refinery 9 peo...     WORLD NEWS\n",
       "4     20 ways to make your marriage stronger grooms ...       WEDDINGS\n",
       "...                                                 ...            ...\n",
       "6245  scott weiland died from toxic mix of drugs acc...  ENTERTAINMENT\n",
       "6246  15 reasons why october is the best time to vis...         TRAVEL\n",
       "6247  teen allegedly held captive is feeling a lot b...          CRIME\n",
       "6248  take a look at the best animal photos of the week          GREEN\n",
       "6249  dramatic photos show texas under water with fl...          GREEN\n",
       "\n",
       "[6250 rows x 2 columns]"
      ]
     },
     "execution_count": 14,
     "metadata": {},
     "output_type": "execute_result"
    }
   ],
   "source": [
    "df_test"
   ]
  },
  {
   "cell_type": "code",
   "execution_count": 15,
   "metadata": {},
   "outputs": [
    {
     "name": "stdout",
     "output_type": "stream",
     "text": [
      "Confidence Threshold: 0.05\n",
      "Percent of predictions that include correct class: 78.72%\n",
      "Multi_guess discount score: 64.67%\n",
      "Multi_positive_outcome discount score: 78.74%\n",
      "Percent of non-preds: 0.02% \n",
      "Percent of wrong preds: 21.26%\n",
      "===========================================================================\n",
      "Confidence Threshold: 0.1\n",
      "Percent of predictions that include correct class: 71.89%\n",
      "Multi_guess discount score: 64.76%\n",
      "Multi_positive_outcome discount score: 72.66%\n",
      "Percent of non-preds: 0.77% \n",
      "Percent of wrong preds: 27.34%\n",
      "===========================================================================\n",
      "Confidence Threshold: 0.15000000000000002\n",
      "Percent of predictions that include correct class: 67.44%\n",
      "Multi_guess discount score: 63.15%\n",
      "Multi_positive_outcome discount score: 70.93%\n",
      "Percent of non-preds: 3.49% \n",
      "Percent of wrong preds: 29.07%\n",
      "===========================================================================\n",
      "Confidence Threshold: 0.2\n",
      "Percent of predictions that include correct class: 63.04%\n",
      "Multi_guess discount score: 60.8%\n",
      "Multi_positive_outcome discount score: 71.09%\n",
      "Percent of non-preds: 8.05% \n",
      "Percent of wrong preds: 28.91%\n",
      "===========================================================================\n",
      "Confidence Threshold: 0.25\n",
      "Percent of predictions that include correct class: 59.55%\n",
      "Multi_guess discount score: 58.53%\n",
      "Multi_positive_outcome discount score: 71.95%\n",
      "Percent of non-preds: 12.4% \n",
      "Percent of wrong preds: 28.05%\n",
      "===========================================================================\n",
      "Confidence Threshold: 0.3\n",
      "Percent of predictions that include correct class: 57.17%\n",
      "Multi_guess discount score: 56.75%\n",
      "Multi_positive_outcome discount score: 73.95%\n",
      "Percent of non-preds: 16.78% \n",
      "Percent of wrong preds: 26.05%\n",
      "===========================================================================\n",
      "Confidence Threshold: 0.35000000000000003\n",
      "Percent of predictions that include correct class: 54.75%\n",
      "Multi_guess discount score: 54.58%\n",
      "Multi_positive_outcome discount score: 76.37%\n",
      "Percent of non-preds: 21.62% \n",
      "Percent of wrong preds: 23.63%\n",
      "===========================================================================\n",
      "Confidence Threshold: 0.4\n",
      "Percent of predictions that include correct class: 52.58%\n",
      "Multi_guess discount score: 52.51%\n",
      "Multi_positive_outcome discount score: 79.04%\n",
      "Percent of non-preds: 26.46% \n",
      "Percent of wrong preds: 20.96%\n",
      "===========================================================================\n",
      "Confidence Threshold: 0.45\n",
      "Percent of predictions that include correct class: 49.9%\n",
      "Multi_guess discount score: 49.9%\n",
      "Multi_positive_outcome discount score: 82.0%\n",
      "Percent of non-preds: 32.1% \n",
      "Percent of wrong preds: 18.0%\n",
      "===========================================================================\n",
      "Confidence Threshold: 0.5\n",
      "Percent of predictions that include correct class: 48.13%\n",
      "Multi_guess discount score: 48.13%\n",
      "Multi_positive_outcome discount score: 84.06%\n",
      "Percent of non-preds: 35.94% \n",
      "Percent of wrong preds: 15.94%\n",
      "===========================================================================\n",
      "Confidence Threshold: 0.55\n",
      "Percent of predictions that include correct class: 46.1%\n",
      "Multi_guess discount score: 46.1%\n",
      "Multi_positive_outcome discount score: 86.08%\n",
      "Percent of non-preds: 39.98% \n",
      "Percent of wrong preds: 13.92%\n",
      "===========================================================================\n",
      "Confidence Threshold: 0.6000000000000001\n",
      "Percent of predictions that include correct class: 44.06%\n",
      "Multi_guess discount score: 44.06%\n",
      "Multi_positive_outcome discount score: 88.1%\n",
      "Percent of non-preds: 44.03% \n",
      "Percent of wrong preds: 11.9%\n",
      "===========================================================================\n",
      "Confidence Threshold: 0.6500000000000001\n",
      "Percent of predictions that include correct class: 41.36%\n",
      "Multi_guess discount score: 41.36%\n",
      "Multi_positive_outcome discount score: 89.79%\n",
      "Percent of non-preds: 48.43% \n",
      "Percent of wrong preds: 10.21%\n",
      "===========================================================================\n",
      "Confidence Threshold: 0.7000000000000001\n",
      "Percent of predictions that include correct class: 37.74%\n",
      "Multi_guess discount score: 37.74%\n",
      "Multi_positive_outcome discount score: 91.81%\n",
      "Percent of non-preds: 54.06% \n",
      "Percent of wrong preds: 8.19%\n",
      "===========================================================================\n",
      "Confidence Threshold: 0.7500000000000001\n",
      "Percent of predictions that include correct class: 33.46%\n",
      "Multi_guess discount score: 33.46%\n",
      "Multi_positive_outcome discount score: 93.47%\n",
      "Percent of non-preds: 60.02% \n",
      "Percent of wrong preds: 6.53%\n",
      "===========================================================================\n",
      "Confidence Threshold: 0.8\n",
      "Percent of predictions that include correct class: 30.18%\n",
      "Multi_guess discount score: 30.18%\n",
      "Multi_positive_outcome discount score: 94.64%\n",
      "Percent of non-preds: 64.46% \n",
      "Percent of wrong preds: 5.36%\n",
      "===========================================================================\n",
      "Confidence Threshold: 0.8500000000000001\n",
      "Percent of predictions that include correct class: 21.42%\n",
      "Multi_guess discount score: 21.42%\n",
      "Multi_positive_outcome discount score: 96.66%\n",
      "Percent of non-preds: 75.23% \n",
      "Percent of wrong preds: 3.34%\n",
      "===========================================================================\n",
      "Confidence Threshold: 0.9000000000000001\n",
      "Percent of predictions that include correct class: 13.66%\n",
      "Multi_guess discount score: 13.66%\n",
      "Multi_positive_outcome discount score: 98.24%\n",
      "Percent of non-preds: 84.58% \n",
      "Percent of wrong preds: 1.76%\n",
      "===========================================================================\n",
      "Confidence Threshold: 0.9500000000000001\n",
      "Percent of predictions that include correct class: 2.8%\n",
      "Multi_guess discount score: 2.8%\n",
      "Multi_positive_outcome discount score: 99.9%\n",
      "Percent of non-preds: 97.1% \n",
      "Percent of wrong preds: 0.1%\n",
      "===========================================================================\n"
     ]
    },
    {
     "data": {
      "image/png": "[encoded data removed]",
      "text/plain": [
       "<Figure size 1000x600 with 1 Axes>"
      ]
     },
     "metadata": {},
     "output_type": "display_data"
    }
   ],
   "source": [
    "ROWS_TO_EVALUATE = len(df_test)\n",
    "TOP_N_PREDS = 5\n",
    "\n",
    "thresholds = []\n",
    "percent_correct_list = []\n",
    "percent_correct_discount_list = []\n",
    "percent_correct_non_preds_list = []\n",
    "percent_non_preds_list = []\n",
    "percent_wrong_preds_list = []\n",
    "\n",
    "\n",
    "for CONFIDENCE_THRESHOLD in np.arange(0.05, 1, 0.05):\n",
    "    df_test[\"predicted_class\"] = df_test[\"text\"][:ROWS_TO_EVALUATE].apply(\n",
    "        predict_class, args=(tokenizer, trainer, id2label, CONFIDENCE_THRESHOLD)\n",
    "    )\n",
    "\n",
    "    df_test[\"correct\"] = df_test[:ROWS_TO_EVALUATE].apply(\n",
    "        lambda row: int(row[\"category\"] in row[\"predicted_class\"]), axis=1\n",
    "    )\n",
    "\n",
    "    df_test[\"correct_w_discount\"] = df_test[:ROWS_TO_EVALUATE].apply(\n",
    "        multi_cat_guess_penalty, axis=1, args=(0.9,)\n",
    "    )\n",
    "\n",
    "    df_test[\"correct_w_non_preds\"] = df_test[:ROWS_TO_EVALUATE].apply(\n",
    "        multi_positive_outcome, axis=1\n",
    "    )\n",
    "\n",
    "    df_test[\"top_n_preds\"] = df_test[\"text\"][:ROWS_TO_EVALUATE].apply(\n",
    "        n_most_likely_classes, args=(tokenizer, trainer, id2label, TOP_N_PREDS)\n",
    "    )\n",
    "\n",
    "    percent_correct = (df_test[\"correct\"].sum() / ROWS_TO_EVALUATE) * 100\n",
    "    percent_correct_discount = (\n",
    "        df_test[\"correct_w_discount\"].sum() / ROWS_TO_EVALUATE\n",
    "    ) * 100\n",
    "    percent_correct_non_preds = (\n",
    "        df_test[\"correct_w_non_preds\"].sum() / ROWS_TO_EVALUATE\n",
    "    ) * 100\n",
    "\n",
    "    percent_non_preds = (\n",
    "        len(df_test[df_test.predicted_class.str.len() == 0]) / ROWS_TO_EVALUATE\n",
    "    ) * 100\n",
    "    percent_wrong_preds = (\n",
    "        1 - (df_test.correct_w_non_preds.sum() / ROWS_TO_EVALUATE)\n",
    "    ) * 100\n",
    "\n",
    "    thresholds.append(CONFIDENCE_THRESHOLD)\n",
    "    percent_correct_list.append(percent_correct)\n",
    "    percent_correct_discount_list.append(percent_correct_discount)\n",
    "    percent_correct_non_preds_list.append(percent_correct_non_preds)\n",
    "    percent_non_preds_list.append(percent_non_preds)\n",
    "    percent_wrong_preds_list.append(percent_wrong_preds)\n",
    "\n",
    "    print(f\"Confidence Threshold: {CONFIDENCE_THRESHOLD}\")\n",
    "    print(\n",
    "        f\"Percent of predictions that include correct class: {round(percent_correct, 2)}%\"\n",
    "    )\n",
    "    print(f\"Multi_guess discount score: {round(percent_correct_discount, 2)}%\")\n",
    "    print(\n",
    "        f\"Multi_positive_outcome discount score: {round(percent_correct_non_preds, 2)}%\"\n",
    "    )\n",
    "    print(f\"Percent of non-preds: {round(percent_non_preds, 2)}% \")\n",
    "    print(f\"Percent of wrong preds: {round(percent_wrong_preds, 2)}%\")\n",
    "    print(\"=\" * 75)\n",
    "\n",
    "\n",
    "plt.figure(figsize=(10, 6))\n",
    "plt.plot(thresholds, percent_correct_list, marker=\"o\", label=\"Correct\")\n",
    "plt.plot(\n",
    "    thresholds, percent_correct_discount_list, marker=\"o\", label=\"Multi-guess Discount\"\n",
    ")\n",
    "plt.plot(\n",
    "    thresholds,\n",
    "    percent_correct_non_preds_list,\n",
    "    marker=\"o\",\n",
    "    label=\"Multi-positive-outcome\",\n",
    ")\n",
    "\n",
    "plt.plot(thresholds, percent_non_preds_list, marker=\"o\", label=\"Non-preds\")\n",
    "plt.plot(thresholds, percent_wrong_preds_list, marker=\"o\", label=\"Wrong Preds\")\n",
    "\n",
    "\n",
    "plt.xlabel(\"Confidence Threshold\")\n",
    "plt.ylabel(\"Percentage (%)\")\n",
    "plt.title(\"Effect of Confidence Threshold on Performance\")\n",
    "plt.legend()\n",
    "plt.grid(False)\n",
    "plt.show()"
   ]
  },
  {
   "cell_type": "code",
   "execution_count": 16,
   "metadata": {},
   "outputs": [],
   "source": [
    "data = {\n",
    "    \"threshold\": thresholds,\n",
    "    \"correct\": percent_correct_list,\n",
    "    \"correct_discount\": percent_correct_discount_list,\n",
    "    \"correct_non_preds\": percent_correct_non_preds_list,\n",
    "    \"non_preds\": percent_non_preds_list,\n",
    "    \"wrong_preds\": percent_wrong_preds_list,\n",
    "}"
   ]
  },
  {
   "cell_type": "code",
   "execution_count": 17,
   "metadata": {},
   "outputs": [],
   "source": [
    "results_df = pd.DataFrame(data)\n",
    "results_df = results_df.round(2)"
   ]
  },
  {
   "cell_type": "code",
   "execution_count": 18,
   "metadata": {},
   "outputs": [
    {
     "data": {
      "text/html": [
       "<div>\n",
       "<style scoped>\n",
       "    .dataframe tbody tr th:only-of-type {\n",
       "        vertical-align: middle;\n",
       "    }\n",
       "\n",
       "    .dataframe tbody tr th {\n",
       "        vertical-align: top;\n",
       "    }\n",
       "\n",
       "    .dataframe thead th {\n",
       "        text-align: right;\n",
       "    }\n",
       "</style>\n",
       "<table border=\"1\" class=\"dataframe\">\n",
       "  <thead>\n",
       "    <tr style=\"text-align: right;\">\n",
       "      <th></th>\n",
       "      <th>threshold</th>\n",
       "      <th>correct</th>\n",
       "      <th>correct_discount</th>\n",
       "      <th>correct_non_preds</th>\n",
       "      <th>non_preds</th>\n",
       "      <th>wrong_preds</th>\n",
       "    </tr>\n",
       "  </thead>\n",
       "  <tbody>\n",
       "    <tr>\n",
       "      <th>0</th>\n",
       "      <td>0.05</td>\n",
       "      <td>78.72</td>\n",
       "      <td>64.67</td>\n",
       "      <td>78.74</td>\n",
       "      <td>0.02</td>\n",
       "      <td>21.26</td>\n",
       "    </tr>\n",
       "    <tr>\n",
       "      <th>1</th>\n",
       "      <td>0.10</td>\n",
       "      <td>71.89</td>\n",
       "      <td>64.76</td>\n",
       "      <td>72.66</td>\n",
       "      <td>0.77</td>\n",
       "      <td>27.34</td>\n",
       "    </tr>\n",
       "    <tr>\n",
       "      <th>2</th>\n",
       "      <td>0.15</td>\n",
       "      <td>67.44</td>\n",
       "      <td>63.15</td>\n",
       "      <td>70.93</td>\n",
       "      <td>3.49</td>\n",
       "      <td>29.07</td>\n",
       "    </tr>\n",
       "    <tr>\n",
       "      <th>3</th>\n",
       "      <td>0.20</td>\n",
       "      <td>63.04</td>\n",
       "      <td>60.80</td>\n",
       "      <td>71.09</td>\n",
       "      <td>8.05</td>\n",
       "      <td>28.91</td>\n",
       "    </tr>\n",
       "    <tr>\n",
       "      <th>4</th>\n",
       "      <td>0.25</td>\n",
       "      <td>59.55</td>\n",
       "      <td>58.53</td>\n",
       "      <td>71.95</td>\n",
       "      <td>12.40</td>\n",
       "      <td>28.05</td>\n",
       "    </tr>\n",
       "    <tr>\n",
       "      <th>5</th>\n",
       "      <td>0.30</td>\n",
       "      <td>57.17</td>\n",
       "      <td>56.75</td>\n",
       "      <td>73.95</td>\n",
       "      <td>16.78</td>\n",
       "      <td>26.05</td>\n",
       "    </tr>\n",
       "    <tr>\n",
       "      <th>6</th>\n",
       "      <td>0.35</td>\n",
       "      <td>54.75</td>\n",
       "      <td>54.58</td>\n",
       "      <td>76.37</td>\n",
       "      <td>21.62</td>\n",
       "      <td>23.63</td>\n",
       "    </tr>\n",
       "    <tr>\n",
       "      <th>7</th>\n",
       "      <td>0.40</td>\n",
       "      <td>52.58</td>\n",
       "      <td>52.51</td>\n",
       "      <td>79.04</td>\n",
       "      <td>26.46</td>\n",
       "      <td>20.96</td>\n",
       "    </tr>\n",
       "    <tr>\n",
       "      <th>8</th>\n",
       "      <td>0.45</td>\n",
       "      <td>49.90</td>\n",
       "      <td>49.90</td>\n",
       "      <td>82.00</td>\n",
       "      <td>32.10</td>\n",
       "      <td>18.00</td>\n",
       "    </tr>\n",
       "    <tr>\n",
       "      <th>9</th>\n",
       "      <td>0.50</td>\n",
       "      <td>48.13</td>\n",
       "      <td>48.13</td>\n",
       "      <td>84.06</td>\n",
       "      <td>35.94</td>\n",
       "      <td>15.94</td>\n",
       "    </tr>\n",
       "    <tr>\n",
       "      <th>10</th>\n",
       "      <td>0.55</td>\n",
       "      <td>46.10</td>\n",
       "      <td>46.10</td>\n",
       "      <td>86.08</td>\n",
       "      <td>39.98</td>\n",
       "      <td>13.92</td>\n",
       "    </tr>\n",
       "    <tr>\n",
       "      <th>11</th>\n",
       "      <td>0.60</td>\n",
       "      <td>44.06</td>\n",
       "      <td>44.06</td>\n",
       "      <td>88.10</td>\n",
       "      <td>44.03</td>\n",
       "      <td>11.90</td>\n",
       "    </tr>\n",
       "    <tr>\n",
       "      <th>12</th>\n",
       "      <td>0.65</td>\n",
       "      <td>41.36</td>\n",
       "      <td>41.36</td>\n",
       "      <td>89.79</td>\n",
       "      <td>48.43</td>\n",
       "      <td>10.21</td>\n",
       "    </tr>\n",
       "    <tr>\n",
       "      <th>13</th>\n",
       "      <td>0.70</td>\n",
       "      <td>37.74</td>\n",
       "      <td>37.74</td>\n",
       "      <td>91.81</td>\n",
       "      <td>54.06</td>\n",
       "      <td>8.19</td>\n",
       "    </tr>\n",
       "    <tr>\n",
       "      <th>14</th>\n",
       "      <td>0.75</td>\n",
       "      <td>33.46</td>\n",
       "      <td>33.46</td>\n",
       "      <td>93.47</td>\n",
       "      <td>60.02</td>\n",
       "      <td>6.53</td>\n",
       "    </tr>\n",
       "    <tr>\n",
       "      <th>15</th>\n",
       "      <td>0.80</td>\n",
       "      <td>30.18</td>\n",
       "      <td>30.18</td>\n",
       "      <td>94.64</td>\n",
       "      <td>64.46</td>\n",
       "      <td>5.36</td>\n",
       "    </tr>\n",
       "    <tr>\n",
       "      <th>16</th>\n",
       "      <td>0.85</td>\n",
       "      <td>21.42</td>\n",
       "      <td>21.42</td>\n",
       "      <td>96.66</td>\n",
       "      <td>75.23</td>\n",
       "      <td>3.34</td>\n",
       "    </tr>\n",
       "    <tr>\n",
       "      <th>17</th>\n",
       "      <td>0.90</td>\n",
       "      <td>13.66</td>\n",
       "      <td>13.66</td>\n",
       "      <td>98.24</td>\n",
       "      <td>84.58</td>\n",
       "      <td>1.76</td>\n",
       "    </tr>\n",
       "    <tr>\n",
       "      <th>18</th>\n",
       "      <td>0.95</td>\n",
       "      <td>2.80</td>\n",
       "      <td>2.80</td>\n",
       "      <td>99.90</td>\n",
       "      <td>97.10</td>\n",
       "      <td>0.10</td>\n",
       "    </tr>\n",
       "  </tbody>\n",
       "</table>\n",
       "</div>"
      ],
      "text/plain": [
       "    threshold  correct  correct_discount  correct_non_preds  non_preds  \\\n",
       "0        0.05    78.72             64.67              78.74       0.02   \n",
       "1        0.10    71.89             64.76              72.66       0.77   \n",
       "2        0.15    67.44             63.15              70.93       3.49   \n",
       "3        0.20    63.04             60.80              71.09       8.05   \n",
       "4        0.25    59.55             58.53              71.95      12.40   \n",
       "5        0.30    57.17             56.75              73.95      16.78   \n",
       "6        0.35    54.75             54.58              76.37      21.62   \n",
       "7        0.40    52.58             52.51              79.04      26.46   \n",
       "8        0.45    49.90             49.90              82.00      32.10   \n",
       "9        0.50    48.13             48.13              84.06      35.94   \n",
       "10       0.55    46.10             46.10              86.08      39.98   \n",
       "11       0.60    44.06             44.06              88.10      44.03   \n",
       "12       0.65    41.36             41.36              89.79      48.43   \n",
       "13       0.70    37.74             37.74              91.81      54.06   \n",
       "14       0.75    33.46             33.46              93.47      60.02   \n",
       "15       0.80    30.18             30.18              94.64      64.46   \n",
       "16       0.85    21.42             21.42              96.66      75.23   \n",
       "17       0.90    13.66             13.66              98.24      84.58   \n",
       "18       0.95     2.80              2.80              99.90      97.10   \n",
       "\n",
       "    wrong_preds  \n",
       "0         21.26  \n",
       "1         27.34  \n",
       "2         29.07  \n",
       "3         28.91  \n",
       "4         28.05  \n",
       "5         26.05  \n",
       "6         23.63  \n",
       "7         20.96  \n",
       "8         18.00  \n",
       "9         15.94  \n",
       "10        13.92  \n",
       "11        11.90  \n",
       "12        10.21  \n",
       "13         8.19  \n",
       "14         6.53  \n",
       "15         5.36  \n",
       "16         3.34  \n",
       "17         1.76  \n",
       "18         0.10  "
      ]
     },
     "execution_count": 18,
     "metadata": {},
     "output_type": "execute_result"
    }
   ],
   "source": [
    "results_df"
   ]
  },
  {
   "cell_type": "code",
   "execution_count": null,
   "metadata": {},
   "outputs": [],
   "source": []
  }
 ],
 "metadata": {
  "kernelspec": {
   "display_name": "Python 3",
   "language": "python",
   "name": "python3"
  },
  "language_info": {
   "codemirror_mode": {
    "name": "ipython",
    "version": 3
   },
   "file_extension": ".py",
   "mimetype": "text/x-python",
   "name": "python",
   "nbconvert_exporter": "python",
   "pygments_lexer": "ipython3",
   "version": "3.10.12"
  },
  "orig_nbformat": 4
 },
 "nbformat": 4,
 "nbformat_minor": 2
}
